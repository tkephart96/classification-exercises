{
 "cells": [
  {
   "cell_type": "code",
   "execution_count": 1,
   "metadata": {},
   "outputs": [],
   "source": [
    "# imports\n",
    "import numpy as np\n",
    "import pandas as pd\n",
    "import matplotlib.pyplot as plt\n",
    "from acquire import get_titanic_data\n",
    "from prepare import prep_split_titanic_drp_age,prep_split_titanic_imp_age,prep_split_titanic_drp_null_age\n",
    "from sklearn.metrics import classification_report,confusion_matrix, ConfusionMatrixDisplay\n",
    "from sklearn.linear_model import LogisticRegression"
   ]
  },
  {
   "attachments": {},
   "cell_type": "markdown",
   "metadata": {},
   "source": [
    "# Logistic Regression"
   ]
  },
  {
   "attachments": {},
   "cell_type": "markdown",
   "metadata": {},
   "source": [
    "What is it?\n",
    "- a machine learning algorithm used for predicting categorical target variables\n",
    "- Pipeline: Plan - Acquire - Prepare - Explore - **Model** - Deliver\n",
    "\n",
    "Why do we care?\n",
    "- we can predict future target variables based on the model we build! \n",
    "\n",
    "How do we use it?\n",
    "- acquire, prepare, explore our data\n",
    "- split data for modeling\n",
    "- build models on train\n",
    "    - create rules based on our input data\n",
    "- evaluate models on train & validate\n",
    "    - see how our rules work on unseen data\n",
    "- pick best of the best model, and evaluate bestest model on test"
   ]
  },
  {
   "cell_type": "markdown",
   "metadata": {},
   "source": [
    "### change hyperparameter\n",
    "#### Regularization:\n",
    "- Keep model simple\n",
    "- Constraints the coefficients\n",
    "\n",
    "\n",
    "#### C = Inverse of regularization strength:\n",
    "\n",
    "- Lower C is higher regularization\n",
    "- Lower C discourages learning more complex model"
   ]
  },
  {
   "attachments": {},
   "cell_type": "markdown",
   "metadata": {},
   "source": [
    "## Exercises\n",
    "work with `titanic` data"
   ]
  },
  {
   "cell_type": "code",
   "execution_count": 2,
   "metadata": {},
   "outputs": [
    {
     "name": "stdout",
     "output_type": "stream",
     "text": [
      "csv file found and loaded\n",
      "data cleaned and prepped\n",
      "data split\n",
      "train -> (428, 12); 59.94%\n",
      "validate -> (143, 12); 20.03%\n",
      "test -> (143, 12); 20.03%\n"
     ]
    },
    {
     "data": {
      "text/html": [
       "<div>\n",
       "<style scoped>\n",
       "    .dataframe tbody tr th:only-of-type {\n",
       "        vertical-align: middle;\n",
       "    }\n",
       "\n",
       "    .dataframe tbody tr th {\n",
       "        vertical-align: top;\n",
       "    }\n",
       "\n",
       "    .dataframe thead th {\n",
       "        text-align: right;\n",
       "    }\n",
       "</style>\n",
       "<table border=\"1\" class=\"dataframe\">\n",
       "  <thead>\n",
       "    <tr style=\"text-align: right;\">\n",
       "      <th></th>\n",
       "      <th>survived</th>\n",
       "      <th>pclass</th>\n",
       "      <th>sex</th>\n",
       "      <th>age</th>\n",
       "      <th>sibsp</th>\n",
       "      <th>parch</th>\n",
       "      <th>fare</th>\n",
       "      <th>embarked</th>\n",
       "      <th>alone</th>\n",
       "      <th>sex_male</th>\n",
       "      <th>embarked_Q</th>\n",
       "      <th>embarked_S</th>\n",
       "    </tr>\n",
       "  </thead>\n",
       "  <tbody>\n",
       "    <tr>\n",
       "      <th>605</th>\n",
       "      <td>0</td>\n",
       "      <td>3</td>\n",
       "      <td>male</td>\n",
       "      <td>36.0</td>\n",
       "      <td>1</td>\n",
       "      <td>0</td>\n",
       "      <td>15.55</td>\n",
       "      <td>S</td>\n",
       "      <td>0</td>\n",
       "      <td>1</td>\n",
       "      <td>0</td>\n",
       "      <td>1</td>\n",
       "    </tr>\n",
       "  </tbody>\n",
       "</table>\n",
       "</div>"
      ],
      "text/plain": [
       "     survived  pclass   sex   age  sibsp  parch   fare embarked  alone  \\\n",
       "605         0       3  male  36.0      1      0  15.55        S      0   \n",
       "\n",
       "     sex_male  embarked_Q  embarked_S  \n",
       "605         1           0           1  "
      ]
     },
     "execution_count": 2,
     "metadata": {},
     "output_type": "execute_result"
    }
   ],
   "source": [
    "df = get_titanic_data()\n",
    "# tr,v,t = prep_split_titanic_drp_age(df)\n",
    "# tr,v,t = prep_split_titanic_imp_age(df)\n",
    "tr,v,t = prep_split_titanic_drp_null_age(df)\n",
    "tr.sample()"
   ]
  },
  {
   "cell_type": "code",
   "execution_count": 3,
   "metadata": {},
   "outputs": [],
   "source": [
    "Xtr = tr.drop(columns=['survived','sex','embarked'])\n",
    "Xv = v.drop(columns=['survived','sex','embarked'])\n",
    "Xt = t.drop(columns=['survived','sex','embarked'])\n",
    "ytr = tr.survived\n",
    "yv = v.survived\n",
    "yt = t.survived"
   ]
  },
  {
   "cell_type": "code",
   "execution_count": 4,
   "metadata": {},
   "outputs": [
    {
     "data": {
      "text/plain": [
       "(0.5934579439252337, 0)"
      ]
     },
     "execution_count": 4,
     "metadata": {},
     "output_type": "execute_result"
    }
   ],
   "source": [
    "# 0 (not survived) most common\n",
    "# drp_null_age baseline = 0.5934579439252337\n",
    "def baseline(ytr):\n",
    "    b = (ytr==ytr.value_counts().idxmax()).mean()\n",
    "    return b, ytr.value_counts().idxmax()\n",
    "baseline(ytr)"
   ]
  },
  {
   "attachments": {},
   "cell_type": "markdown",
   "metadata": {},
   "source": [
    "### 1. Create a model that includes only age, fare, and pclass. Does this model perform better than your baseline?\n",
    "\n"
   ]
  },
  {
   "cell_type": "code",
   "execution_count": 5,
   "metadata": {},
   "outputs": [],
   "source": [
    "features = ['age','fare','pclass']"
   ]
  },
  {
   "cell_type": "code",
   "execution_count": 6,
   "metadata": {},
   "outputs": [],
   "source": [
    "l = LogisticRegression(random_state=42)\n",
    "l.fit(Xtr[features],ytr)\n",
    "ytr_pred = l.predict(Xtr[features])"
   ]
  },
  {
   "cell_type": "code",
   "execution_count": 7,
   "metadata": {},
   "outputs": [
    {
     "data": {
      "text/plain": [
       "(array([[-0.04438556,  0.00750615, -1.04081893]]),\n",
       " Index(['age', 'fare', 'pclass'], dtype='object'))"
      ]
     },
     "execution_count": 7,
     "metadata": {},
     "output_type": "execute_result"
    }
   ],
   "source": [
    "l.coef_,Xtr[features].columns"
   ]
  },
  {
   "cell_type": "code",
   "execution_count": 8,
   "metadata": {},
   "outputs": [
    {
     "data": {
      "text/plain": [
       "0.7149532710280374"
      ]
     },
     "execution_count": 8,
     "metadata": {},
     "output_type": "execute_result"
    }
   ],
   "source": [
    "l.score(Xtr[features],ytr)"
   ]
  },
  {
   "cell_type": "code",
   "execution_count": 9,
   "metadata": {},
   "outputs": [],
   "source": [
    "def cmd(ytr,y_pred,labels=l.classes_):\n",
    "    ConfusionMatrixDisplay(confusion_matrix(ytr,y_pred,labels=labels),display_labels=labels).plot()\n",
    "    plt.show()"
   ]
  },
  {
   "cell_type": "code",
   "execution_count": 10,
   "metadata": {},
   "outputs": [
    {
     "data": {
      "image/png": "[encoded data removed]",
      "text/plain": [
       "<Figure size 640x480 with 2 Axes>"
      ]
     },
     "metadata": {},
     "output_type": "display_data"
    }
   ],
   "source": [
    "cmd(ytr,ytr_pred)"
   ]
  },
  {
   "cell_type": "code",
   "execution_count": 11,
   "metadata": {},
   "outputs": [
    {
     "data": {
      "text/html": [
       "<div>\n",
       "<style scoped>\n",
       "    .dataframe tbody tr th:only-of-type {\n",
       "        vertical-align: middle;\n",
       "    }\n",
       "\n",
       "    .dataframe tbody tr th {\n",
       "        vertical-align: top;\n",
       "    }\n",
       "\n",
       "    .dataframe thead th {\n",
       "        text-align: right;\n",
       "    }\n",
       "</style>\n",
       "<table border=\"1\" class=\"dataframe\">\n",
       "  <thead>\n",
       "    <tr style=\"text-align: right;\">\n",
       "      <th></th>\n",
       "      <th>0</th>\n",
       "      <th>1</th>\n",
       "      <th>accuracy</th>\n",
       "      <th>macro avg</th>\n",
       "      <th>weighted avg</th>\n",
       "    </tr>\n",
       "  </thead>\n",
       "  <tbody>\n",
       "    <tr>\n",
       "      <th>precision</th>\n",
       "      <td>0.715686</td>\n",
       "      <td>0.713115</td>\n",
       "      <td>0.714953</td>\n",
       "      <td>0.714401</td>\n",
       "      <td>0.714641</td>\n",
       "    </tr>\n",
       "    <tr>\n",
       "      <th>recall</th>\n",
       "      <td>0.862205</td>\n",
       "      <td>0.500000</td>\n",
       "      <td>0.714953</td>\n",
       "      <td>0.681102</td>\n",
       "      <td>0.714953</td>\n",
       "    </tr>\n",
       "    <tr>\n",
       "      <th>f1-score</th>\n",
       "      <td>0.782143</td>\n",
       "      <td>0.587838</td>\n",
       "      <td>0.714953</td>\n",
       "      <td>0.684990</td>\n",
       "      <td>0.703150</td>\n",
       "    </tr>\n",
       "    <tr>\n",
       "      <th>support</th>\n",
       "      <td>254.000000</td>\n",
       "      <td>174.000000</td>\n",
       "      <td>0.714953</td>\n",
       "      <td>428.000000</td>\n",
       "      <td>428.000000</td>\n",
       "    </tr>\n",
       "  </tbody>\n",
       "</table>\n",
       "</div>"
      ],
      "text/plain": [
       "                    0           1  accuracy   macro avg  weighted avg\n",
       "precision    0.715686    0.713115  0.714953    0.714401      0.714641\n",
       "recall       0.862205    0.500000  0.714953    0.681102      0.714953\n",
       "f1-score     0.782143    0.587838  0.714953    0.684990      0.703150\n",
       "support    254.000000  174.000000  0.714953  428.000000    428.000000"
      ]
     },
     "execution_count": 11,
     "metadata": {},
     "output_type": "execute_result"
    }
   ],
   "source": [
    "pd.DataFrame(classification_report(ytr,ytr_pred,output_dict=True))"
   ]
  },
  {
   "cell_type": "code",
   "execution_count": 12,
   "metadata": {},
   "outputs": [
    {
     "data": {
      "text/plain": [
       "((0.5934579439252337, 0), 0.7149532710280374)"
      ]
     },
     "execution_count": 12,
     "metadata": {},
     "output_type": "execute_result"
    }
   ],
   "source": [
    "# drp_null_age baseline acc = 0.5934579439252337\n",
    "# drp_null_age[age,fare,pclass] acc = 0.7149532710280374\n",
    "baseline(ytr),l.score(Xtr[features],ytr)"
   ]
  },
  {
   "attachments": {},
   "cell_type": "markdown",
   "metadata": {},
   "source": [
    "### 2. Include sex in your model as well. Note that you'll need to encode or create a dummy variable of this feature before including it in a model.\n",
    "\n"
   ]
  },
  {
   "cell_type": "code",
   "execution_count": 13,
   "metadata": {},
   "outputs": [],
   "source": [
    "features = ['age','fare','pclass','sex_male']"
   ]
  },
  {
   "cell_type": "code",
   "execution_count": 14,
   "metadata": {},
   "outputs": [],
   "source": [
    "l = LogisticRegression(random_state=42)\n",
    "l.fit(Xtr[features],ytr)\n",
    "ytr_pred = l.predict(Xtr[features])"
   ]
  },
  {
   "cell_type": "code",
   "execution_count": 15,
   "metadata": {},
   "outputs": [
    {
     "data": {
      "text/plain": [
       "(array([[-0.03940784,  0.00325799, -1.09151249, -2.2331381 ]]),\n",
       " Index(['age', 'fare', 'pclass', 'sex_male'], dtype='object'))"
      ]
     },
     "execution_count": 15,
     "metadata": {},
     "output_type": "execute_result"
    }
   ],
   "source": [
    "l.coef_,Xtr[features].columns"
   ]
  },
  {
   "cell_type": "code",
   "execution_count": 16,
   "metadata": {},
   "outputs": [
    {
     "data": {
      "text/plain": [
       "0.8037383177570093"
      ]
     },
     "execution_count": 16,
     "metadata": {},
     "output_type": "execute_result"
    }
   ],
   "source": [
    "l.score(Xtr[features],ytr)"
   ]
  },
  {
   "cell_type": "code",
   "execution_count": 17,
   "metadata": {},
   "outputs": [
    {
     "data": {
      "image/png": "[encoded data removed]",
      "text/plain": [
       "<Figure size 640x480 with 2 Axes>"
      ]
     },
     "metadata": {},
     "output_type": "display_data"
    }
   ],
   "source": [
    "cmd(ytr,ytr_pred)"
   ]
  },
  {
   "cell_type": "code",
   "execution_count": 18,
   "metadata": {},
   "outputs": [
    {
     "data": {
      "text/html": [
       "<div>\n",
       "<style scoped>\n",
       "    .dataframe tbody tr th:only-of-type {\n",
       "        vertical-align: middle;\n",
       "    }\n",
       "\n",
       "    .dataframe tbody tr th {\n",
       "        vertical-align: top;\n",
       "    }\n",
       "\n",
       "    .dataframe thead th {\n",
       "        text-align: right;\n",
       "    }\n",
       "</style>\n",
       "<table border=\"1\" class=\"dataframe\">\n",
       "  <thead>\n",
       "    <tr style=\"text-align: right;\">\n",
       "      <th></th>\n",
       "      <th>0</th>\n",
       "      <th>1</th>\n",
       "      <th>accuracy</th>\n",
       "      <th>macro avg</th>\n",
       "      <th>weighted avg</th>\n",
       "    </tr>\n",
       "  </thead>\n",
       "  <tbody>\n",
       "    <tr>\n",
       "      <th>precision</th>\n",
       "      <td>0.817164</td>\n",
       "      <td>0.781250</td>\n",
       "      <td>0.803738</td>\n",
       "      <td>0.799207</td>\n",
       "      <td>0.802564</td>\n",
       "    </tr>\n",
       "    <tr>\n",
       "      <th>recall</th>\n",
       "      <td>0.862205</td>\n",
       "      <td>0.718391</td>\n",
       "      <td>0.803738</td>\n",
       "      <td>0.790298</td>\n",
       "      <td>0.803738</td>\n",
       "    </tr>\n",
       "    <tr>\n",
       "      <th>f1-score</th>\n",
       "      <td>0.839080</td>\n",
       "      <td>0.748503</td>\n",
       "      <td>0.803738</td>\n",
       "      <td>0.793792</td>\n",
       "      <td>0.802257</td>\n",
       "    </tr>\n",
       "    <tr>\n",
       "      <th>support</th>\n",
       "      <td>254.000000</td>\n",
       "      <td>174.000000</td>\n",
       "      <td>0.803738</td>\n",
       "      <td>428.000000</td>\n",
       "      <td>428.000000</td>\n",
       "    </tr>\n",
       "  </tbody>\n",
       "</table>\n",
       "</div>"
      ],
      "text/plain": [
       "                    0           1  accuracy   macro avg  weighted avg\n",
       "precision    0.817164    0.781250  0.803738    0.799207      0.802564\n",
       "recall       0.862205    0.718391  0.803738    0.790298      0.803738\n",
       "f1-score     0.839080    0.748503  0.803738    0.793792      0.802257\n",
       "support    254.000000  174.000000  0.803738  428.000000    428.000000"
      ]
     },
     "execution_count": 18,
     "metadata": {},
     "output_type": "execute_result"
    }
   ],
   "source": [
    "pd.DataFrame(classification_report(ytr,ytr_pred,output_dict=True))"
   ]
  },
  {
   "cell_type": "code",
   "execution_count": 19,
   "metadata": {},
   "outputs": [
    {
     "data": {
      "text/plain": [
       "((0.5934579439252337, 0), 0.8037383177570093)"
      ]
     },
     "execution_count": 19,
     "metadata": {},
     "output_type": "execute_result"
    }
   ],
   "source": [
    "# drp_null_age baseline acc = 0.5934579439252337\n",
    "# drp_null_age[age,fare,pclass,sex_male] acc = 0.8037383177570093\n",
    "baseline(ytr),l.score(Xtr[features],ytr)"
   ]
  },
  {
   "attachments": {},
   "cell_type": "markdown",
   "metadata": {},
   "source": [
    "### 3. Try out other combinations of features and models.\n",
    "\n"
   ]
  },
  {
   "cell_type": "code",
   "execution_count": 20,
   "metadata": {},
   "outputs": [],
   "source": [
    "import itertools"
   ]
  },
  {
   "cell_type": "code",
   "execution_count": 21,
   "metadata": {},
   "outputs": [],
   "source": [
    "def feature_combos(Xtr,ytr,max_iter=100):\n",
    "    metrics = []\n",
    "    iterable = Xtr.columns.to_list()\n",
    "    for r in range(2,(len(iterable)+1)):\n",
    "        for feature in itertools.combinations(iterable,r):\n",
    "            f = list(feature)\n",
    "            l = LogisticRegression(random_state=42,max_iter=max_iter)\n",
    "            l.fit(Xtr[f],ytr)\n",
    "            ytr_score = l.score(Xtr[f],ytr)\n",
    "            # table-ize\n",
    "            output = {\n",
    "                'features':f,\n",
    "                'train_score':ytr_score,\n",
    "            }\n",
    "            metrics.append(output)\n",
    "    return pd.DataFrame(metrics)"
   ]
  },
  {
   "cell_type": "code",
   "execution_count": 22,
   "metadata": {},
   "outputs": [],
   "source": [
    "df = feature_combos(Xtr,ytr,250)"
   ]
  },
  {
   "cell_type": "code",
   "execution_count": 23,
   "metadata": {},
   "outputs": [
    {
     "data": {
      "text/plain": [
       "463    [pclass, age, sibsp, parch, alone, sex_male, e...\n",
       "376         [pclass, age, sibsp, parch, alone, sex_male]\n",
       "496    [pclass, age, sibsp, parch, alone, sex_male, e...\n",
       "Name: features, dtype: object"
      ]
     },
     "execution_count": 23,
     "metadata": {},
     "output_type": "execute_result"
    }
   ],
   "source": [
    "f = df.sort_values('train_score',ascending=False).head(3)['features']\n",
    "f"
   ]
  },
  {
   "cell_type": "code",
   "execution_count": 24,
   "metadata": {},
   "outputs": [
    {
     "data": {
      "text/plain": [
       "['pclass', 'age', 'sibsp', 'parch', 'alone', 'sex_male', 'embarked_S']"
      ]
     },
     "execution_count": 24,
     "metadata": {},
     "output_type": "execute_result"
    }
   ],
   "source": [
    "f[463]"
   ]
  },
  {
   "cell_type": "code",
   "execution_count": 25,
   "metadata": {},
   "outputs": [
    {
     "data": {
      "text/plain": [
       "['pclass', 'age', 'sibsp', 'parch', 'alone', 'sex_male']"
      ]
     },
     "execution_count": 25,
     "metadata": {},
     "output_type": "execute_result"
    }
   ],
   "source": [
    "f[376]"
   ]
  },
  {
   "cell_type": "code",
   "execution_count": 26,
   "metadata": {},
   "outputs": [
    {
     "data": {
      "text/plain": [
       "['pclass',\n",
       " 'age',\n",
       " 'sibsp',\n",
       " 'parch',\n",
       " 'alone',\n",
       " 'sex_male',\n",
       " 'embarked_Q',\n",
       " 'embarked_S']"
      ]
     },
     "execution_count": 26,
     "metadata": {},
     "output_type": "execute_result"
    }
   ],
   "source": [
    "f[496]"
   ]
  },
  {
   "attachments": {},
   "cell_type": "markdown",
   "metadata": {},
   "source": [
    "### 4. Use you best 3 models to predict and evaluate on your validate sample.\n",
    "\n"
   ]
  },
  {
   "cell_type": "code",
   "execution_count": 27,
   "metadata": {},
   "outputs": [
    {
     "data": {
      "text/html": [
       "<div>\n",
       "<style scoped>\n",
       "    .dataframe tbody tr th:only-of-type {\n",
       "        vertical-align: middle;\n",
       "    }\n",
       "\n",
       "    .dataframe tbody tr th {\n",
       "        vertical-align: top;\n",
       "    }\n",
       "\n",
       "    .dataframe thead th {\n",
       "        text-align: right;\n",
       "    }\n",
       "</style>\n",
       "<table border=\"1\" class=\"dataframe\">\n",
       "  <thead>\n",
       "    <tr style=\"text-align: right;\">\n",
       "      <th></th>\n",
       "      <th>features</th>\n",
       "      <th>train_score</th>\n",
       "      <th>val_score</th>\n",
       "    </tr>\n",
       "  </thead>\n",
       "  <tbody>\n",
       "    <tr>\n",
       "      <th>0</th>\n",
       "      <td>[pclass, age, sibsp, parch, alone, sex_male]</td>\n",
       "      <td>0.813084</td>\n",
       "      <td>0.783217</td>\n",
       "    </tr>\n",
       "    <tr>\n",
       "      <th>1</th>\n",
       "      <td>[pclass, age, sibsp, parch, alone, sex_male, e...</td>\n",
       "      <td>0.813084</td>\n",
       "      <td>0.790210</td>\n",
       "    </tr>\n",
       "    <tr>\n",
       "      <th>2</th>\n",
       "      <td>[pclass, age, sibsp, parch, alone, sex_male, e...</td>\n",
       "      <td>0.813084</td>\n",
       "      <td>0.790210</td>\n",
       "    </tr>\n",
       "  </tbody>\n",
       "</table>\n",
       "</div>"
      ],
      "text/plain": [
       "                                            features  train_score  val_score\n",
       "0       [pclass, age, sibsp, parch, alone, sex_male]     0.813084   0.783217\n",
       "1  [pclass, age, sibsp, parch, alone, sex_male, e...     0.813084   0.790210\n",
       "2  [pclass, age, sibsp, parch, alone, sex_male, e...     0.813084   0.790210"
      ]
     },
     "execution_count": 27,
     "metadata": {},
     "output_type": "execute_result"
    }
   ],
   "source": [
    "metrics = []\n",
    "for i in [f[376],f[463],f[496]]:\n",
    "    l = LogisticRegression(random_state=42,max_iter=250)\n",
    "    l.fit(Xtr[i],ytr)\n",
    "    ytr_score = l.score(Xtr[i],ytr)\n",
    "    yv_score = l.score(Xv[i],yv)\n",
    "    # table-ize\n",
    "    output = {\n",
    "        'features':i,\n",
    "        'train_score':ytr_score,\n",
    "        'val_score':yv_score,\n",
    "    }\n",
    "    metrics.append(output)\n",
    "pd.DataFrame(metrics)"
   ]
  },
  {
   "attachments": {},
   "cell_type": "markdown",
   "metadata": {},
   "source": [
    "### 5. Choose you best model from the validation performance, and evaluate it on the test dataset. How do the performance metrics compare to validate? to train?"
   ]
  },
  {
   "cell_type": "code",
   "execution_count": 28,
   "metadata": {},
   "outputs": [],
   "source": [
    "def l_scores(Xtr, ytr, Xv, yv, c=None, max_iter=100):\n",
    "    if c is None:\n",
    "        c = [.01,.1,1,10,100,1000]\n",
    "    #define variables\n",
    "    metrics = []\n",
    "    iterable = Xtr.columns.to_list()\n",
    "    for r in range(2,(len(iterable)+1)):\n",
    "        # for feature in itertools.combinations(iterable,r):\n",
    "        for feature,c_val in itertools.product(itertools.combinations(iterable,r),c):\n",
    "            f = list(feature)\n",
    "            l = LogisticRegression(C=c_val,random_state=42,max_iter=max_iter)\n",
    "            l.fit(Xtr[f],ytr)\n",
    "            ytr_score = l.score(Xtr[f],ytr)\n",
    "            yv_score = l.score(Xv[f],yv)\n",
    "            # table-ize\n",
    "            output = {\n",
    "                'features':f,\n",
    "                'c_value':c_val,\n",
    "                'train_score':ytr_score,\n",
    "                'val_score':yv_score,\n",
    "            }\n",
    "            metrics.append(output)\n",
    "    #Put results into a dataframe\n",
    "    df = pd.DataFrame(metrics)\n",
    "    # Calculate the difference between the train and validation scores\n",
    "    df['diff_score'] = abs(df.train_score - df.val_score)\n",
    "    df['avg_score'] = (df.train_score + df.val_score)/2\n",
    "    return df\n",
    "\n",
    "def score_plot(data, diff=0.1, score='avg_score', score_v=.7):\n",
    "    df = data[(data.diff_score<diff)&(data[score]>score_v)].sort_values([score, 'diff_score'], ascending=[False, True]).reset_index()\n",
    "    df = df.drop(columns='index')\n",
    "    # plot\n",
    "    plt.figure(figsize=(8, 5))\n",
    "    plt.plot(df.index, df.train_score, label='train', marker='o', color='blue')\n",
    "    plt.plot(df.index, df.val_score, label='validation', marker='o', color='orange')\n",
    "    plt.fill_between(df.index, df.train_score, df.val_score, alpha=0.2, color='gray')\n",
    "    plt.plot(df.index, df.avg_score, label='avg_score', marker='o', color='black')\n",
    "    plt.xlabel('index', fontsize=14)\n",
    "    plt.ylabel('Accuracy', fontsize=14)\n",
    "    plt.title('Logistic Regression Classifier Performance', fontsize=18)\n",
    "    plt.legend(fontsize=12)\n",
    "    plt.show()\n",
    "    return df"
   ]
  },
  {
   "cell_type": "code",
   "execution_count": 29,
   "metadata": {},
   "outputs": [],
   "source": [
    "df = l_scores(Xtr,ytr,Xv,yv,max_iter=500)"
   ]
  },
  {
   "cell_type": "code",
   "execution_count": 30,
   "metadata": {},
   "outputs": [
    {
     "data": {
      "text/html": [
       "<div>\n",
       "<style scoped>\n",
       "    .dataframe tbody tr th:only-of-type {\n",
       "        vertical-align: middle;\n",
       "    }\n",
       "\n",
       "    .dataframe tbody tr th {\n",
       "        vertical-align: top;\n",
       "    }\n",
       "\n",
       "    .dataframe thead th {\n",
       "        text-align: right;\n",
       "    }\n",
       "</style>\n",
       "<table border=\"1\" class=\"dataframe\">\n",
       "  <thead>\n",
       "    <tr style=\"text-align: right;\">\n",
       "      <th></th>\n",
       "      <th>features</th>\n",
       "      <th>c_value</th>\n",
       "      <th>train_score</th>\n",
       "      <th>val_score</th>\n",
       "      <th>diff_score</th>\n",
       "      <th>avg_score</th>\n",
       "    </tr>\n",
       "  </thead>\n",
       "  <tbody>\n",
       "    <tr>\n",
       "      <th>1449</th>\n",
       "      <td>[fare, alone, sex_male, embarked_Q]</td>\n",
       "      <td>10.0</td>\n",
       "      <td>0.78271</td>\n",
       "      <td>0.748252</td>\n",
       "      <td>0.034459</td>\n",
       "      <td>0.765481</td>\n",
       "    </tr>\n",
       "  </tbody>\n",
       "</table>\n",
       "</div>"
      ],
      "text/plain": [
       "                                 features  c_value  train_score  val_score  \\\n",
       "1449  [fare, alone, sex_male, embarked_Q]     10.0      0.78271   0.748252   \n",
       "\n",
       "      diff_score  avg_score  \n",
       "1449    0.034459   0.765481  "
      ]
     },
     "execution_count": 30,
     "metadata": {},
     "output_type": "execute_result"
    }
   ],
   "source": [
    "df.sample()"
   ]
  },
  {
   "cell_type": "code",
   "execution_count": 31,
   "metadata": {},
   "outputs": [
    {
     "data": {
      "image/png": "[encoded data removed]",
      "text/plain": [
       "<Figure size 800x500 with 1 Axes>"
      ]
     },
     "metadata": {},
     "output_type": "display_data"
    },
    {
     "data": {
      "text/html": [
       "<div>\n",
       "<style scoped>\n",
       "    .dataframe tbody tr th:only-of-type {\n",
       "        vertical-align: middle;\n",
       "    }\n",
       "\n",
       "    .dataframe tbody tr th {\n",
       "        vertical-align: top;\n",
       "    }\n",
       "\n",
       "    .dataframe thead th {\n",
       "        text-align: right;\n",
       "    }\n",
       "</style>\n",
       "<table border=\"1\" class=\"dataframe\">\n",
       "  <thead>\n",
       "    <tr style=\"text-align: right;\">\n",
       "      <th></th>\n",
       "      <th>features</th>\n",
       "      <th>c_value</th>\n",
       "      <th>train_score</th>\n",
       "      <th>val_score</th>\n",
       "      <th>diff_score</th>\n",
       "      <th>avg_score</th>\n",
       "    </tr>\n",
       "  </thead>\n",
       "  <tbody>\n",
       "    <tr>\n",
       "      <th>0</th>\n",
       "      <td>[pclass, age, alone, sex_male]</td>\n",
       "      <td>1.0</td>\n",
       "      <td>0.803738</td>\n",
       "      <td>0.804196</td>\n",
       "      <td>0.000457</td>\n",
       "      <td>0.803967</td>\n",
       "    </tr>\n",
       "    <tr>\n",
       "      <th>1</th>\n",
       "      <td>[pclass, age, alone, sex_male]</td>\n",
       "      <td>10.0</td>\n",
       "      <td>0.803738</td>\n",
       "      <td>0.804196</td>\n",
       "      <td>0.000457</td>\n",
       "      <td>0.803967</td>\n",
       "    </tr>\n",
       "    <tr>\n",
       "      <th>2</th>\n",
       "      <td>[pclass, age, alone, sex_male]</td>\n",
       "      <td>100.0</td>\n",
       "      <td>0.803738</td>\n",
       "      <td>0.804196</td>\n",
       "      <td>0.000457</td>\n",
       "      <td>0.803967</td>\n",
       "    </tr>\n",
       "    <tr>\n",
       "      <th>3</th>\n",
       "      <td>[pclass, age, alone, sex_male]</td>\n",
       "      <td>1000.0</td>\n",
       "      <td>0.803738</td>\n",
       "      <td>0.804196</td>\n",
       "      <td>0.000457</td>\n",
       "      <td>0.803967</td>\n",
       "    </tr>\n",
       "    <tr>\n",
       "      <th>4</th>\n",
       "      <td>[pclass, age, alone, sex_male, embarked_Q]</td>\n",
       "      <td>0.1</td>\n",
       "      <td>0.803738</td>\n",
       "      <td>0.804196</td>\n",
       "      <td>0.000457</td>\n",
       "      <td>0.803967</td>\n",
       "    </tr>\n",
       "    <tr>\n",
       "      <th>5</th>\n",
       "      <td>[pclass, age, alone, sex_male, embarked_Q]</td>\n",
       "      <td>1.0</td>\n",
       "      <td>0.803738</td>\n",
       "      <td>0.804196</td>\n",
       "      <td>0.000457</td>\n",
       "      <td>0.803967</td>\n",
       "    </tr>\n",
       "    <tr>\n",
       "      <th>6</th>\n",
       "      <td>[pclass, age, alone, sex_male, embarked_Q]</td>\n",
       "      <td>10.0</td>\n",
       "      <td>0.803738</td>\n",
       "      <td>0.804196</td>\n",
       "      <td>0.000457</td>\n",
       "      <td>0.803967</td>\n",
       "    </tr>\n",
       "    <tr>\n",
       "      <th>7</th>\n",
       "      <td>[pclass, age, alone, sex_male, embarked_Q]</td>\n",
       "      <td>100.0</td>\n",
       "      <td>0.803738</td>\n",
       "      <td>0.804196</td>\n",
       "      <td>0.000457</td>\n",
       "      <td>0.803967</td>\n",
       "    </tr>\n",
       "    <tr>\n",
       "      <th>8</th>\n",
       "      <td>[pclass, age, alone, sex_male, embarked_Q]</td>\n",
       "      <td>1000.0</td>\n",
       "      <td>0.803738</td>\n",
       "      <td>0.804196</td>\n",
       "      <td>0.000457</td>\n",
       "      <td>0.803967</td>\n",
       "    </tr>\n",
       "    <tr>\n",
       "      <th>9</th>\n",
       "      <td>[pclass, age, sex_male]</td>\n",
       "      <td>1.0</td>\n",
       "      <td>0.801402</td>\n",
       "      <td>0.797203</td>\n",
       "      <td>0.004199</td>\n",
       "      <td>0.799302</td>\n",
       "    </tr>\n",
       "  </tbody>\n",
       "</table>\n",
       "</div>"
      ],
      "text/plain": [
       "                                     features  c_value  train_score  \\\n",
       "0              [pclass, age, alone, sex_male]      1.0     0.803738   \n",
       "1              [pclass, age, alone, sex_male]     10.0     0.803738   \n",
       "2              [pclass, age, alone, sex_male]    100.0     0.803738   \n",
       "3              [pclass, age, alone, sex_male]   1000.0     0.803738   \n",
       "4  [pclass, age, alone, sex_male, embarked_Q]      0.1     0.803738   \n",
       "5  [pclass, age, alone, sex_male, embarked_Q]      1.0     0.803738   \n",
       "6  [pclass, age, alone, sex_male, embarked_Q]     10.0     0.803738   \n",
       "7  [pclass, age, alone, sex_male, embarked_Q]    100.0     0.803738   \n",
       "8  [pclass, age, alone, sex_male, embarked_Q]   1000.0     0.803738   \n",
       "9                     [pclass, age, sex_male]      1.0     0.801402   \n",
       "\n",
       "   val_score  diff_score  avg_score  \n",
       "0   0.804196    0.000457   0.803967  \n",
       "1   0.804196    0.000457   0.803967  \n",
       "2   0.804196    0.000457   0.803967  \n",
       "3   0.804196    0.000457   0.803967  \n",
       "4   0.804196    0.000457   0.803967  \n",
       "5   0.804196    0.000457   0.803967  \n",
       "6   0.804196    0.000457   0.803967  \n",
       "7   0.804196    0.000457   0.803967  \n",
       "8   0.804196    0.000457   0.803967  \n",
       "9   0.797203    0.004199   0.799302  "
      ]
     },
     "execution_count": 31,
     "metadata": {},
     "output_type": "execute_result"
    }
   ],
   "source": [
    "df1 = score_plot(df,0.005,'val_score',0.77)\n",
    "df1.head(10)"
   ]
  },
  {
   "cell_type": "code",
   "execution_count": 32,
   "metadata": {},
   "outputs": [
    {
     "data": {
      "text/plain": [
       "((0.5934579439252337, 0),\n",
       " 0.8037383177570093,\n",
       " 0.8041958041958042,\n",
       " 0.7972027972027972)"
      ]
     },
     "execution_count": 32,
     "metadata": {},
     "output_type": "execute_result"
    }
   ],
   "source": [
    "f = df1.features[0]\n",
    "l_test = LogisticRegression(C=df1.c_value[0],random_state=42)\n",
    "l_test.fit(Xtr[f],ytr)\n",
    "baseline(ytr),l_test.score(Xtr[f],ytr),l_test.score(Xv[f],yv),l_test.score(Xt[f],yt)"
   ]
  },
  {
   "attachments": {},
   "cell_type": "markdown",
   "metadata": {},
   "source": [
    "### **Bonus1** How do different strategies for handling the missing values in the age column affect model performance?"
   ]
  },
  {
   "cell_type": "code",
   "execution_count": 33,
   "metadata": {},
   "outputs": [
    {
     "name": "stdout",
     "output_type": "stream",
     "text": [
      "csv file found and loaded\n",
      "data cleaned and prepped\n",
      "data split\n",
      "train -> (534, 12); 59.93%\n",
      "validate -> (178, 12); 19.98%\n",
      "test -> (179, 12); 20.09%\n"
     ]
    },
    {
     "data": {
      "text/html": [
       "<div>\n",
       "<style scoped>\n",
       "    .dataframe tbody tr th:only-of-type {\n",
       "        vertical-align: middle;\n",
       "    }\n",
       "\n",
       "    .dataframe tbody tr th {\n",
       "        vertical-align: top;\n",
       "    }\n",
       "\n",
       "    .dataframe thead th {\n",
       "        text-align: right;\n",
       "    }\n",
       "</style>\n",
       "<table border=\"1\" class=\"dataframe\">\n",
       "  <thead>\n",
       "    <tr style=\"text-align: right;\">\n",
       "      <th></th>\n",
       "      <th>survived</th>\n",
       "      <th>pclass</th>\n",
       "      <th>sex</th>\n",
       "      <th>age</th>\n",
       "      <th>sibsp</th>\n",
       "      <th>parch</th>\n",
       "      <th>fare</th>\n",
       "      <th>embarked</th>\n",
       "      <th>alone</th>\n",
       "      <th>sex_male</th>\n",
       "      <th>embarked_Q</th>\n",
       "      <th>embarked_S</th>\n",
       "    </tr>\n",
       "  </thead>\n",
       "  <tbody>\n",
       "    <tr>\n",
       "      <th>693</th>\n",
       "      <td>0</td>\n",
       "      <td>3</td>\n",
       "      <td>male</td>\n",
       "      <td>25.0</td>\n",
       "      <td>0</td>\n",
       "      <td>0</td>\n",
       "      <td>7.225</td>\n",
       "      <td>C</td>\n",
       "      <td>1</td>\n",
       "      <td>1</td>\n",
       "      <td>0</td>\n",
       "      <td>0</td>\n",
       "    </tr>\n",
       "  </tbody>\n",
       "</table>\n",
       "</div>"
      ],
      "text/plain": [
       "     survived  pclass   sex   age  sibsp  parch   fare embarked  alone  \\\n",
       "693         0       3  male  25.0      0      0  7.225        C      1   \n",
       "\n",
       "     sex_male  embarked_Q  embarked_S  \n",
       "693         1           0           0  "
      ]
     },
     "execution_count": 33,
     "metadata": {},
     "output_type": "execute_result"
    }
   ],
   "source": [
    "df = get_titanic_data()\n",
    "# tr,v,t = prep_split_titanic_drp_age(df)\n",
    "tr,v,t = prep_split_titanic_imp_age(df)\n",
    "# tr,v,t = prep_split_titanic_drp_null_age(df)\n",
    "tr.sample()"
   ]
  },
  {
   "cell_type": "code",
   "execution_count": 34,
   "metadata": {},
   "outputs": [],
   "source": [
    "Xtr = tr.drop(columns=['survived','sex','embarked'])\n",
    "Xv = v.drop(columns=['survived','sex','embarked'])\n",
    "Xt = t.drop(columns=['survived','sex','embarked'])\n",
    "ytr = tr.survived\n",
    "yv = v.survived\n",
    "yt = t.survived"
   ]
  },
  {
   "cell_type": "code",
   "execution_count": 35,
   "metadata": {},
   "outputs": [
    {
     "data": {
      "text/plain": [
       "(0.6161048689138576, 0)"
      ]
     },
     "execution_count": 35,
     "metadata": {},
     "output_type": "execute_result"
    }
   ],
   "source": [
    "# impute_age baseline = 0.6161048689138576\n",
    "baseline(ytr)"
   ]
  },
  {
   "cell_type": "code",
   "execution_count": 36,
   "metadata": {},
   "outputs": [
    {
     "data": {
      "text/plain": [
       "0.7116104868913857"
      ]
     },
     "execution_count": 36,
     "metadata": {},
     "output_type": "execute_result"
    }
   ],
   "source": [
    "features = ['age','fare','pclass']\n",
    "l = LogisticRegression(random_state=42)\n",
    "l.fit(Xtr[features],ytr)\n",
    "ytr_pred = l.predict(Xtr[features])\n",
    "l.score(Xtr[features],ytr)"
   ]
  },
  {
   "cell_type": "code",
   "execution_count": 37,
   "metadata": {},
   "outputs": [
    {
     "data": {
      "image/png": "[encoded data removed]",
      "text/plain": [
       "<Figure size 640x480 with 2 Axes>"
      ]
     },
     "metadata": {},
     "output_type": "display_data"
    }
   ],
   "source": [
    "cmd(ytr,ytr_pred)"
   ]
  },
  {
   "cell_type": "code",
   "execution_count": 38,
   "metadata": {},
   "outputs": [
    {
     "data": {
      "text/plain": [
       "0.8014981273408239"
      ]
     },
     "execution_count": 38,
     "metadata": {},
     "output_type": "execute_result"
    }
   ],
   "source": [
    "features = ['age','fare','pclass','sex_male']\n",
    "l = LogisticRegression(random_state=42)\n",
    "l.fit(Xtr[features],ytr)\n",
    "ytr_pred = l.predict(Xtr[features])\n",
    "l.score(Xtr[features],ytr)"
   ]
  },
  {
   "cell_type": "code",
   "execution_count": 39,
   "metadata": {},
   "outputs": [
    {
     "data": {
      "image/png": "[encoded data removed]",
      "text/plain": [
       "<Figure size 640x480 with 2 Axes>"
      ]
     },
     "metadata": {},
     "output_type": "display_data"
    }
   ],
   "source": [
    "cmd(ytr,ytr_pred)"
   ]
  },
  {
   "cell_type": "code",
   "execution_count": 40,
   "metadata": {},
   "outputs": [],
   "source": [
    "df = l_scores(Xtr,ytr,Xv,yv,max_iter=500)"
   ]
  },
  {
   "cell_type": "code",
   "execution_count": 41,
   "metadata": {},
   "outputs": [
    {
     "data": {
      "text/html": [
       "<div>\n",
       "<style scoped>\n",
       "    .dataframe tbody tr th:only-of-type {\n",
       "        vertical-align: middle;\n",
       "    }\n",
       "\n",
       "    .dataframe tbody tr th {\n",
       "        vertical-align: top;\n",
       "    }\n",
       "\n",
       "    .dataframe thead th {\n",
       "        text-align: right;\n",
       "    }\n",
       "</style>\n",
       "<table border=\"1\" class=\"dataframe\">\n",
       "  <thead>\n",
       "    <tr style=\"text-align: right;\">\n",
       "      <th></th>\n",
       "      <th>features</th>\n",
       "      <th>c_value</th>\n",
       "      <th>train_score</th>\n",
       "      <th>val_score</th>\n",
       "      <th>diff_score</th>\n",
       "      <th>avg_score</th>\n",
       "    </tr>\n",
       "  </thead>\n",
       "  <tbody>\n",
       "    <tr>\n",
       "      <th>2234</th>\n",
       "      <td>[pclass, age, sibsp, parch, fare, alone]</td>\n",
       "      <td>1.0</td>\n",
       "      <td>0.737828</td>\n",
       "      <td>0.730337</td>\n",
       "      <td>0.007491</td>\n",
       "      <td>0.734082</td>\n",
       "    </tr>\n",
       "  </tbody>\n",
       "</table>\n",
       "</div>"
      ],
      "text/plain": [
       "                                      features  c_value  train_score  \\\n",
       "2234  [pclass, age, sibsp, parch, fare, alone]      1.0     0.737828   \n",
       "\n",
       "      val_score  diff_score  avg_score  \n",
       "2234   0.730337    0.007491   0.734082  "
      ]
     },
     "execution_count": 41,
     "metadata": {},
     "output_type": "execute_result"
    }
   ],
   "source": [
    "df.sample()"
   ]
  },
  {
   "cell_type": "code",
   "execution_count": 42,
   "metadata": {},
   "outputs": [
    {
     "data": {
      "image/png": "[encoded data removed]",
      "text/plain": [
       "<Figure size 800x500 with 1 Axes>"
      ]
     },
     "metadata": {},
     "output_type": "display_data"
    },
    {
     "data": {
      "text/html": [
       "<div>\n",
       "<style scoped>\n",
       "    .dataframe tbody tr th:only-of-type {\n",
       "        vertical-align: middle;\n",
       "    }\n",
       "\n",
       "    .dataframe tbody tr th {\n",
       "        vertical-align: top;\n",
       "    }\n",
       "\n",
       "    .dataframe thead th {\n",
       "        text-align: right;\n",
       "    }\n",
       "</style>\n",
       "<table border=\"1\" class=\"dataframe\">\n",
       "  <thead>\n",
       "    <tr style=\"text-align: right;\">\n",
       "      <th></th>\n",
       "      <th>features</th>\n",
       "      <th>c_value</th>\n",
       "      <th>train_score</th>\n",
       "      <th>val_score</th>\n",
       "      <th>diff_score</th>\n",
       "      <th>avg_score</th>\n",
       "    </tr>\n",
       "  </thead>\n",
       "  <tbody>\n",
       "    <tr>\n",
       "      <th>0</th>\n",
       "      <td>[pclass, age, alone, sex_male, embarked_Q]</td>\n",
       "      <td>0.1</td>\n",
       "      <td>0.818352</td>\n",
       "      <td>0.814607</td>\n",
       "      <td>0.003745</td>\n",
       "      <td>0.816479</td>\n",
       "    </tr>\n",
       "    <tr>\n",
       "      <th>1</th>\n",
       "      <td>[pclass, age, sibsp, alone, sex_male, embarked...</td>\n",
       "      <td>0.1</td>\n",
       "      <td>0.810861</td>\n",
       "      <td>0.814607</td>\n",
       "      <td>0.003745</td>\n",
       "      <td>0.812734</td>\n",
       "    </tr>\n",
       "    <tr>\n",
       "      <th>2</th>\n",
       "      <td>[pclass, age, sibsp, parch, alone, sex_male, e...</td>\n",
       "      <td>1.0</td>\n",
       "      <td>0.808989</td>\n",
       "      <td>0.808989</td>\n",
       "      <td>0.000000</td>\n",
       "      <td>0.808989</td>\n",
       "    </tr>\n",
       "    <tr>\n",
       "      <th>3</th>\n",
       "      <td>[pclass, age, sibsp, alone, sex_male, embarked_S]</td>\n",
       "      <td>0.1</td>\n",
       "      <td>0.810861</td>\n",
       "      <td>0.808989</td>\n",
       "      <td>0.001873</td>\n",
       "      <td>0.809925</td>\n",
       "    </tr>\n",
       "    <tr>\n",
       "      <th>4</th>\n",
       "      <td>[pclass, age, sibsp, alone, sex_male, embarked_S]</td>\n",
       "      <td>10.0</td>\n",
       "      <td>0.801498</td>\n",
       "      <td>0.803371</td>\n",
       "      <td>0.001873</td>\n",
       "      <td>0.802434</td>\n",
       "    </tr>\n",
       "    <tr>\n",
       "      <th>5</th>\n",
       "      <td>[pclass, age, sibsp, alone, sex_male, embarked_S]</td>\n",
       "      <td>100.0</td>\n",
       "      <td>0.801498</td>\n",
       "      <td>0.803371</td>\n",
       "      <td>0.001873</td>\n",
       "      <td>0.802434</td>\n",
       "    </tr>\n",
       "    <tr>\n",
       "      <th>6</th>\n",
       "      <td>[pclass, age, sibsp, alone, sex_male, embarked_S]</td>\n",
       "      <td>1000.0</td>\n",
       "      <td>0.801498</td>\n",
       "      <td>0.803371</td>\n",
       "      <td>0.001873</td>\n",
       "      <td>0.802434</td>\n",
       "    </tr>\n",
       "    <tr>\n",
       "      <th>7</th>\n",
       "      <td>[pclass, age, sibsp, parch, alone, sex_male, e...</td>\n",
       "      <td>10.0</td>\n",
       "      <td>0.805243</td>\n",
       "      <td>0.803371</td>\n",
       "      <td>0.001873</td>\n",
       "      <td>0.804307</td>\n",
       "    </tr>\n",
       "    <tr>\n",
       "      <th>8</th>\n",
       "      <td>[pclass, age, sibsp, parch, alone, sex_male, e...</td>\n",
       "      <td>100.0</td>\n",
       "      <td>0.805243</td>\n",
       "      <td>0.803371</td>\n",
       "      <td>0.001873</td>\n",
       "      <td>0.804307</td>\n",
       "    </tr>\n",
       "    <tr>\n",
       "      <th>9</th>\n",
       "      <td>[pclass, age, sibsp, parch, alone, sex_male, e...</td>\n",
       "      <td>1000.0</td>\n",
       "      <td>0.805243</td>\n",
       "      <td>0.803371</td>\n",
       "      <td>0.001873</td>\n",
       "      <td>0.804307</td>\n",
       "    </tr>\n",
       "  </tbody>\n",
       "</table>\n",
       "</div>"
      ],
      "text/plain": [
       "                                            features  c_value  train_score  \\\n",
       "0         [pclass, age, alone, sex_male, embarked_Q]      0.1     0.818352   \n",
       "1  [pclass, age, sibsp, alone, sex_male, embarked...      0.1     0.810861   \n",
       "2  [pclass, age, sibsp, parch, alone, sex_male, e...      1.0     0.808989   \n",
       "3  [pclass, age, sibsp, alone, sex_male, embarked_S]      0.1     0.810861   \n",
       "4  [pclass, age, sibsp, alone, sex_male, embarked_S]     10.0     0.801498   \n",
       "5  [pclass, age, sibsp, alone, sex_male, embarked_S]    100.0     0.801498   \n",
       "6  [pclass, age, sibsp, alone, sex_male, embarked_S]   1000.0     0.801498   \n",
       "7  [pclass, age, sibsp, parch, alone, sex_male, e...     10.0     0.805243   \n",
       "8  [pclass, age, sibsp, parch, alone, sex_male, e...    100.0     0.805243   \n",
       "9  [pclass, age, sibsp, parch, alone, sex_male, e...   1000.0     0.805243   \n",
       "\n",
       "   val_score  diff_score  avg_score  \n",
       "0   0.814607    0.003745   0.816479  \n",
       "1   0.814607    0.003745   0.812734  \n",
       "2   0.808989    0.000000   0.808989  \n",
       "3   0.808989    0.001873   0.809925  \n",
       "4   0.803371    0.001873   0.802434  \n",
       "5   0.803371    0.001873   0.802434  \n",
       "6   0.803371    0.001873   0.802434  \n",
       "7   0.803371    0.001873   0.804307  \n",
       "8   0.803371    0.001873   0.804307  \n",
       "9   0.803371    0.001873   0.804307  "
      ]
     },
     "execution_count": 42,
     "metadata": {},
     "output_type": "execute_result"
    }
   ],
   "source": [
    "sort = score_plot(df,0.005,'val_score',0.77)\n",
    "sort.head(10)"
   ]
  },
  {
   "cell_type": "code",
   "execution_count": 43,
   "metadata": {},
   "outputs": [
    {
     "data": {
      "text/plain": [
       "((0.6161048689138576, 0),\n",
       " 0.8183520599250936,\n",
       " 0.8146067415730337,\n",
       " 0.7988826815642458)"
      ]
     },
     "execution_count": 43,
     "metadata": {},
     "output_type": "execute_result"
    }
   ],
   "source": [
    "f = sort.features[0]\n",
    "l_test = LogisticRegression(C=sort.c_value[0],random_state=42)\n",
    "l_test.fit(Xtr[f],ytr)\n",
    "baseline(ytr),l_test.score(Xtr[f],ytr),l_test.score(Xv[f],yv),l_test.score(Xt[f],yt)"
   ]
  },
  {
   "cell_type": "code",
   "execution_count": 44,
   "metadata": {},
   "outputs": [
    {
     "name": "stdout",
     "output_type": "stream",
     "text": [
      "csv file found and loaded\n",
      "data cleaned and prepped\n",
      "data split\n",
      "train -> (534, 11); 59.93%\n",
      "validate -> (178, 11); 19.98%\n",
      "test -> (179, 11); 20.09%\n"
     ]
    },
    {
     "data": {
      "text/html": [
       "<div>\n",
       "<style scoped>\n",
       "    .dataframe tbody tr th:only-of-type {\n",
       "        vertical-align: middle;\n",
       "    }\n",
       "\n",
       "    .dataframe tbody tr th {\n",
       "        vertical-align: top;\n",
       "    }\n",
       "\n",
       "    .dataframe thead th {\n",
       "        text-align: right;\n",
       "    }\n",
       "</style>\n",
       "<table border=\"1\" class=\"dataframe\">\n",
       "  <thead>\n",
       "    <tr style=\"text-align: right;\">\n",
       "      <th></th>\n",
       "      <th>survived</th>\n",
       "      <th>pclass</th>\n",
       "      <th>sex</th>\n",
       "      <th>sibsp</th>\n",
       "      <th>parch</th>\n",
       "      <th>fare</th>\n",
       "      <th>embarked</th>\n",
       "      <th>alone</th>\n",
       "      <th>sex_male</th>\n",
       "      <th>embarked_Q</th>\n",
       "      <th>embarked_S</th>\n",
       "    </tr>\n",
       "  </thead>\n",
       "  <tbody>\n",
       "    <tr>\n",
       "      <th>104</th>\n",
       "      <td>0</td>\n",
       "      <td>3</td>\n",
       "      <td>male</td>\n",
       "      <td>2</td>\n",
       "      <td>0</td>\n",
       "      <td>7.925</td>\n",
       "      <td>S</td>\n",
       "      <td>0</td>\n",
       "      <td>1</td>\n",
       "      <td>0</td>\n",
       "      <td>1</td>\n",
       "    </tr>\n",
       "  </tbody>\n",
       "</table>\n",
       "</div>"
      ],
      "text/plain": [
       "     survived  pclass   sex  sibsp  parch   fare embarked  alone  sex_male  \\\n",
       "104         0       3  male      2      0  7.925        S      0         1   \n",
       "\n",
       "     embarked_Q  embarked_S  \n",
       "104           0           1  "
      ]
     },
     "execution_count": 44,
     "metadata": {},
     "output_type": "execute_result"
    }
   ],
   "source": [
    "df = get_titanic_data()\n",
    "tr,v,t = prep_split_titanic_drp_age(df)\n",
    "# tr,v,t = prep_split_titanic_imp_age(df)\n",
    "# tr,v,t = prep_split_titanic_drp_null_age(df)\n",
    "tr.sample()"
   ]
  },
  {
   "cell_type": "code",
   "execution_count": 45,
   "metadata": {},
   "outputs": [],
   "source": [
    "Xtr = tr.drop(columns=['survived','sex','embarked'])\n",
    "Xv = v.drop(columns=['survived','sex','embarked'])\n",
    "Xt = t.drop(columns=['survived','sex','embarked'])\n",
    "ytr = tr.survived\n",
    "yv = v.survived\n",
    "yt = t.survived"
   ]
  },
  {
   "cell_type": "code",
   "execution_count": 46,
   "metadata": {},
   "outputs": [
    {
     "data": {
      "text/plain": [
       "(0.6161048689138576, 0)"
      ]
     },
     "execution_count": 46,
     "metadata": {},
     "output_type": "execute_result"
    }
   ],
   "source": [
    "# drop_age baseline = 0.6161048689138576\n",
    "baseline(ytr)"
   ]
  },
  {
   "cell_type": "code",
   "execution_count": 47,
   "metadata": {},
   "outputs": [
    {
     "data": {
      "text/plain": [
       "0.700374531835206"
      ]
     },
     "execution_count": 47,
     "metadata": {},
     "output_type": "execute_result"
    }
   ],
   "source": [
    "features = ['fare','pclass']\n",
    "l = LogisticRegression(random_state=42)\n",
    "l.fit(Xtr[features],ytr)\n",
    "ytr_pred = l.predict(Xtr[features])\n",
    "l.score(Xtr[features],ytr)"
   ]
  },
  {
   "cell_type": "code",
   "execution_count": 48,
   "metadata": {},
   "outputs": [
    {
     "data": {
      "image/png": "[encoded data removed]",
      "text/plain": [
       "<Figure size 640x480 with 2 Axes>"
      ]
     },
     "metadata": {},
     "output_type": "display_data"
    }
   ],
   "source": [
    "cmd(ytr,ytr_pred)"
   ]
  },
  {
   "cell_type": "code",
   "execution_count": 49,
   "metadata": {},
   "outputs": [
    {
     "data": {
      "text/plain": [
       "0.7846441947565543"
      ]
     },
     "execution_count": 49,
     "metadata": {},
     "output_type": "execute_result"
    }
   ],
   "source": [
    "features = ['fare','pclass','sex_male']\n",
    "l = LogisticRegression(random_state=42)\n",
    "l.fit(Xtr[features],ytr)\n",
    "ytr_pred = l.predict(Xtr[features])\n",
    "l.score(Xtr[features],ytr)"
   ]
  },
  {
   "cell_type": "code",
   "execution_count": 50,
   "metadata": {},
   "outputs": [
    {
     "data": {
      "image/png": "[encoded data removed]",
      "text/plain": [
       "<Figure size 640x480 with 2 Axes>"
      ]
     },
     "metadata": {},
     "output_type": "display_data"
    }
   ],
   "source": [
    "cmd(ytr,ytr_pred)"
   ]
  },
  {
   "cell_type": "code",
   "execution_count": 51,
   "metadata": {},
   "outputs": [],
   "source": [
    "df = l_scores(Xtr,ytr,Xv,yv,max_iter=500)"
   ]
  },
  {
   "cell_type": "code",
   "execution_count": 52,
   "metadata": {},
   "outputs": [
    {
     "data": {
      "text/html": [
       "<div>\n",
       "<style scoped>\n",
       "    .dataframe tbody tr th:only-of-type {\n",
       "        vertical-align: middle;\n",
       "    }\n",
       "\n",
       "    .dataframe tbody tr th {\n",
       "        vertical-align: top;\n",
       "    }\n",
       "\n",
       "    .dataframe thead th {\n",
       "        text-align: right;\n",
       "    }\n",
       "</style>\n",
       "<table border=\"1\" class=\"dataframe\">\n",
       "  <thead>\n",
       "    <tr style=\"text-align: right;\">\n",
       "      <th></th>\n",
       "      <th>features</th>\n",
       "      <th>c_value</th>\n",
       "      <th>train_score</th>\n",
       "      <th>val_score</th>\n",
       "      <th>diff_score</th>\n",
       "      <th>avg_score</th>\n",
       "    </tr>\n",
       "  </thead>\n",
       "  <tbody>\n",
       "    <tr>\n",
       "      <th>984</th>\n",
       "      <td>[pclass, sibsp, fare, alone, sex_male]</td>\n",
       "      <td>0.01</td>\n",
       "      <td>0.722846</td>\n",
       "      <td>0.707865</td>\n",
       "      <td>0.014981</td>\n",
       "      <td>0.715356</td>\n",
       "    </tr>\n",
       "  </tbody>\n",
       "</table>\n",
       "</div>"
      ],
      "text/plain": [
       "                                   features  c_value  train_score  val_score  \\\n",
       "984  [pclass, sibsp, fare, alone, sex_male]     0.01     0.722846   0.707865   \n",
       "\n",
       "     diff_score  avg_score  \n",
       "984    0.014981   0.715356  "
      ]
     },
     "execution_count": 52,
     "metadata": {},
     "output_type": "execute_result"
    }
   ],
   "source": [
    "df.sample()"
   ]
  },
  {
   "cell_type": "code",
   "execution_count": 53,
   "metadata": {},
   "outputs": [
    {
     "data": {
      "image/png": "[encoded data removed]",
      "text/plain": [
       "<Figure size 800x500 with 1 Axes>"
      ]
     },
     "metadata": {},
     "output_type": "display_data"
    },
    {
     "data": {
      "text/html": [
       "<div>\n",
       "<style scoped>\n",
       "    .dataframe tbody tr th:only-of-type {\n",
       "        vertical-align: middle;\n",
       "    }\n",
       "\n",
       "    .dataframe tbody tr th {\n",
       "        vertical-align: top;\n",
       "    }\n",
       "\n",
       "    .dataframe thead th {\n",
       "        text-align: right;\n",
       "    }\n",
       "</style>\n",
       "<table border=\"1\" class=\"dataframe\">\n",
       "  <thead>\n",
       "    <tr style=\"text-align: right;\">\n",
       "      <th></th>\n",
       "      <th>features</th>\n",
       "      <th>c_value</th>\n",
       "      <th>train_score</th>\n",
       "      <th>val_score</th>\n",
       "      <th>diff_score</th>\n",
       "      <th>avg_score</th>\n",
       "    </tr>\n",
       "  </thead>\n",
       "  <tbody>\n",
       "    <tr>\n",
       "      <th>0</th>\n",
       "      <td>[pclass, fare, sex_male, embarked_Q, embarked_S]</td>\n",
       "      <td>0.1</td>\n",
       "      <td>0.797753</td>\n",
       "      <td>0.803371</td>\n",
       "      <td>0.005618</td>\n",
       "      <td>0.800562</td>\n",
       "    </tr>\n",
       "    <tr>\n",
       "      <th>1</th>\n",
       "      <td>[sibsp, parch, alone, sex_male, embarked_S]</td>\n",
       "      <td>10.0</td>\n",
       "      <td>0.794007</td>\n",
       "      <td>0.803371</td>\n",
       "      <td>0.009363</td>\n",
       "      <td>0.798689</td>\n",
       "    </tr>\n",
       "    <tr>\n",
       "      <th>2</th>\n",
       "      <td>[sibsp, parch, alone, sex_male, embarked_S]</td>\n",
       "      <td>100.0</td>\n",
       "      <td>0.794007</td>\n",
       "      <td>0.803371</td>\n",
       "      <td>0.009363</td>\n",
       "      <td>0.798689</td>\n",
       "    </tr>\n",
       "    <tr>\n",
       "      <th>3</th>\n",
       "      <td>[sibsp, parch, alone, sex_male, embarked_S]</td>\n",
       "      <td>1000.0</td>\n",
       "      <td>0.794007</td>\n",
       "      <td>0.803371</td>\n",
       "      <td>0.009363</td>\n",
       "      <td>0.798689</td>\n",
       "    </tr>\n",
       "    <tr>\n",
       "      <th>4</th>\n",
       "      <td>[pclass, sibsp, fare, sex_male]</td>\n",
       "      <td>0.1</td>\n",
       "      <td>0.795880</td>\n",
       "      <td>0.797753</td>\n",
       "      <td>0.001873</td>\n",
       "      <td>0.796816</td>\n",
       "    </tr>\n",
       "    <tr>\n",
       "      <th>5</th>\n",
       "      <td>[pclass, fare, sex_male, embarked_S]</td>\n",
       "      <td>0.1</td>\n",
       "      <td>0.795880</td>\n",
       "      <td>0.797753</td>\n",
       "      <td>0.001873</td>\n",
       "      <td>0.796816</td>\n",
       "    </tr>\n",
       "    <tr>\n",
       "      <th>6</th>\n",
       "      <td>[pclass, sibsp, fare, sex_male, embarked_Q]</td>\n",
       "      <td>0.1</td>\n",
       "      <td>0.795880</td>\n",
       "      <td>0.797753</td>\n",
       "      <td>0.001873</td>\n",
       "      <td>0.796816</td>\n",
       "    </tr>\n",
       "    <tr>\n",
       "      <th>7</th>\n",
       "      <td>[pclass, parch, fare, sex_male, embarked_S]</td>\n",
       "      <td>0.1</td>\n",
       "      <td>0.795880</td>\n",
       "      <td>0.797753</td>\n",
       "      <td>0.001873</td>\n",
       "      <td>0.796816</td>\n",
       "    </tr>\n",
       "    <tr>\n",
       "      <th>8</th>\n",
       "      <td>[pclass, parch, fare, sex_male, embarked_Q, em...</td>\n",
       "      <td>0.1</td>\n",
       "      <td>0.795880</td>\n",
       "      <td>0.797753</td>\n",
       "      <td>0.001873</td>\n",
       "      <td>0.796816</td>\n",
       "    </tr>\n",
       "    <tr>\n",
       "      <th>9</th>\n",
       "      <td>[sibsp, parch, fare, alone, sex_male]</td>\n",
       "      <td>0.1</td>\n",
       "      <td>0.794007</td>\n",
       "      <td>0.797753</td>\n",
       "      <td>0.003745</td>\n",
       "      <td>0.795880</td>\n",
       "    </tr>\n",
       "  </tbody>\n",
       "</table>\n",
       "</div>"
      ],
      "text/plain": [
       "                                            features  c_value  train_score  \\\n",
       "0   [pclass, fare, sex_male, embarked_Q, embarked_S]      0.1     0.797753   \n",
       "1        [sibsp, parch, alone, sex_male, embarked_S]     10.0     0.794007   \n",
       "2        [sibsp, parch, alone, sex_male, embarked_S]    100.0     0.794007   \n",
       "3        [sibsp, parch, alone, sex_male, embarked_S]   1000.0     0.794007   \n",
       "4                    [pclass, sibsp, fare, sex_male]      0.1     0.795880   \n",
       "5               [pclass, fare, sex_male, embarked_S]      0.1     0.795880   \n",
       "6        [pclass, sibsp, fare, sex_male, embarked_Q]      0.1     0.795880   \n",
       "7        [pclass, parch, fare, sex_male, embarked_S]      0.1     0.795880   \n",
       "8  [pclass, parch, fare, sex_male, embarked_Q, em...      0.1     0.795880   \n",
       "9              [sibsp, parch, fare, alone, sex_male]      0.1     0.794007   \n",
       "\n",
       "   val_score  diff_score  avg_score  \n",
       "0   0.803371    0.005618   0.800562  \n",
       "1   0.803371    0.009363   0.798689  \n",
       "2   0.803371    0.009363   0.798689  \n",
       "3   0.803371    0.009363   0.798689  \n",
       "4   0.797753    0.001873   0.796816  \n",
       "5   0.797753    0.001873   0.796816  \n",
       "6   0.797753    0.001873   0.796816  \n",
       "7   0.797753    0.001873   0.796816  \n",
       "8   0.797753    0.001873   0.796816  \n",
       "9   0.797753    0.003745   0.795880  "
      ]
     },
     "execution_count": 53,
     "metadata": {},
     "output_type": "execute_result"
    }
   ],
   "source": [
    "sort = score_plot(df,0.01,'val_score',0.77)\n",
    "sort.head(10)"
   ]
  },
  {
   "cell_type": "code",
   "execution_count": 54,
   "metadata": {},
   "outputs": [
    {
     "data": {
      "text/plain": [
       "((0.6161048689138576, 0),\n",
       " 0.795880149812734,\n",
       " 0.797752808988764,\n",
       " 0.8044692737430168)"
      ]
     },
     "execution_count": 54,
     "metadata": {},
     "output_type": "execute_result"
    }
   ],
   "source": [
    "f = sort.features[4]\n",
    "l_test = LogisticRegression(C=sort.c_value[0],random_state=42,max_iter=200)\n",
    "l_test.fit(Xtr[f],ytr)\n",
    "baseline(ytr),l_test.score(Xtr[f],ytr),l_test.score(Xv[f],yv),l_test.score(Xt[f],yt)"
   ]
  },
  {
   "attachments": {},
   "cell_type": "markdown",
   "metadata": {},
   "source": [
    "### **Bonus2** How do different strategies for encoding sex affect model performance?"
   ]
  },
  {
   "cell_type": "code",
   "execution_count": 55,
   "metadata": {},
   "outputs": [
    {
     "name": "stdout",
     "output_type": "stream",
     "text": [
      "csv file found and loaded\n",
      "data cleaned and prepped\n",
      "data split\n",
      "train -> (534, 13); 59.93%\n",
      "validate -> (178, 13); 19.98%\n",
      "test -> (179, 13); 20.09%\n"
     ]
    }
   ],
   "source": [
    "# like encoding gender as an order (1 & 2) vs 0 & 1\n",
    "df = get_titanic_data()\n",
    "df['gender'] = df.sex.map({'female': 1, 'male': 2})\n",
    "tr,v,t = prep_split_titanic_imp_age(df)"
   ]
  },
  {
   "cell_type": "code",
   "execution_count": 56,
   "metadata": {},
   "outputs": [
    {
     "data": {
      "text/html": [
       "<div>\n",
       "<style scoped>\n",
       "    .dataframe tbody tr th:only-of-type {\n",
       "        vertical-align: middle;\n",
       "    }\n",
       "\n",
       "    .dataframe tbody tr th {\n",
       "        vertical-align: top;\n",
       "    }\n",
       "\n",
       "    .dataframe thead th {\n",
       "        text-align: right;\n",
       "    }\n",
       "</style>\n",
       "<table border=\"1\" class=\"dataframe\">\n",
       "  <thead>\n",
       "    <tr style=\"text-align: right;\">\n",
       "      <th></th>\n",
       "      <th>survived</th>\n",
       "      <th>pclass</th>\n",
       "      <th>sex</th>\n",
       "      <th>age</th>\n",
       "      <th>sibsp</th>\n",
       "      <th>parch</th>\n",
       "      <th>fare</th>\n",
       "      <th>embarked</th>\n",
       "      <th>alone</th>\n",
       "      <th>gender</th>\n",
       "      <th>sex_male</th>\n",
       "      <th>embarked_Q</th>\n",
       "      <th>embarked_S</th>\n",
       "    </tr>\n",
       "  </thead>\n",
       "  <tbody>\n",
       "    <tr>\n",
       "      <th>188</th>\n",
       "      <td>0</td>\n",
       "      <td>3</td>\n",
       "      <td>male</td>\n",
       "      <td>40.0</td>\n",
       "      <td>1</td>\n",
       "      <td>1</td>\n",
       "      <td>15.5</td>\n",
       "      <td>Q</td>\n",
       "      <td>0</td>\n",
       "      <td>2</td>\n",
       "      <td>1</td>\n",
       "      <td>1</td>\n",
       "      <td>0</td>\n",
       "    </tr>\n",
       "  </tbody>\n",
       "</table>\n",
       "</div>"
      ],
      "text/plain": [
       "     survived  pclass   sex   age  sibsp  parch  fare embarked  alone  gender  \\\n",
       "188         0       3  male  40.0      1      1  15.5        Q      0       2   \n",
       "\n",
       "     sex_male  embarked_Q  embarked_S  \n",
       "188         1           1           0  "
      ]
     },
     "execution_count": 56,
     "metadata": {},
     "output_type": "execute_result"
    }
   ],
   "source": [
    "tr.sample()"
   ]
  },
  {
   "cell_type": "code",
   "execution_count": 57,
   "metadata": {},
   "outputs": [],
   "source": [
    "Xtr = tr.drop(columns=['survived','sex','embarked','sex_male'])\n",
    "Xv = v.drop(columns=['survived','sex','embarked','sex_male'])\n",
    "Xt = t.drop(columns=['survived','sex','embarked','sex_male'])\n",
    "ytr = tr.survived\n",
    "yv = v.survived\n",
    "yt = t.survived"
   ]
  },
  {
   "cell_type": "code",
   "execution_count": 58,
   "metadata": {},
   "outputs": [
    {
     "data": {
      "text/plain": [
       "(0.6161048689138576, 0)"
      ]
     },
     "execution_count": 58,
     "metadata": {},
     "output_type": "execute_result"
    }
   ],
   "source": [
    "baseline(ytr)"
   ]
  },
  {
   "cell_type": "code",
   "execution_count": 59,
   "metadata": {},
   "outputs": [
    {
     "data": {
      "text/plain": [
       "0.7116104868913857"
      ]
     },
     "execution_count": 59,
     "metadata": {},
     "output_type": "execute_result"
    }
   ],
   "source": [
    "features = ['age','fare','pclass']\n",
    "l = LogisticRegression(random_state=42)\n",
    "l.fit(Xtr[features],ytr)\n",
    "ytr_pred = l.predict(Xtr[features])\n",
    "l.score(Xtr[features],ytr)"
   ]
  },
  {
   "cell_type": "code",
   "execution_count": 60,
   "metadata": {},
   "outputs": [
    {
     "data": {
      "image/png": "[encoded data removed]",
      "text/plain": [
       "<Figure size 640x480 with 2 Axes>"
      ]
     },
     "metadata": {},
     "output_type": "display_data"
    }
   ],
   "source": [
    "cmd(ytr,ytr_pred)"
   ]
  },
  {
   "cell_type": "code",
   "execution_count": 61,
   "metadata": {},
   "outputs": [
    {
     "data": {
      "text/plain": [
       "0.7846441947565543"
      ]
     },
     "execution_count": 61,
     "metadata": {},
     "output_type": "execute_result"
    }
   ],
   "source": [
    "features = ['fare','pclass','gender']\n",
    "l = LogisticRegression(random_state=42)\n",
    "l.fit(Xtr[features],ytr)\n",
    "ytr_pred = l.predict(Xtr[features])\n",
    "l.score(Xtr[features],ytr)"
   ]
  },
  {
   "attachments": {},
   "cell_type": "markdown",
   "metadata": {},
   "source": [
    "### Bonus3: scikit-learn's LogisticRegression classifier is actually applying a regularization penalty to the coefficients by default. This penalty causes the magnitude of the coefficients in the resulting model to be smaller than they otherwise would be. This value can be modified with the C hyper parameter. Small values of C correspond to a larger penalty, and large values of C correspond to a smaller penalty.\n",
    "Try out the following values for C and note how the coefficients and the model's performance on both the dataset it was trained on and on the validate split are affected.\n",
    "[.01,.1,1,10,100,1000]"
   ]
  },
  {
   "cell_type": "code",
   "execution_count": 62,
   "metadata": {},
   "outputs": [],
   "source": [
    "# re-ran all with this"
   ]
  },
  {
   "cell_type": "code",
   "execution_count": null,
   "metadata": {},
   "outputs": [],
   "source": []
  }
 ],
 "metadata": {
  "kernelspec": {
   "display_name": "base",
   "language": "python",
   "name": "python3"
  },
  "language_info": {
   "codemirror_mode": {
    "name": "ipython",
    "version": 3
   },
   "file_extension": ".py",
   "mimetype": "text/x-python",
   "name": "python",
   "nbconvert_exporter": "python",
   "pygments_lexer": "ipython3",
   "version": "3.9.13"
  },
  "orig_nbformat": 4
 },
 "nbformat": 4,
 "nbformat_minor": 2
}
