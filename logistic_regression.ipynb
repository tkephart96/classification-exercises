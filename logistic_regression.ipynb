{
 "cells": [
  {
   "cell_type": "code",
   "execution_count": 1,
   "metadata": {},
   "outputs": [],
   "source": [
    "# imports\n",
    "import pandas as pd\n",
    "import matplotlib.pyplot as plt\n",
    "from acquire import get_titanic_data\n",
    "from prepare import prep_split_titanic_drp_age,prep_split_titanic_imp_age,prep_split_titanic_drp_null_age\n",
    "from sklearn.metrics import classification_report,confusion_matrix, ConfusionMatrixDisplay\n",
    "from sklearn.linear_model import LogisticRegression"
   ]
  },
  {
   "attachments": {},
   "cell_type": "markdown",
   "metadata": {},
   "source": [
    "# Logistic Regression"
   ]
  },
  {
   "attachments": {},
   "cell_type": "markdown",
   "metadata": {},
   "source": [
    "What is it?\n",
    "- a machine learning algorithm used for predicting categorical target variables\n",
    "- Pipeline: Plan - Acquire - Prepare - Explore - **Model** - Deliver\n",
    "\n",
    "Why do we care?\n",
    "- we can predict future target variables based on the model we build! \n",
    "\n",
    "How do we use it?\n",
    "- acquire, prepare, explore our data\n",
    "- split data for modeling\n",
    "- build models on train\n",
    "    - create rules based on our input data\n",
    "- evaluate models on train & validate\n",
    "    - see how our rules work on unseen data\n",
    "- pick best of the best model, and evaluate bestest model on test"
   ]
  },
  {
   "cell_type": "markdown",
   "metadata": {},
   "source": [
    "### change hyperparameter\n",
    "#### Regularization:\n",
    "- Keep model simple\n",
    "- Constraints the coefficients\n",
    "\n",
    "\n",
    "#### C = Inverse of regularization strength:\n",
    "\n",
    "- Lower C is higher regularization\n",
    "- Lower C discourages learning more complex model"
   ]
  },
  {
   "attachments": {},
   "cell_type": "markdown",
   "metadata": {},
   "source": [
    "## Exercises\n",
    "work with `titanic`data"
   ]
  },
  {
   "cell_type": "code",
   "execution_count": 2,
   "metadata": {},
   "outputs": [
    {
     "name": "stdout",
     "output_type": "stream",
     "text": [
      "csv file found and loaded\n",
      "data cleaned and prepped\n",
      "data split\n",
      "train -> (428, 12); 59.94%\n",
      "validate -> (143, 12); 20.03%\n",
      "test -> (143, 12); 20.03%\n"
     ]
    },
    {
     "data": {
      "text/html": [
       "<div>\n",
       "<style scoped>\n",
       "    .dataframe tbody tr th:only-of-type {\n",
       "        vertical-align: middle;\n",
       "    }\n",
       "\n",
       "    .dataframe tbody tr th {\n",
       "        vertical-align: top;\n",
       "    }\n",
       "\n",
       "    .dataframe thead th {\n",
       "        text-align: right;\n",
       "    }\n",
       "</style>\n",
       "<table border=\"1\" class=\"dataframe\">\n",
       "  <thead>\n",
       "    <tr style=\"text-align: right;\">\n",
       "      <th></th>\n",
       "      <th>survived</th>\n",
       "      <th>pclass</th>\n",
       "      <th>sex</th>\n",
       "      <th>age</th>\n",
       "      <th>sibsp</th>\n",
       "      <th>parch</th>\n",
       "      <th>fare</th>\n",
       "      <th>embarked</th>\n",
       "      <th>alone</th>\n",
       "      <th>sex_male</th>\n",
       "      <th>embarked_Q</th>\n",
       "      <th>embarked_S</th>\n",
       "    </tr>\n",
       "  </thead>\n",
       "  <tbody>\n",
       "    <tr>\n",
       "      <th>195</th>\n",
       "      <td>1</td>\n",
       "      <td>1</td>\n",
       "      <td>female</td>\n",
       "      <td>58.0</td>\n",
       "      <td>0</td>\n",
       "      <td>0</td>\n",
       "      <td>146.5208</td>\n",
       "      <td>C</td>\n",
       "      <td>1</td>\n",
       "      <td>0</td>\n",
       "      <td>0</td>\n",
       "      <td>0</td>\n",
       "    </tr>\n",
       "  </tbody>\n",
       "</table>\n",
       "</div>"
      ],
      "text/plain": [
       "     survived  pclass     sex   age  sibsp  parch      fare embarked  alone  \\\n",
       "195         1       1  female  58.0      0      0  146.5208        C      1   \n",
       "\n",
       "     sex_male  embarked_Q  embarked_S  \n",
       "195         0           0           0  "
      ]
     },
     "execution_count": 2,
     "metadata": {},
     "output_type": "execute_result"
    }
   ],
   "source": [
    "df = get_titanic_data()\n",
    "# tr,v,t = prep_split_titanic_drp_age(df)\n",
    "# tr,v,t = prep_split_titanic_imp_age(df)\n",
    "tr,v,t = prep_split_titanic_drp_null_age(df)\n",
    "tr.sample()"
   ]
  },
  {
   "cell_type": "code",
   "execution_count": 3,
   "metadata": {},
   "outputs": [],
   "source": [
    "Xtr = tr.drop(columns=['survived','sex','embarked'])\n",
    "Xv = v.drop(columns=['survived','sex','embarked'])\n",
    "Xt = t.drop(columns=['survived','sex','embarked'])\n",
    "ytr = tr.survived\n",
    "yv = v.survived\n",
    "yt = t.survived"
   ]
  },
  {
   "cell_type": "code",
   "execution_count": 4,
   "metadata": {},
   "outputs": [
    {
     "data": {
      "text/plain": [
       "(0.5934579439252337, 0)"
      ]
     },
     "execution_count": 4,
     "metadata": {},
     "output_type": "execute_result"
    }
   ],
   "source": [
    "# 0 (not survived) most common\n",
    "# drp_null_age baseline = 0.5934579439252337\n",
    "def baseline(ytr):\n",
    "    b = (ytr==ytr.value_counts().idxmax()).mean()\n",
    "    return b, ytr.value_counts().idxmax()\n",
    "baseline(ytr)"
   ]
  },
  {
   "attachments": {},
   "cell_type": "markdown",
   "metadata": {},
   "source": [
    "### 1. Create a model that includes only age, fare, and pclass. Does this model perform better than your baseline?\n",
    "\n"
   ]
  },
  {
   "cell_type": "code",
   "execution_count": 5,
   "metadata": {},
   "outputs": [],
   "source": [
    "features = ['age','fare','pclass']"
   ]
  },
  {
   "cell_type": "code",
   "execution_count": 6,
   "metadata": {},
   "outputs": [],
   "source": [
    "l = LogisticRegression(random_state=42)\n",
    "l.fit(Xtr[features],ytr)\n",
    "ytr_pred = l.predict(Xtr[features])"
   ]
  },
  {
   "cell_type": "code",
   "execution_count": 7,
   "metadata": {},
   "outputs": [
    {
     "data": {
      "text/plain": [
       "(array([[-0.04438556,  0.00750615, -1.04081893]]),\n",
       " Index(['age', 'fare', 'pclass'], dtype='object'))"
      ]
     },
     "execution_count": 7,
     "metadata": {},
     "output_type": "execute_result"
    }
   ],
   "source": [
    "l.coef_,Xtr[features].columns"
   ]
  },
  {
   "cell_type": "code",
   "execution_count": 8,
   "metadata": {},
   "outputs": [
    {
     "data": {
      "text/plain": [
       "0.7149532710280374"
      ]
     },
     "execution_count": 8,
     "metadata": {},
     "output_type": "execute_result"
    }
   ],
   "source": [
    "l.score(Xtr[features],ytr)"
   ]
  },
  {
   "cell_type": "code",
   "execution_count": 9,
   "metadata": {},
   "outputs": [],
   "source": [
    "def cmd(ytr,y_pred,labels=l.classes_):\n",
    "    ConfusionMatrixDisplay(confusion_matrix(ytr,y_pred,labels=labels),display_labels=labels).plot()\n",
    "    plt.show()"
   ]
  },
  {
   "cell_type": "code",
   "execution_count": 10,
   "metadata": {},
   "outputs": [
    {
     "data": {
      "image/png": "[encoded data removed]",
      "text/plain": [
       "<Figure size 640x480 with 2 Axes>"
      ]
     },
     "metadata": {},
     "output_type": "display_data"
    }
   ],
   "source": [
    "cmd(ytr,ytr_pred)"
   ]
  },
  {
   "cell_type": "code",
   "execution_count": 11,
   "metadata": {},
   "outputs": [
    {
     "data": {
      "text/html": [
       "<div>\n",
       "<style scoped>\n",
       "    .dataframe tbody tr th:only-of-type {\n",
       "        vertical-align: middle;\n",
       "    }\n",
       "\n",
       "    .dataframe tbody tr th {\n",
       "        vertical-align: top;\n",
       "    }\n",
       "\n",
       "    .dataframe thead th {\n",
       "        text-align: right;\n",
       "    }\n",
       "</style>\n",
       "<table border=\"1\" class=\"dataframe\">\n",
       "  <thead>\n",
       "    <tr style=\"text-align: right;\">\n",
       "      <th></th>\n",
       "      <th>0</th>\n",
       "      <th>1</th>\n",
       "      <th>accuracy</th>\n",
       "      <th>macro avg</th>\n",
       "      <th>weighted avg</th>\n",
       "    </tr>\n",
       "  </thead>\n",
       "  <tbody>\n",
       "    <tr>\n",
       "      <th>precision</th>\n",
       "      <td>0.715686</td>\n",
       "      <td>0.713115</td>\n",
       "      <td>0.714953</td>\n",
       "      <td>0.714401</td>\n",
       "      <td>0.714641</td>\n",
       "    </tr>\n",
       "    <tr>\n",
       "      <th>recall</th>\n",
       "      <td>0.862205</td>\n",
       "      <td>0.500000</td>\n",
       "      <td>0.714953</td>\n",
       "      <td>0.681102</td>\n",
       "      <td>0.714953</td>\n",
       "    </tr>\n",
       "    <tr>\n",
       "      <th>f1-score</th>\n",
       "      <td>0.782143</td>\n",
       "      <td>0.587838</td>\n",
       "      <td>0.714953</td>\n",
       "      <td>0.684990</td>\n",
       "      <td>0.703150</td>\n",
       "    </tr>\n",
       "    <tr>\n",
       "      <th>support</th>\n",
       "      <td>254.000000</td>\n",
       "      <td>174.000000</td>\n",
       "      <td>0.714953</td>\n",
       "      <td>428.000000</td>\n",
       "      <td>428.000000</td>\n",
       "    </tr>\n",
       "  </tbody>\n",
       "</table>\n",
       "</div>"
      ],
      "text/plain": [
       "                    0           1  accuracy   macro avg  weighted avg\n",
       "precision    0.715686    0.713115  0.714953    0.714401      0.714641\n",
       "recall       0.862205    0.500000  0.714953    0.681102      0.714953\n",
       "f1-score     0.782143    0.587838  0.714953    0.684990      0.703150\n",
       "support    254.000000  174.000000  0.714953  428.000000    428.000000"
      ]
     },
     "execution_count": 11,
     "metadata": {},
     "output_type": "execute_result"
    }
   ],
   "source": [
    "pd.DataFrame(classification_report(ytr,ytr_pred,output_dict=True))"
   ]
  },
  {
   "cell_type": "code",
   "execution_count": 12,
   "metadata": {},
   "outputs": [
    {
     "data": {
      "text/plain": [
       "((0.5934579439252337, 0), 0.7149532710280374)"
      ]
     },
     "execution_count": 12,
     "metadata": {},
     "output_type": "execute_result"
    }
   ],
   "source": [
    "# drp_null_age baseline acc = 0.5934579439252337\n",
    "# drp_null_age[age,fare,pclass] acc = 0.7149532710280374\n",
    "baseline(ytr),l.score(Xtr[features],ytr)"
   ]
  },
  {
   "attachments": {},
   "cell_type": "markdown",
   "metadata": {},
   "source": [
    "### 2. Include sex in your model as well. Note that you'll need to encode or create a dummy variable of this feature before including it in a model.\n",
    "\n"
   ]
  },
  {
   "cell_type": "code",
   "execution_count": 13,
   "metadata": {},
   "outputs": [],
   "source": [
    "features = ['age','fare','pclass','sex_male']"
   ]
  },
  {
   "cell_type": "code",
   "execution_count": 14,
   "metadata": {},
   "outputs": [],
   "source": [
    "l = LogisticRegression(random_state=42)\n",
    "l.fit(Xtr[features],ytr)\n",
    "ytr_pred = l.predict(Xtr[features])"
   ]
  },
  {
   "cell_type": "code",
   "execution_count": 15,
   "metadata": {},
   "outputs": [
    {
     "data": {
      "text/plain": [
       "(array([[-0.03940784,  0.00325799, -1.09151249, -2.2331381 ]]),\n",
       " Index(['age', 'fare', 'pclass', 'sex_male'], dtype='object'))"
      ]
     },
     "execution_count": 15,
     "metadata": {},
     "output_type": "execute_result"
    }
   ],
   "source": [
    "l.coef_,Xtr[features].columns"
   ]
  },
  {
   "cell_type": "code",
   "execution_count": 16,
   "metadata": {},
   "outputs": [
    {
     "data": {
      "text/plain": [
       "0.8037383177570093"
      ]
     },
     "execution_count": 16,
     "metadata": {},
     "output_type": "execute_result"
    }
   ],
   "source": [
    "l.score(Xtr[features],ytr)"
   ]
  },
  {
   "cell_type": "code",
   "execution_count": 17,
   "metadata": {},
   "outputs": [
    {
     "data": {
      "image/png": "[encoded data removed]",
      "text/plain": [
       "<Figure size 640x480 with 2 Axes>"
      ]
     },
     "metadata": {},
     "output_type": "display_data"
    }
   ],
   "source": [
    "cmd(ytr,ytr_pred)"
   ]
  },
  {
   "cell_type": "code",
   "execution_count": 18,
   "metadata": {},
   "outputs": [
    {
     "data": {
      "text/html": [
       "<div>\n",
       "<style scoped>\n",
       "    .dataframe tbody tr th:only-of-type {\n",
       "        vertical-align: middle;\n",
       "    }\n",
       "\n",
       "    .dataframe tbody tr th {\n",
       "        vertical-align: top;\n",
       "    }\n",
       "\n",
       "    .dataframe thead th {\n",
       "        text-align: right;\n",
       "    }\n",
       "</style>\n",
       "<table border=\"1\" class=\"dataframe\">\n",
       "  <thead>\n",
       "    <tr style=\"text-align: right;\">\n",
       "      <th></th>\n",
       "      <th>0</th>\n",
       "      <th>1</th>\n",
       "      <th>accuracy</th>\n",
       "      <th>macro avg</th>\n",
       "      <th>weighted avg</th>\n",
       "    </tr>\n",
       "  </thead>\n",
       "  <tbody>\n",
       "    <tr>\n",
       "      <th>precision</th>\n",
       "      <td>0.817164</td>\n",
       "      <td>0.781250</td>\n",
       "      <td>0.803738</td>\n",
       "      <td>0.799207</td>\n",
       "      <td>0.802564</td>\n",
       "    </tr>\n",
       "    <tr>\n",
       "      <th>recall</th>\n",
       "      <td>0.862205</td>\n",
       "      <td>0.718391</td>\n",
       "      <td>0.803738</td>\n",
       "      <td>0.790298</td>\n",
       "      <td>0.803738</td>\n",
       "    </tr>\n",
       "    <tr>\n",
       "      <th>f1-score</th>\n",
       "      <td>0.839080</td>\n",
       "      <td>0.748503</td>\n",
       "      <td>0.803738</td>\n",
       "      <td>0.793792</td>\n",
       "      <td>0.802257</td>\n",
       "    </tr>\n",
       "    <tr>\n",
       "      <th>support</th>\n",
       "      <td>254.000000</td>\n",
       "      <td>174.000000</td>\n",
       "      <td>0.803738</td>\n",
       "      <td>428.000000</td>\n",
       "      <td>428.000000</td>\n",
       "    </tr>\n",
       "  </tbody>\n",
       "</table>\n",
       "</div>"
      ],
      "text/plain": [
       "                    0           1  accuracy   macro avg  weighted avg\n",
       "precision    0.817164    0.781250  0.803738    0.799207      0.802564\n",
       "recall       0.862205    0.718391  0.803738    0.790298      0.803738\n",
       "f1-score     0.839080    0.748503  0.803738    0.793792      0.802257\n",
       "support    254.000000  174.000000  0.803738  428.000000    428.000000"
      ]
     },
     "execution_count": 18,
     "metadata": {},
     "output_type": "execute_result"
    }
   ],
   "source": [
    "pd.DataFrame(classification_report(ytr,ytr_pred,output_dict=True))"
   ]
  },
  {
   "cell_type": "code",
   "execution_count": 19,
   "metadata": {},
   "outputs": [
    {
     "data": {
      "text/plain": [
       "((0.5934579439252337, 0), 0.8037383177570093)"
      ]
     },
     "execution_count": 19,
     "metadata": {},
     "output_type": "execute_result"
    }
   ],
   "source": [
    "# drp_null_age baseline acc = 0.5934579439252337\n",
    "# drp_null_age[age,fare,pclass,sex_male] acc = 0.8037383177570093\n",
    "baseline(ytr),l.score(Xtr[features],ytr)"
   ]
  },
  {
   "attachments": {},
   "cell_type": "markdown",
   "metadata": {},
   "source": [
    "### 3. Try out other combinations of features and models.\n",
    "\n"
   ]
  },
  {
   "cell_type": "code",
   "execution_count": 20,
   "metadata": {},
   "outputs": [],
   "source": [
    "import itertools"
   ]
  },
  {
   "cell_type": "code",
   "execution_count": 21,
   "metadata": {},
   "outputs": [],
   "source": [
    "def feature_combos(Xtr,ytr,max_iter=100):\n",
    "    metrics = []\n",
    "    iterable = Xtr.columns.to_list()\n",
    "    for r in range(2,(len(iterable)+1)):\n",
    "        for feature in itertools.combinations(iterable,r):\n",
    "            f = list(feature)\n",
    "            l = LogisticRegression(random_state=42,max_iter=max_iter)\n",
    "            l.fit(Xtr[f],ytr)\n",
    "            ytr_score = l.score(Xtr[f],ytr)\n",
    "            # table-ize\n",
    "            output = {\n",
    "                'features':f,\n",
    "                'train_score':ytr_score,\n",
    "            }\n",
    "            metrics.append(output)\n",
    "    return pd.DataFrame(metrics)"
   ]
  },
  {
   "cell_type": "code",
   "execution_count": 22,
   "metadata": {},
   "outputs": [],
   "source": [
    "df = feature_combos(Xtr,ytr,250)"
   ]
  },
  {
   "cell_type": "code",
   "execution_count": 23,
   "metadata": {},
   "outputs": [
    {
     "data": {
      "text/plain": [
       "463    [pclass, age, sibsp, parch, alone, sex_male, e...\n",
       "376         [pclass, age, sibsp, parch, alone, sex_male]\n",
       "496    [pclass, age, sibsp, parch, alone, sex_male, e...\n",
       "Name: features, dtype: object"
      ]
     },
     "execution_count": 23,
     "metadata": {},
     "output_type": "execute_result"
    }
   ],
   "source": [
    "f = df.sort_values('train_score',ascending=False).head(3)['features']\n",
    "f"
   ]
  },
  {
   "cell_type": "code",
   "execution_count": 24,
   "metadata": {},
   "outputs": [
    {
     "data": {
      "text/plain": [
       "['pclass', 'age', 'sibsp', 'parch', 'alone', 'sex_male', 'embarked_S']"
      ]
     },
     "execution_count": 24,
     "metadata": {},
     "output_type": "execute_result"
    }
   ],
   "source": [
    "f[463]"
   ]
  },
  {
   "cell_type": "code",
   "execution_count": 25,
   "metadata": {},
   "outputs": [
    {
     "data": {
      "text/plain": [
       "['pclass', 'age', 'sibsp', 'parch', 'alone', 'sex_male']"
      ]
     },
     "execution_count": 25,
     "metadata": {},
     "output_type": "execute_result"
    }
   ],
   "source": [
    "f[376]"
   ]
  },
  {
   "cell_type": "code",
   "execution_count": 26,
   "metadata": {},
   "outputs": [
    {
     "data": {
      "text/plain": [
       "['pclass',\n",
       " 'age',\n",
       " 'sibsp',\n",
       " 'parch',\n",
       " 'alone',\n",
       " 'sex_male',\n",
       " 'embarked_Q',\n",
       " 'embarked_S']"
      ]
     },
     "execution_count": 26,
     "metadata": {},
     "output_type": "execute_result"
    }
   ],
   "source": [
    "f[496]"
   ]
  },
  {
   "attachments": {},
   "cell_type": "markdown",
   "metadata": {},
   "source": [
    "### 4. Use you best 3 models to predict and evaluate on your validate sample.\n",
    "\n"
   ]
  },
  {
   "cell_type": "code",
   "execution_count": 27,
   "metadata": {},
   "outputs": [
    {
     "data": {
      "text/html": [
       "<div>\n",
       "<style scoped>\n",
       "    .dataframe tbody tr th:only-of-type {\n",
       "        vertical-align: middle;\n",
       "    }\n",
       "\n",
       "    .dataframe tbody tr th {\n",
       "        vertical-align: top;\n",
       "    }\n",
       "\n",
       "    .dataframe thead th {\n",
       "        text-align: right;\n",
       "    }\n",
       "</style>\n",
       "<table border=\"1\" class=\"dataframe\">\n",
       "  <thead>\n",
       "    <tr style=\"text-align: right;\">\n",
       "      <th></th>\n",
       "      <th>features</th>\n",
       "      <th>train_score</th>\n",
       "      <th>val_score</th>\n",
       "    </tr>\n",
       "  </thead>\n",
       "  <tbody>\n",
       "    <tr>\n",
       "      <th>0</th>\n",
       "      <td>[pclass, age, sibsp, parch, alone, sex_male]</td>\n",
       "      <td>0.813084</td>\n",
       "      <td>0.783217</td>\n",
       "    </tr>\n",
       "    <tr>\n",
       "      <th>1</th>\n",
       "      <td>[pclass, age, sibsp, parch, alone, sex_male, e...</td>\n",
       "      <td>0.813084</td>\n",
       "      <td>0.790210</td>\n",
       "    </tr>\n",
       "    <tr>\n",
       "      <th>2</th>\n",
       "      <td>[pclass, age, sibsp, parch, alone, sex_male, e...</td>\n",
       "      <td>0.813084</td>\n",
       "      <td>0.790210</td>\n",
       "    </tr>\n",
       "  </tbody>\n",
       "</table>\n",
       "</div>"
      ],
      "text/plain": [
       "                                            features  train_score  val_score\n",
       "0       [pclass, age, sibsp, parch, alone, sex_male]     0.813084   0.783217\n",
       "1  [pclass, age, sibsp, parch, alone, sex_male, e...     0.813084   0.790210\n",
       "2  [pclass, age, sibsp, parch, alone, sex_male, e...     0.813084   0.790210"
      ]
     },
     "execution_count": 27,
     "metadata": {},
     "output_type": "execute_result"
    }
   ],
   "source": [
    "metrics = []\n",
    "for i in [f[376],f[463],f[496]]:\n",
    "    l = LogisticRegression(random_state=42,max_iter=250)\n",
    "    l.fit(Xtr[i],ytr)\n",
    "    ytr_score = l.score(Xtr[i],ytr)\n",
    "    yv_score = l.score(Xv[i],yv)\n",
    "    # table-ize\n",
    "    output = {\n",
    "        'features':i,\n",
    "        'train_score':ytr_score,\n",
    "        'val_score':yv_score,\n",
    "    }\n",
    "    metrics.append(output)\n",
    "pd.DataFrame(metrics)"
   ]
  },
  {
   "attachments": {},
   "cell_type": "markdown",
   "metadata": {},
   "source": [
    "### 5. Choose you best model from the validation performance, and evaluate it on the test dataset. How do the performance metrics compare to validate? to train?"
   ]
  },
  {
   "cell_type": "code",
   "execution_count": 28,
   "metadata": {},
   "outputs": [],
   "source": [
    "def l_scores(Xtr, ytr, Xv, yv, max_iter=100):\n",
    "    #define variables\n",
    "    metrics = []\n",
    "    iterable = Xtr.columns.to_list()\n",
    "    for r in range(2,(len(iterable)+1)):\n",
    "        for feature in itertools.combinations(iterable,r):\n",
    "            f = list(feature)\n",
    "            l = LogisticRegression(random_state=42,max_iter=max_iter)\n",
    "            l.fit(Xtr[f],ytr)\n",
    "            ytr_score = l.score(Xtr[f],ytr)\n",
    "            yv_score = l.score(Xv[f],yv)\n",
    "            # table-ize\n",
    "            output = {\n",
    "                'features':f,\n",
    "                'train_score':ytr_score,\n",
    "                'val_score':yv_score,\n",
    "            }\n",
    "            metrics.append(output)\n",
    "    #Put results into a dataframe\n",
    "    df = pd.DataFrame(metrics)\n",
    "    # Calculate the difference between the train and validation scores\n",
    "    df['diff_score'] = abs(df.train_score - df.val_score)\n",
    "    df['avg_score'] = (df.train_score + df.val_score)/2\n",
    "    return df\n",
    "\n",
    "def score_plot(data, diff=0.1, score='avg_score', score_v=.7):\n",
    "    df = data[(data.diff_score<diff)&(data[score]>score_v)].sort_values([score, 'diff_score'], ascending=[False, True]).reset_index()\n",
    "    df = df.drop(columns='index')\n",
    "    # plot\n",
    "    plt.figure(figsize=(8, 5))\n",
    "    plt.plot(df.index, df.train_score, label='train', marker='o', color='blue')\n",
    "    plt.plot(df.index, df.val_score, label='validation', marker='o', color='orange')\n",
    "    plt.fill_between(df.index, df.train_score, df.val_score, alpha=0.2, color='gray')\n",
    "    plt.plot(df.index, df.avg_score, label='avg_score', marker='o', color='black')\n",
    "    plt.xlabel('index', fontsize=14)\n",
    "    plt.ylabel('Accuracy', fontsize=14)\n",
    "    plt.title('Random Forest Classifier Performance', fontsize=18)\n",
    "    plt.legend(fontsize=12)\n",
    "    plt.show()\n",
    "    return df"
   ]
  },
  {
   "cell_type": "code",
   "execution_count": 29,
   "metadata": {},
   "outputs": [],
   "source": [
    "df = l_scores(Xtr,ytr,Xv,yv,250)"
   ]
  },
  {
   "cell_type": "code",
   "execution_count": 30,
   "metadata": {},
   "outputs": [
    {
     "data": {
      "text/html": [
       "<div>\n",
       "<style scoped>\n",
       "    .dataframe tbody tr th:only-of-type {\n",
       "        vertical-align: middle;\n",
       "    }\n",
       "\n",
       "    .dataframe tbody tr th {\n",
       "        vertical-align: top;\n",
       "    }\n",
       "\n",
       "    .dataframe thead th {\n",
       "        text-align: right;\n",
       "    }\n",
       "</style>\n",
       "<table border=\"1\" class=\"dataframe\">\n",
       "  <thead>\n",
       "    <tr style=\"text-align: right;\">\n",
       "      <th></th>\n",
       "      <th>features</th>\n",
       "      <th>train_score</th>\n",
       "      <th>val_score</th>\n",
       "      <th>diff_score</th>\n",
       "      <th>avg_score</th>\n",
       "    </tr>\n",
       "  </thead>\n",
       "  <tbody>\n",
       "    <tr>\n",
       "      <th>410</th>\n",
       "      <td>[pclass, sibsp, parch, fare, sex_male, embarke...</td>\n",
       "      <td>0.785047</td>\n",
       "      <td>0.755245</td>\n",
       "      <td>0.029802</td>\n",
       "      <td>0.770146</td>\n",
       "    </tr>\n",
       "  </tbody>\n",
       "</table>\n",
       "</div>"
      ],
      "text/plain": [
       "                                              features  train_score  \\\n",
       "410  [pclass, sibsp, parch, fare, sex_male, embarke...     0.785047   \n",
       "\n",
       "     val_score  diff_score  avg_score  \n",
       "410   0.755245    0.029802   0.770146  "
      ]
     },
     "execution_count": 30,
     "metadata": {},
     "output_type": "execute_result"
    }
   ],
   "source": [
    "df.sample()"
   ]
  },
  {
   "cell_type": "code",
   "execution_count": 31,
   "metadata": {},
   "outputs": [
    {
     "data": {
      "image/png": "[encoded data removed]",
      "text/plain": [
       "<Figure size 800x500 with 1 Axes>"
      ]
     },
     "metadata": {},
     "output_type": "display_data"
    },
    {
     "data": {
      "text/html": [
       "<div>\n",
       "<style scoped>\n",
       "    .dataframe tbody tr th:only-of-type {\n",
       "        vertical-align: middle;\n",
       "    }\n",
       "\n",
       "    .dataframe tbody tr th {\n",
       "        vertical-align: top;\n",
       "    }\n",
       "\n",
       "    .dataframe thead th {\n",
       "        text-align: right;\n",
       "    }\n",
       "</style>\n",
       "<table border=\"1\" class=\"dataframe\">\n",
       "  <thead>\n",
       "    <tr style=\"text-align: right;\">\n",
       "      <th></th>\n",
       "      <th>features</th>\n",
       "      <th>train_score</th>\n",
       "      <th>val_score</th>\n",
       "      <th>diff_score</th>\n",
       "      <th>avg_score</th>\n",
       "    </tr>\n",
       "  </thead>\n",
       "  <tbody>\n",
       "    <tr>\n",
       "      <th>0</th>\n",
       "      <td>[pclass, age, alone, sex_male]</td>\n",
       "      <td>0.803738</td>\n",
       "      <td>0.804196</td>\n",
       "      <td>0.000457</td>\n",
       "      <td>0.803967</td>\n",
       "    </tr>\n",
       "    <tr>\n",
       "      <th>1</th>\n",
       "      <td>[pclass, age, alone, sex_male, embarked_Q]</td>\n",
       "      <td>0.803738</td>\n",
       "      <td>0.804196</td>\n",
       "      <td>0.000457</td>\n",
       "      <td>0.803967</td>\n",
       "    </tr>\n",
       "    <tr>\n",
       "      <th>2</th>\n",
       "      <td>[pclass, age, sex_male]</td>\n",
       "      <td>0.801402</td>\n",
       "      <td>0.797203</td>\n",
       "      <td>0.004199</td>\n",
       "      <td>0.799302</td>\n",
       "    </tr>\n",
       "    <tr>\n",
       "      <th>3</th>\n",
       "      <td>[pclass, age, sex_male, embarked_Q]</td>\n",
       "      <td>0.801402</td>\n",
       "      <td>0.797203</td>\n",
       "      <td>0.004199</td>\n",
       "      <td>0.799302</td>\n",
       "    </tr>\n",
       "    <tr>\n",
       "      <th>4</th>\n",
       "      <td>[pclass, sibsp, alone, sex_male, embarked_Q, e...</td>\n",
       "      <td>0.792056</td>\n",
       "      <td>0.790210</td>\n",
       "      <td>0.001846</td>\n",
       "      <td>0.791133</td>\n",
       "    </tr>\n",
       "    <tr>\n",
       "      <th>5</th>\n",
       "      <td>[pclass, sibsp, parch, alone, sex_male, embark...</td>\n",
       "      <td>0.796729</td>\n",
       "      <td>0.790210</td>\n",
       "      <td>0.006519</td>\n",
       "      <td>0.793469</td>\n",
       "    </tr>\n",
       "    <tr>\n",
       "      <th>6</th>\n",
       "      <td>[pclass, sibsp, parch, alone, sex_male, embark...</td>\n",
       "      <td>0.796729</td>\n",
       "      <td>0.790210</td>\n",
       "      <td>0.006519</td>\n",
       "      <td>0.793469</td>\n",
       "    </tr>\n",
       "    <tr>\n",
       "      <th>7</th>\n",
       "      <td>[age, sibsp, alone, sex_male, embarked_Q, emba...</td>\n",
       "      <td>0.782710</td>\n",
       "      <td>0.783217</td>\n",
       "      <td>0.000507</td>\n",
       "      <td>0.782964</td>\n",
       "    </tr>\n",
       "    <tr>\n",
       "      <th>8</th>\n",
       "      <td>[pclass, sibsp, parch, alone, sex_male, embark...</td>\n",
       "      <td>0.785047</td>\n",
       "      <td>0.783217</td>\n",
       "      <td>0.001830</td>\n",
       "      <td>0.784132</td>\n",
       "    </tr>\n",
       "    <tr>\n",
       "      <th>9</th>\n",
       "      <td>[pclass, sibsp, sex_male, embarked_S]</td>\n",
       "      <td>0.780374</td>\n",
       "      <td>0.783217</td>\n",
       "      <td>0.002843</td>\n",
       "      <td>0.781795</td>\n",
       "    </tr>\n",
       "    <tr>\n",
       "      <th>10</th>\n",
       "      <td>[pclass, sibsp, parch, alone, sex_male]</td>\n",
       "      <td>0.780374</td>\n",
       "      <td>0.783217</td>\n",
       "      <td>0.002843</td>\n",
       "      <td>0.781795</td>\n",
       "    </tr>\n",
       "    <tr>\n",
       "      <th>11</th>\n",
       "      <td>[pclass, sibsp, parch, sex_male, embarked_S]</td>\n",
       "      <td>0.780374</td>\n",
       "      <td>0.783217</td>\n",
       "      <td>0.002843</td>\n",
       "      <td>0.781795</td>\n",
       "    </tr>\n",
       "    <tr>\n",
       "      <th>12</th>\n",
       "      <td>[pclass, sibsp, sex_male, embarked_Q, embarked_S]</td>\n",
       "      <td>0.780374</td>\n",
       "      <td>0.783217</td>\n",
       "      <td>0.002843</td>\n",
       "      <td>0.781795</td>\n",
       "    </tr>\n",
       "    <tr>\n",
       "      <th>13</th>\n",
       "      <td>[pclass, sibsp, parch, sex_male, embarked_Q, e...</td>\n",
       "      <td>0.780374</td>\n",
       "      <td>0.783217</td>\n",
       "      <td>0.002843</td>\n",
       "      <td>0.781795</td>\n",
       "    </tr>\n",
       "    <tr>\n",
       "      <th>14</th>\n",
       "      <td>[pclass, sex_male, embarked_S]</td>\n",
       "      <td>0.778037</td>\n",
       "      <td>0.783217</td>\n",
       "      <td>0.005179</td>\n",
       "      <td>0.780627</td>\n",
       "    </tr>\n",
       "    <tr>\n",
       "      <th>15</th>\n",
       "      <td>[pclass, parch, sex_male, embarked_S]</td>\n",
       "      <td>0.778037</td>\n",
       "      <td>0.783217</td>\n",
       "      <td>0.005179</td>\n",
       "      <td>0.780627</td>\n",
       "    </tr>\n",
       "    <tr>\n",
       "      <th>16</th>\n",
       "      <td>[pclass, alone, sex_male, embarked_S]</td>\n",
       "      <td>0.778037</td>\n",
       "      <td>0.783217</td>\n",
       "      <td>0.005179</td>\n",
       "      <td>0.780627</td>\n",
       "    </tr>\n",
       "    <tr>\n",
       "      <th>17</th>\n",
       "      <td>[pclass, sex_male, embarked_Q, embarked_S]</td>\n",
       "      <td>0.778037</td>\n",
       "      <td>0.783217</td>\n",
       "      <td>0.005179</td>\n",
       "      <td>0.780627</td>\n",
       "    </tr>\n",
       "    <tr>\n",
       "      <th>18</th>\n",
       "      <td>[pclass, parch, sex_male, embarked_Q, embarked_S]</td>\n",
       "      <td>0.778037</td>\n",
       "      <td>0.783217</td>\n",
       "      <td>0.005179</td>\n",
       "      <td>0.780627</td>\n",
       "    </tr>\n",
       "    <tr>\n",
       "      <th>19</th>\n",
       "      <td>[pclass, alone, sex_male, embarked_Q, embarked_S]</td>\n",
       "      <td>0.778037</td>\n",
       "      <td>0.783217</td>\n",
       "      <td>0.005179</td>\n",
       "      <td>0.780627</td>\n",
       "    </tr>\n",
       "    <tr>\n",
       "      <th>20</th>\n",
       "      <td>[pclass, sibsp, alone, sex_male, embarked_S]</td>\n",
       "      <td>0.792056</td>\n",
       "      <td>0.783217</td>\n",
       "      <td>0.008839</td>\n",
       "      <td>0.787636</td>\n",
       "    </tr>\n",
       "    <tr>\n",
       "      <th>21</th>\n",
       "      <td>[pclass, sibsp, alone, sex_male]</td>\n",
       "      <td>0.782710</td>\n",
       "      <td>0.776224</td>\n",
       "      <td>0.006487</td>\n",
       "      <td>0.779467</td>\n",
       "    </tr>\n",
       "    <tr>\n",
       "      <th>22</th>\n",
       "      <td>[sibsp, alone, sex_male, embarked_S]</td>\n",
       "      <td>0.782710</td>\n",
       "      <td>0.776224</td>\n",
       "      <td>0.006487</td>\n",
       "      <td>0.779467</td>\n",
       "    </tr>\n",
       "    <tr>\n",
       "      <th>23</th>\n",
       "      <td>[pclass, sibsp, alone, sex_male, embarked_Q]</td>\n",
       "      <td>0.782710</td>\n",
       "      <td>0.776224</td>\n",
       "      <td>0.006487</td>\n",
       "      <td>0.779467</td>\n",
       "    </tr>\n",
       "    <tr>\n",
       "      <th>24</th>\n",
       "      <td>[sibsp, alone, sex_male, embarked_Q, embarked_S]</td>\n",
       "      <td>0.782710</td>\n",
       "      <td>0.776224</td>\n",
       "      <td>0.006487</td>\n",
       "      <td>0.779467</td>\n",
       "    </tr>\n",
       "    <tr>\n",
       "      <th>25</th>\n",
       "      <td>[pclass, parch, alone, sex_male, embarked_Q, e...</td>\n",
       "      <td>0.785047</td>\n",
       "      <td>0.776224</td>\n",
       "      <td>0.008823</td>\n",
       "      <td>0.780635</td>\n",
       "    </tr>\n",
       "    <tr>\n",
       "      <th>26</th>\n",
       "      <td>[pclass, fare, sex_male, embarked_Q, embarked_S]</td>\n",
       "      <td>0.778037</td>\n",
       "      <td>0.769231</td>\n",
       "      <td>0.008807</td>\n",
       "      <td>0.773634</td>\n",
       "    </tr>\n",
       "    <tr>\n",
       "      <th>27</th>\n",
       "      <td>[pclass, fare, alone, sex_male, embarked_Q, em...</td>\n",
       "      <td>0.778037</td>\n",
       "      <td>0.769231</td>\n",
       "      <td>0.008807</td>\n",
       "      <td>0.773634</td>\n",
       "    </tr>\n",
       "    <tr>\n",
       "      <th>28</th>\n",
       "      <td>[pclass, age, sibsp, parch, alone]</td>\n",
       "      <td>0.728972</td>\n",
       "      <td>0.734266</td>\n",
       "      <td>0.005294</td>\n",
       "      <td>0.731619</td>\n",
       "    </tr>\n",
       "    <tr>\n",
       "      <th>29</th>\n",
       "      <td>[pclass, age, sibsp, alone, embarked_Q]</td>\n",
       "      <td>0.728972</td>\n",
       "      <td>0.734266</td>\n",
       "      <td>0.005294</td>\n",
       "      <td>0.731619</td>\n",
       "    </tr>\n",
       "    <tr>\n",
       "      <th>30</th>\n",
       "      <td>[pclass, age, sibsp, alone]</td>\n",
       "      <td>0.728972</td>\n",
       "      <td>0.727273</td>\n",
       "      <td>0.001699</td>\n",
       "      <td>0.728122</td>\n",
       "    </tr>\n",
       "    <tr>\n",
       "      <th>31</th>\n",
       "      <td>[pclass, age, alone, embarked_S]</td>\n",
       "      <td>0.714953</td>\n",
       "      <td>0.713287</td>\n",
       "      <td>0.001667</td>\n",
       "      <td>0.714120</td>\n",
       "    </tr>\n",
       "    <tr>\n",
       "      <th>32</th>\n",
       "      <td>[pclass, age, parch, alone, embarked_S]</td>\n",
       "      <td>0.714953</td>\n",
       "      <td>0.713287</td>\n",
       "      <td>0.001667</td>\n",
       "      <td>0.714120</td>\n",
       "    </tr>\n",
       "    <tr>\n",
       "      <th>33</th>\n",
       "      <td>[pclass, age, sibsp, parch, embarked_S]</td>\n",
       "      <td>0.719626</td>\n",
       "      <td>0.713287</td>\n",
       "      <td>0.006339</td>\n",
       "      <td>0.716456</td>\n",
       "    </tr>\n",
       "    <tr>\n",
       "      <th>34</th>\n",
       "      <td>[pclass, age, sibsp, parch, embarked_Q, embark...</td>\n",
       "      <td>0.719626</td>\n",
       "      <td>0.713287</td>\n",
       "      <td>0.006339</td>\n",
       "      <td>0.716456</td>\n",
       "    </tr>\n",
       "    <tr>\n",
       "      <th>35</th>\n",
       "      <td>[pclass, age, sibsp, parch]</td>\n",
       "      <td>0.705607</td>\n",
       "      <td>0.706294</td>\n",
       "      <td>0.000686</td>\n",
       "      <td>0.705951</td>\n",
       "    </tr>\n",
       "    <tr>\n",
       "      <th>36</th>\n",
       "      <td>[pclass, age, sibsp, embarked_Q, embarked_S]</td>\n",
       "      <td>0.705607</td>\n",
       "      <td>0.706294</td>\n",
       "      <td>0.000686</td>\n",
       "      <td>0.705951</td>\n",
       "    </tr>\n",
       "    <tr>\n",
       "      <th>37</th>\n",
       "      <td>[pclass, age, alone, embarked_Q, embarked_S]</td>\n",
       "      <td>0.712617</td>\n",
       "      <td>0.706294</td>\n",
       "      <td>0.006323</td>\n",
       "      <td>0.709455</td>\n",
       "    </tr>\n",
       "    <tr>\n",
       "      <th>38</th>\n",
       "      <td>[pclass, age, parch, alone, embarked_Q, embark...</td>\n",
       "      <td>0.712617</td>\n",
       "      <td>0.706294</td>\n",
       "      <td>0.006323</td>\n",
       "      <td>0.709455</td>\n",
       "    </tr>\n",
       "  </tbody>\n",
       "</table>\n",
       "</div>"
      ],
      "text/plain": [
       "                                             features  train_score  val_score  \\\n",
       "0                      [pclass, age, alone, sex_male]     0.803738   0.804196   \n",
       "1          [pclass, age, alone, sex_male, embarked_Q]     0.803738   0.804196   \n",
       "2                             [pclass, age, sex_male]     0.801402   0.797203   \n",
       "3                 [pclass, age, sex_male, embarked_Q]     0.801402   0.797203   \n",
       "4   [pclass, sibsp, alone, sex_male, embarked_Q, e...     0.792056   0.790210   \n",
       "5   [pclass, sibsp, parch, alone, sex_male, embark...     0.796729   0.790210   \n",
       "6   [pclass, sibsp, parch, alone, sex_male, embark...     0.796729   0.790210   \n",
       "7   [age, sibsp, alone, sex_male, embarked_Q, emba...     0.782710   0.783217   \n",
       "8   [pclass, sibsp, parch, alone, sex_male, embark...     0.785047   0.783217   \n",
       "9               [pclass, sibsp, sex_male, embarked_S]     0.780374   0.783217   \n",
       "10            [pclass, sibsp, parch, alone, sex_male]     0.780374   0.783217   \n",
       "11       [pclass, sibsp, parch, sex_male, embarked_S]     0.780374   0.783217   \n",
       "12  [pclass, sibsp, sex_male, embarked_Q, embarked_S]     0.780374   0.783217   \n",
       "13  [pclass, sibsp, parch, sex_male, embarked_Q, e...     0.780374   0.783217   \n",
       "14                     [pclass, sex_male, embarked_S]     0.778037   0.783217   \n",
       "15              [pclass, parch, sex_male, embarked_S]     0.778037   0.783217   \n",
       "16              [pclass, alone, sex_male, embarked_S]     0.778037   0.783217   \n",
       "17         [pclass, sex_male, embarked_Q, embarked_S]     0.778037   0.783217   \n",
       "18  [pclass, parch, sex_male, embarked_Q, embarked_S]     0.778037   0.783217   \n",
       "19  [pclass, alone, sex_male, embarked_Q, embarked_S]     0.778037   0.783217   \n",
       "20       [pclass, sibsp, alone, sex_male, embarked_S]     0.792056   0.783217   \n",
       "21                   [pclass, sibsp, alone, sex_male]     0.782710   0.776224   \n",
       "22               [sibsp, alone, sex_male, embarked_S]     0.782710   0.776224   \n",
       "23       [pclass, sibsp, alone, sex_male, embarked_Q]     0.782710   0.776224   \n",
       "24   [sibsp, alone, sex_male, embarked_Q, embarked_S]     0.782710   0.776224   \n",
       "25  [pclass, parch, alone, sex_male, embarked_Q, e...     0.785047   0.776224   \n",
       "26   [pclass, fare, sex_male, embarked_Q, embarked_S]     0.778037   0.769231   \n",
       "27  [pclass, fare, alone, sex_male, embarked_Q, em...     0.778037   0.769231   \n",
       "28                 [pclass, age, sibsp, parch, alone]     0.728972   0.734266   \n",
       "29            [pclass, age, sibsp, alone, embarked_Q]     0.728972   0.734266   \n",
       "30                        [pclass, age, sibsp, alone]     0.728972   0.727273   \n",
       "31                   [pclass, age, alone, embarked_S]     0.714953   0.713287   \n",
       "32            [pclass, age, parch, alone, embarked_S]     0.714953   0.713287   \n",
       "33            [pclass, age, sibsp, parch, embarked_S]     0.719626   0.713287   \n",
       "34  [pclass, age, sibsp, parch, embarked_Q, embark...     0.719626   0.713287   \n",
       "35                        [pclass, age, sibsp, parch]     0.705607   0.706294   \n",
       "36       [pclass, age, sibsp, embarked_Q, embarked_S]     0.705607   0.706294   \n",
       "37       [pclass, age, alone, embarked_Q, embarked_S]     0.712617   0.706294   \n",
       "38  [pclass, age, parch, alone, embarked_Q, embark...     0.712617   0.706294   \n",
       "\n",
       "    diff_score  avg_score  \n",
       "0     0.000457   0.803967  \n",
       "1     0.000457   0.803967  \n",
       "2     0.004199   0.799302  \n",
       "3     0.004199   0.799302  \n",
       "4     0.001846   0.791133  \n",
       "5     0.006519   0.793469  \n",
       "6     0.006519   0.793469  \n",
       "7     0.000507   0.782964  \n",
       "8     0.001830   0.784132  \n",
       "9     0.002843   0.781795  \n",
       "10    0.002843   0.781795  \n",
       "11    0.002843   0.781795  \n",
       "12    0.002843   0.781795  \n",
       "13    0.002843   0.781795  \n",
       "14    0.005179   0.780627  \n",
       "15    0.005179   0.780627  \n",
       "16    0.005179   0.780627  \n",
       "17    0.005179   0.780627  \n",
       "18    0.005179   0.780627  \n",
       "19    0.005179   0.780627  \n",
       "20    0.008839   0.787636  \n",
       "21    0.006487   0.779467  \n",
       "22    0.006487   0.779467  \n",
       "23    0.006487   0.779467  \n",
       "24    0.006487   0.779467  \n",
       "25    0.008823   0.780635  \n",
       "26    0.008807   0.773634  \n",
       "27    0.008807   0.773634  \n",
       "28    0.005294   0.731619  \n",
       "29    0.005294   0.731619  \n",
       "30    0.001699   0.728122  \n",
       "31    0.001667   0.714120  \n",
       "32    0.001667   0.714120  \n",
       "33    0.006339   0.716456  \n",
       "34    0.006339   0.716456  \n",
       "35    0.000686   0.705951  \n",
       "36    0.000686   0.705951  \n",
       "37    0.006323   0.709455  \n",
       "38    0.006323   0.709455  "
      ]
     },
     "execution_count": 31,
     "metadata": {},
     "output_type": "execute_result"
    }
   ],
   "source": [
    "score_plot(df,0.01,'val_score')"
   ]
  },
  {
   "cell_type": "code",
   "execution_count": 32,
   "metadata": {},
   "outputs": [
    {
     "data": {
      "text/plain": [
       "((0.5934579439252337, 0),\n",
       " 0.8037383177570093,\n",
       " 0.8041958041958042,\n",
       " 0.7972027972027972)"
      ]
     },
     "execution_count": 32,
     "metadata": {},
     "output_type": "execute_result"
    }
   ],
   "source": [
    "f = ['pclass', 'age', 'alone', 'sex_male']\n",
    "l_test = LogisticRegression(random_state=42)\n",
    "l_test.fit(Xtr[f],ytr)\n",
    "baseline(ytr),l_test.score(Xtr[f],ytr),l_test.score(Xv[f],yv),l_test.score(Xt[f],yt)"
   ]
  },
  {
   "attachments": {},
   "cell_type": "markdown",
   "metadata": {},
   "source": [
    "### **Bonus1** How do different strategies for handling the missing values in the age column affect model performance?"
   ]
  },
  {
   "cell_type": "code",
   "execution_count": 33,
   "metadata": {},
   "outputs": [
    {
     "name": "stdout",
     "output_type": "stream",
     "text": [
      "csv file found and loaded\n",
      "data cleaned and prepped\n",
      "data split\n",
      "train -> (534, 12); 59.93%\n",
      "validate -> (178, 12); 19.98%\n",
      "test -> (179, 12); 20.09%\n"
     ]
    },
    {
     "data": {
      "text/html": [
       "<div>\n",
       "<style scoped>\n",
       "    .dataframe tbody tr th:only-of-type {\n",
       "        vertical-align: middle;\n",
       "    }\n",
       "\n",
       "    .dataframe tbody tr th {\n",
       "        vertical-align: top;\n",
       "    }\n",
       "\n",
       "    .dataframe thead th {\n",
       "        text-align: right;\n",
       "    }\n",
       "</style>\n",
       "<table border=\"1\" class=\"dataframe\">\n",
       "  <thead>\n",
       "    <tr style=\"text-align: right;\">\n",
       "      <th></th>\n",
       "      <th>survived</th>\n",
       "      <th>pclass</th>\n",
       "      <th>sex</th>\n",
       "      <th>age</th>\n",
       "      <th>sibsp</th>\n",
       "      <th>parch</th>\n",
       "      <th>fare</th>\n",
       "      <th>embarked</th>\n",
       "      <th>alone</th>\n",
       "      <th>sex_male</th>\n",
       "      <th>embarked_Q</th>\n",
       "      <th>embarked_S</th>\n",
       "    </tr>\n",
       "  </thead>\n",
       "  <tbody>\n",
       "    <tr>\n",
       "      <th>605</th>\n",
       "      <td>0</td>\n",
       "      <td>3</td>\n",
       "      <td>male</td>\n",
       "      <td>36.0</td>\n",
       "      <td>1</td>\n",
       "      <td>0</td>\n",
       "      <td>15.55</td>\n",
       "      <td>S</td>\n",
       "      <td>0</td>\n",
       "      <td>1</td>\n",
       "      <td>0</td>\n",
       "      <td>1</td>\n",
       "    </tr>\n",
       "  </tbody>\n",
       "</table>\n",
       "</div>"
      ],
      "text/plain": [
       "     survived  pclass   sex   age  sibsp  parch   fare embarked  alone  \\\n",
       "605         0       3  male  36.0      1      0  15.55        S      0   \n",
       "\n",
       "     sex_male  embarked_Q  embarked_S  \n",
       "605         1           0           1  "
      ]
     },
     "execution_count": 33,
     "metadata": {},
     "output_type": "execute_result"
    }
   ],
   "source": [
    "df = get_titanic_data()\n",
    "# tr,v,t = prep_split_titanic_drp_age(df)\n",
    "tr,v,t = prep_split_titanic_imp_age(df)\n",
    "# tr,v,t = prep_split_titanic_drp_null_age(df)\n",
    "tr.sample()"
   ]
  },
  {
   "cell_type": "code",
   "execution_count": 34,
   "metadata": {},
   "outputs": [],
   "source": [
    "Xtr = tr.drop(columns=['survived','sex','embarked'])\n",
    "Xv = v.drop(columns=['survived','sex','embarked'])\n",
    "Xt = t.drop(columns=['survived','sex','embarked'])\n",
    "ytr = tr.survived\n",
    "yv = v.survived\n",
    "yt = t.survived"
   ]
  },
  {
   "cell_type": "code",
   "execution_count": 35,
   "metadata": {},
   "outputs": [
    {
     "data": {
      "text/plain": [
       "(0.6161048689138576, 0)"
      ]
     },
     "execution_count": 35,
     "metadata": {},
     "output_type": "execute_result"
    }
   ],
   "source": [
    "# impute_age baseline = 0.6161048689138576\n",
    "baseline(ytr)"
   ]
  },
  {
   "cell_type": "code",
   "execution_count": 36,
   "metadata": {},
   "outputs": [
    {
     "data": {
      "text/plain": [
       "0.7116104868913857"
      ]
     },
     "execution_count": 36,
     "metadata": {},
     "output_type": "execute_result"
    }
   ],
   "source": [
    "features = ['age','fare','pclass']\n",
    "l = LogisticRegression(random_state=42)\n",
    "l.fit(Xtr[features],ytr)\n",
    "ytr_pred = l.predict(Xtr[features])\n",
    "l.score(Xtr[features],ytr)"
   ]
  },
  {
   "cell_type": "code",
   "execution_count": 37,
   "metadata": {},
   "outputs": [
    {
     "data": {
      "text/plain": [
       "(30.047010354703644, 29.69911764705882)"
      ]
     },
     "execution_count": 37,
     "metadata": {},
     "output_type": "execute_result"
    }
   ],
   "source": [
    "Xtr['age'].mean(),Xtr['age'].median()"
   ]
  },
  {
   "cell_type": "code",
   "execution_count": null,
   "metadata": {},
   "outputs": [],
   "source": []
  }
 ],
 "metadata": {
  "kernelspec": {
   "display_name": "base",
   "language": "python",
   "name": "python3"
  },
  "language_info": {
   "codemirror_mode": {
    "name": "ipython",
    "version": 3
   },
   "file_extension": ".py",
   "mimetype": "text/x-python",
   "name": "python",
   "nbconvert_exporter": "python",
   "pygments_lexer": "ipython3",
   "version": "3.9.13"
  },
  "orig_nbformat": 4
 },
 "nbformat": 4,
 "nbformat_minor": 2
}
