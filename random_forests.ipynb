{
 "cells": [
  {
   "cell_type": "code",
   "execution_count": 1,
   "metadata": {},
   "outputs": [],
   "source": [
    "import numpy as np\n",
    "import pandas as pd\n",
    "import matplotlib.pyplot as plt\n",
    "import seaborn as sns\n",
    "from sklearn.ensemble import RandomForestClassifier\n",
    "from sklearn.metrics import classification_report, confusion_matrix, ConfusionMatrixDisplay\n",
    "from acquire import get_titanic_data\n",
    "from prepare import prep_titanic, split_data"
   ]
  },
  {
   "attachments": {},
   "cell_type": "markdown",
   "metadata": {},
   "source": [
    "# Random Forests\n",
    "What is it?\n",
    "- a machine learning algorithm used for predicting categorical target variables\n",
    "- Pipeline: Plan - Acquire - Prepare - Explore - **Model** - Deliver\n",
    "\n",
    "How do we use it?\n",
    "- acquire, prepare, explore our data\n",
    "- split data for modeling\n",
    "- build models on train\n",
    "    - create rules based on our input data\n",
    "- evaluate models on train & validate\n",
    "    - see how our rules work on unseen data\n",
    "- pick best of the best model, and evaluate bestest model on test"
   ]
  },
  {
   "cell_type": "markdown",
   "metadata": {},
   "source": [
    "random forest hyperparameters\n",
    "- n_estimators: The number of trees in the forest (default=100)\n",
    "- bootstrap: whether bootstrap samples are used when building trees (default=True)\n",
    "- random_state: controls randomness of bootstrapping samples (default=None)\n",
    "\n",
    "seen before\n",
    "- criterion (default=”gini”)\n",
    "- max_depth (default=None)\n",
    "- min_samples_split (default=2)\n",
    "- min_samples_leaf (default=1)\n",
    "- max_leaf_nodes (default= None)"
   ]
  },
  {
   "attachments": {},
   "cell_type": "markdown",
   "metadata": {},
   "source": [
    "## Exercises\n",
    "work with `titanic` data"
   ]
  },
  {
   "cell_type": "code",
   "execution_count": 2,
   "metadata": {},
   "outputs": [
    {
     "name": "stdout",
     "output_type": "stream",
     "text": [
      "csv file found and loaded\n",
      "data cleaned and prepped\n",
      "data split\n",
      "train -> (534, 11); 59.93%\n",
      "validate -> (178, 11); 19.98%\n",
      "test -> (179, 11); 20.09%\n"
     ]
    },
    {
     "data": {
      "text/html": [
       "<div>\n",
       "<style scoped>\n",
       "    .dataframe tbody tr th:only-of-type {\n",
       "        vertical-align: middle;\n",
       "    }\n",
       "\n",
       "    .dataframe tbody tr th {\n",
       "        vertical-align: top;\n",
       "    }\n",
       "\n",
       "    .dataframe thead th {\n",
       "        text-align: right;\n",
       "    }\n",
       "</style>\n",
       "<table border=\"1\" class=\"dataframe\">\n",
       "  <thead>\n",
       "    <tr style=\"text-align: right;\">\n",
       "      <th></th>\n",
       "      <th>survived</th>\n",
       "      <th>pclass</th>\n",
       "      <th>sex</th>\n",
       "      <th>sibsp</th>\n",
       "      <th>parch</th>\n",
       "      <th>fare</th>\n",
       "      <th>embarked</th>\n",
       "      <th>alone</th>\n",
       "      <th>sex_male</th>\n",
       "      <th>embarked_Q</th>\n",
       "      <th>embarked_S</th>\n",
       "    </tr>\n",
       "  </thead>\n",
       "  <tbody>\n",
       "    <tr>\n",
       "      <th>550</th>\n",
       "      <td>1</td>\n",
       "      <td>1</td>\n",
       "      <td>male</td>\n",
       "      <td>0</td>\n",
       "      <td>2</td>\n",
       "      <td>110.8833</td>\n",
       "      <td>C</td>\n",
       "      <td>0</td>\n",
       "      <td>1</td>\n",
       "      <td>0</td>\n",
       "      <td>0</td>\n",
       "    </tr>\n",
       "  </tbody>\n",
       "</table>\n",
       "</div>"
      ],
      "text/plain": [
       "     survived  pclass   sex  sibsp  parch      fare embarked  alone  sex_male  \\\n",
       "550         1       1  male      0      2  110.8833        C      0         1   \n",
       "\n",
       "     embarked_Q  embarked_S  \n",
       "550           0           0  "
      ]
     },
     "execution_count": 2,
     "metadata": {},
     "output_type": "execute_result"
    }
   ],
   "source": [
    "df = get_titanic_data()\n",
    "df = prep_titanic(df)\n",
    "tr,v,t = split_data(df,'survived')\n",
    "tr.sample()"
   ]
  },
  {
   "cell_type": "code",
   "execution_count": 3,
   "metadata": {},
   "outputs": [],
   "source": [
    "Xtr = tr.drop(columns=['survived','sex','embarked'])\n",
    "Xv = v.drop(columns=['survived','sex','embarked'])\n",
    "Xt = t.drop(columns=['survived','sex','embarked'])\n",
    "ytr = tr.survived\n",
    "yv = v.survived\n",
    "yt = t.survived"
   ]
  },
  {
   "cell_type": "code",
   "execution_count": 4,
   "metadata": {},
   "outputs": [
    {
     "data": {
      "text/html": [
       "<div>\n",
       "<style scoped>\n",
       "    .dataframe tbody tr th:only-of-type {\n",
       "        vertical-align: middle;\n",
       "    }\n",
       "\n",
       "    .dataframe tbody tr th {\n",
       "        vertical-align: top;\n",
       "    }\n",
       "\n",
       "    .dataframe thead th {\n",
       "        text-align: right;\n",
       "    }\n",
       "</style>\n",
       "<table border=\"1\" class=\"dataframe\">\n",
       "  <thead>\n",
       "    <tr style=\"text-align: right;\">\n",
       "      <th></th>\n",
       "      <th>pclass</th>\n",
       "      <th>sibsp</th>\n",
       "      <th>parch</th>\n",
       "      <th>fare</th>\n",
       "      <th>alone</th>\n",
       "      <th>sex_male</th>\n",
       "      <th>embarked_Q</th>\n",
       "      <th>embarked_S</th>\n",
       "    </tr>\n",
       "  </thead>\n",
       "  <tbody>\n",
       "    <tr>\n",
       "      <th>217</th>\n",
       "      <td>2</td>\n",
       "      <td>1</td>\n",
       "      <td>0</td>\n",
       "      <td>27.0</td>\n",
       "      <td>0</td>\n",
       "      <td>1</td>\n",
       "      <td>0</td>\n",
       "      <td>1</td>\n",
       "    </tr>\n",
       "  </tbody>\n",
       "</table>\n",
       "</div>"
      ],
      "text/plain": [
       "     pclass  sibsp  parch  fare  alone  sex_male  embarked_Q  embarked_S\n",
       "217       2      1      0  27.0      0         1           0           1"
      ]
     },
     "execution_count": 4,
     "metadata": {},
     "output_type": "execute_result"
    }
   ],
   "source": [
    "Xtr.sample()"
   ]
  },
  {
   "cell_type": "code",
   "execution_count": 5,
   "metadata": {},
   "outputs": [
    {
     "data": {
      "text/plain": [
       "337    1\n",
       "Name: survived, dtype: int64"
      ]
     },
     "execution_count": 5,
     "metadata": {},
     "output_type": "execute_result"
    }
   ],
   "source": [
    "ytr.sample()"
   ]
  },
  {
   "cell_type": "code",
   "execution_count": 6,
   "metadata": {},
   "outputs": [
    {
     "data": {
      "text/plain": [
       "0.6161048689138576"
      ]
     },
     "execution_count": 6,
     "metadata": {},
     "output_type": "execute_result"
    }
   ],
   "source": [
    "baseline = (ytr==0).mean()\n",
    "baseline"
   ]
  },
  {
   "attachments": {},
   "cell_type": "markdown",
   "metadata": {},
   "source": [
    "### 1. Fit the Random Forest classifier to your training sample and transform (i.e. make predictions on the training sample) setting the `random_state` accordingly and setting `min_samples_leaf` = 1 and `max_depth` = 10."
   ]
  },
  {
   "cell_type": "code",
   "execution_count": 7,
   "metadata": {},
   "outputs": [
    {
     "data": {
      "text/plain": [
       "array([0.11106251, 0.05307524, 0.06396437, 0.39850609, 0.02432817,\n",
       "       0.29892752, 0.01562892, 0.03450717])"
      ]
     },
     "execution_count": 7,
     "metadata": {},
     "output_type": "execute_result"
    }
   ],
   "source": [
    "rf = RandomForestClassifier(min_samples_leaf=1,max_depth=10,random_state=42)\n",
    "rf.fit(Xtr,ytr)\n",
    "y_pred = rf.predict(Xtr)\n",
    "y_prob = rf.predict_proba(Xtr)\n",
    "rf.feature_importances_"
   ]
  },
  {
   "cell_type": "code",
   "execution_count": 8,
   "metadata": {},
   "outputs": [
    {
     "data": {
      "text/plain": [
       "Index(['pclass', 'sibsp', 'parch', 'fare', 'alone', 'sex_male', 'embarked_Q',\n",
       "       'embarked_S'],\n",
       "      dtype='object')"
      ]
     },
     "execution_count": 8,
     "metadata": {},
     "output_type": "execute_result"
    }
   ],
   "source": [
    "Xtr.columns"
   ]
  },
  {
   "cell_type": "markdown",
   "metadata": {},
   "source": [
    "### 2. Evaluate your results using the model score, confusion matrix, and classification report.\n",
    "\n"
   ]
  },
  {
   "cell_type": "code",
   "execution_count": 9,
   "metadata": {},
   "outputs": [
    {
     "data": {
      "text/plain": [
       "0.9269662921348315"
      ]
     },
     "execution_count": 9,
     "metadata": {},
     "output_type": "execute_result"
    }
   ],
   "source": [
    "rf.score(Xtr,ytr)"
   ]
  },
  {
   "cell_type": "code",
   "execution_count": 10,
   "metadata": {},
   "outputs": [
    {
     "data": {
      "image/png": "[encoded data removed]",
      "text/plain": [
       "<Figure size 640x480 with 2 Axes>"
      ]
     },
     "metadata": {},
     "output_type": "display_data"
    }
   ],
   "source": [
    "ConfusionMatrixDisplay(confusion_matrix(ytr,y_pred,labels=rf.classes_),display_labels=rf.classes_).plot()\n",
    "plt.show()"
   ]
  },
  {
   "cell_type": "code",
   "execution_count": 11,
   "metadata": {},
   "outputs": [
    {
     "data": {
      "text/html": [
       "<div>\n",
       "<style scoped>\n",
       "    .dataframe tbody tr th:only-of-type {\n",
       "        vertical-align: middle;\n",
       "    }\n",
       "\n",
       "    .dataframe tbody tr th {\n",
       "        vertical-align: top;\n",
       "    }\n",
       "\n",
       "    .dataframe thead th {\n",
       "        text-align: right;\n",
       "    }\n",
       "</style>\n",
       "<table border=\"1\" class=\"dataframe\">\n",
       "  <thead>\n",
       "    <tr style=\"text-align: right;\">\n",
       "      <th></th>\n",
       "      <th>0</th>\n",
       "      <th>1</th>\n",
       "      <th>accuracy</th>\n",
       "      <th>macro avg</th>\n",
       "      <th>weighted avg</th>\n",
       "    </tr>\n",
       "  </thead>\n",
       "  <tbody>\n",
       "    <tr>\n",
       "      <th>precision</th>\n",
       "      <td>0.921512</td>\n",
       "      <td>0.936842</td>\n",
       "      <td>0.926966</td>\n",
       "      <td>0.929177</td>\n",
       "      <td>0.927397</td>\n",
       "    </tr>\n",
       "    <tr>\n",
       "      <th>recall</th>\n",
       "      <td>0.963526</td>\n",
       "      <td>0.868293</td>\n",
       "      <td>0.926966</td>\n",
       "      <td>0.915909</td>\n",
       "      <td>0.926966</td>\n",
       "    </tr>\n",
       "    <tr>\n",
       "      <th>f1-score</th>\n",
       "      <td>0.942051</td>\n",
       "      <td>0.901266</td>\n",
       "      <td>0.926966</td>\n",
       "      <td>0.921658</td>\n",
       "      <td>0.926393</td>\n",
       "    </tr>\n",
       "    <tr>\n",
       "      <th>support</th>\n",
       "      <td>329.000000</td>\n",
       "      <td>205.000000</td>\n",
       "      <td>0.926966</td>\n",
       "      <td>534.000000</td>\n",
       "      <td>534.000000</td>\n",
       "    </tr>\n",
       "  </tbody>\n",
       "</table>\n",
       "</div>"
      ],
      "text/plain": [
       "                    0           1  accuracy   macro avg  weighted avg\n",
       "precision    0.921512    0.936842  0.926966    0.929177      0.927397\n",
       "recall       0.963526    0.868293  0.926966    0.915909      0.926966\n",
       "f1-score     0.942051    0.901266  0.926966    0.921658      0.926393\n",
       "support    329.000000  205.000000  0.926966  534.000000    534.000000"
      ]
     },
     "execution_count": 11,
     "metadata": {},
     "output_type": "execute_result"
    }
   ],
   "source": [
    "pd.DataFrame(classification_report(ytr,y_pred,output_dict=True))"
   ]
  },
  {
   "cell_type": "markdown",
   "metadata": {},
   "source": [
    "### 3. Print and clearly label the following: Accuracy, true positive rate, false positive rate, true negative rate, false negative rate, precision, recall, f1-score, and support.\n",
    "\n"
   ]
  },
  {
   "cell_type": "code",
   "execution_count": 12,
   "metadata": {},
   "outputs": [
    {
     "data": {
      "text/plain": [
       "(317, 12, 27, 178)"
      ]
     },
     "execution_count": 12,
     "metadata": {},
     "output_type": "execute_result"
    }
   ],
   "source": [
    "TN, FP, FN, TP = confusion_matrix(ytr, y_pred).ravel()\n",
    "TN, FP, FN, TP"
   ]
  },
  {
   "cell_type": "code",
   "execution_count": 13,
   "metadata": {},
   "outputs": [
    {
     "name": "stdout",
     "output_type": "stream",
     "text": [
      "Actual Negative: 329\n",
      "Actual Positive: 205\n",
      "0    329\n",
      "1    205\n",
      "Name: survived, dtype: int64\n"
     ]
    }
   ],
   "source": [
    "act_neg = TN + FP\n",
    "act_pos = FN + TP\n",
    "print(f\"Actual Negative: {act_neg}\")\n",
    "print(f\"Actual Positive: {act_pos}\")\n",
    "print(ytr.value_counts())"
   ]
  },
  {
   "cell_type": "code",
   "execution_count": 14,
   "metadata": {},
   "outputs": [
    {
     "name": "stdout",
     "output_type": "stream",
     "text": [
      "Accuracy: 0.9269662921348315\n",
      "True Pos Rate: 0.8682926829268293\n",
      "False Pos Rate: 0.0364741641337386\n",
      "True Neg Rate: 0.9635258358662614\n",
      "False Neg Rate: 0.13170731707317074\n",
      "Precision: 0.9368421052631579\n",
      "Recall: 0.8682926829268293\n",
      "F1 Score: 0.90126582278481\n",
      "Support Pos (1): 205\n",
      "Support Neg (0): 329\n"
     ]
    }
   ],
   "source": [
    "ALL = TN + FP + FN + TP\n",
    "acc = (TP+TN)/ALL\n",
    "tru_pos = rec = TP/(TP+FN)\n",
    "fal_pos = FP/(FP+TN)\n",
    "tru_neg = TN/(FP+TN)\n",
    "fal_neg = FN/(TP+FN)\n",
    "prc = TP/(TP+FP)\n",
    "f1_score = 2*(prc*rec)/(prc+rec)\n",
    "sup_pos = TP+FN\n",
    "sup_neg = FP+TN\n",
    "\n",
    "print(f\"Accuracy: {acc}\")\n",
    "print(f\"True Pos Rate: {tru_pos}\")\n",
    "print(f\"False Pos Rate: {fal_pos}\")\n",
    "print(f\"True Neg Rate: {tru_neg}\")\n",
    "print(f\"False Neg Rate: {fal_neg}\")\n",
    "print(f\"Precision: {prc}\")\n",
    "print(f\"Recall: {rec}\")\n",
    "print(f\"F1 Score: {f1_score}\")\n",
    "print(f\"Support Pos (1): {sup_pos}\")\n",
    "print(f\"Support Neg (0): {sup_neg}\")"
   ]
  },
  {
   "cell_type": "markdown",
   "metadata": {},
   "source": [
    "### 4. Run through steps increasing your min_samples_leaf and decreasing your max_depth.\n",
    "\n"
   ]
  },
  {
   "cell_type": "code",
   "execution_count": 15,
   "metadata": {},
   "outputs": [
    {
     "data": {
      "text/plain": [
       "array([0.11106251, 0.05307524, 0.06396437, 0.39850609, 0.02432817,\n",
       "       0.29892752, 0.01562892, 0.03450717])"
      ]
     },
     "execution_count": 15,
     "metadata": {},
     "output_type": "execute_result"
    }
   ],
   "source": [
    "rf = RandomForestClassifier(min_samples_leaf=1,max_depth=10,random_state=42)\n",
    "rf.fit(Xtr,ytr)\n",
    "y_pred = rf.predict(Xtr)\n",
    "y_prob = rf.predict_proba(Xtr)\n",
    "rf.feature_importances_"
   ]
  },
  {
   "cell_type": "code",
   "execution_count": 16,
   "metadata": {},
   "outputs": [
    {
     "data": {
      "text/html": [
       "<div>\n",
       "<style scoped>\n",
       "    .dataframe tbody tr th:only-of-type {\n",
       "        vertical-align: middle;\n",
       "    }\n",
       "\n",
       "    .dataframe tbody tr th {\n",
       "        vertical-align: top;\n",
       "    }\n",
       "\n",
       "    .dataframe thead th {\n",
       "        text-align: right;\n",
       "    }\n",
       "</style>\n",
       "<table border=\"1\" class=\"dataframe\">\n",
       "  <thead>\n",
       "    <tr style=\"text-align: right;\">\n",
       "      <th></th>\n",
       "      <th>min_leaf</th>\n",
       "      <th>max_depth</th>\n",
       "      <th>train_acc</th>\n",
       "    </tr>\n",
       "  </thead>\n",
       "  <tbody>\n",
       "    <tr>\n",
       "      <th>9</th>\n",
       "      <td>1</td>\n",
       "      <td>10</td>\n",
       "      <td>0.926966</td>\n",
       "    </tr>\n",
       "    <tr>\n",
       "      <th>8</th>\n",
       "      <td>1</td>\n",
       "      <td>9</td>\n",
       "      <td>0.925094</td>\n",
       "    </tr>\n",
       "    <tr>\n",
       "      <th>7</th>\n",
       "      <td>1</td>\n",
       "      <td>8</td>\n",
       "      <td>0.908240</td>\n",
       "    </tr>\n",
       "    <tr>\n",
       "      <th>6</th>\n",
       "      <td>1</td>\n",
       "      <td>7</td>\n",
       "      <td>0.900749</td>\n",
       "    </tr>\n",
       "    <tr>\n",
       "      <th>19</th>\n",
       "      <td>2</td>\n",
       "      <td>10</td>\n",
       "      <td>0.882022</td>\n",
       "    </tr>\n",
       "    <tr>\n",
       "      <th>...</th>\n",
       "      <td>...</td>\n",
       "      <td>...</td>\n",
       "      <td>...</td>\n",
       "    </tr>\n",
       "    <tr>\n",
       "      <th>150</th>\n",
       "      <td>16</td>\n",
       "      <td>1</td>\n",
       "      <td>0.749064</td>\n",
       "    </tr>\n",
       "    <tr>\n",
       "      <th>160</th>\n",
       "      <td>17</td>\n",
       "      <td>1</td>\n",
       "      <td>0.749064</td>\n",
       "    </tr>\n",
       "    <tr>\n",
       "      <th>20</th>\n",
       "      <td>3</td>\n",
       "      <td>1</td>\n",
       "      <td>0.749064</td>\n",
       "    </tr>\n",
       "    <tr>\n",
       "      <th>180</th>\n",
       "      <td>19</td>\n",
       "      <td>1</td>\n",
       "      <td>0.747191</td>\n",
       "    </tr>\n",
       "    <tr>\n",
       "      <th>190</th>\n",
       "      <td>20</td>\n",
       "      <td>1</td>\n",
       "      <td>0.747191</td>\n",
       "    </tr>\n",
       "  </tbody>\n",
       "</table>\n",
       "<p>200 rows × 3 columns</p>\n",
       "</div>"
      ],
      "text/plain": [
       "     min_leaf  max_depth  train_acc\n",
       "9           1         10   0.926966\n",
       "8           1          9   0.925094\n",
       "7           1          8   0.908240\n",
       "6           1          7   0.900749\n",
       "19          2         10   0.882022\n",
       "..        ...        ...        ...\n",
       "150        16          1   0.749064\n",
       "160        17          1   0.749064\n",
       "20          3          1   0.749064\n",
       "180        19          1   0.747191\n",
       "190        20          1   0.747191\n",
       "\n",
       "[200 rows x 3 columns]"
      ]
     },
     "execution_count": 16,
     "metadata": {},
     "output_type": "execute_result"
    }
   ],
   "source": [
    "import itertools\n",
    "metrics = []\n",
    "for l, d in itertools.product(range(1,21), range(1,11)):\n",
    "    # model\n",
    "    rf = RandomForestClassifier(min_samples_leaf=l,max_depth=d,random_state=42)\n",
    "    rf.fit(Xtr,ytr)\n",
    "    y_acc = rf.score(Xtr,ytr)\n",
    "    # table-ize\n",
    "    output = {\n",
    "        'min_leaf':l,\n",
    "        'max_depth':d,\n",
    "        'train_acc':y_acc\n",
    "    }\n",
    "    metrics.append(output)\n",
    "df = pd.DataFrame(metrics)\n",
    "df.sort_values(by=['train_acc'], ascending=False)"
   ]
  },
  {
   "cell_type": "markdown",
   "metadata": {},
   "source": [
    "### 5. What are the differences in the evaluation metrics? Which performs better on your in-sample data? Why?\n",
    "\n"
   ]
  },
  {
   "cell_type": "code",
   "execution_count": 17,
   "metadata": {},
   "outputs": [],
   "source": [
    "# min_sample_leaf=1 and max_depth=10 give the best accuracy of 92.7%"
   ]
  },
  {
   "cell_type": "markdown",
   "metadata": {},
   "source": [
    "### After making a few models, which one has the best performance (or closest metrics) on both train and validate?"
   ]
  },
  {
   "cell_type": "code",
   "execution_count": 18,
   "metadata": {},
   "outputs": [
    {
     "data": {
      "text/html": [
       "<div>\n",
       "<style scoped>\n",
       "    .dataframe tbody tr th:only-of-type {\n",
       "        vertical-align: middle;\n",
       "    }\n",
       "\n",
       "    .dataframe tbody tr th {\n",
       "        vertical-align: top;\n",
       "    }\n",
       "\n",
       "    .dataframe thead th {\n",
       "        text-align: right;\n",
       "    }\n",
       "</style>\n",
       "<table border=\"1\" class=\"dataframe\">\n",
       "  <thead>\n",
       "    <tr style=\"text-align: right;\">\n",
       "      <th></th>\n",
       "      <th>min_leaf</th>\n",
       "      <th>max_depth</th>\n",
       "      <th>train_acc</th>\n",
       "      <th>val_acc</th>\n",
       "      <th>diff</th>\n",
       "    </tr>\n",
       "  </thead>\n",
       "  <tbody>\n",
       "    <tr>\n",
       "      <th>72</th>\n",
       "      <td>8</td>\n",
       "      <td>3</td>\n",
       "      <td>0.810861</td>\n",
       "      <td>0.842697</td>\n",
       "      <td>-0.031835</td>\n",
       "    </tr>\n",
       "    <tr>\n",
       "      <th>52</th>\n",
       "      <td>6</td>\n",
       "      <td>3</td>\n",
       "      <td>0.810861</td>\n",
       "      <td>0.837079</td>\n",
       "      <td>-0.026217</td>\n",
       "    </tr>\n",
       "    <tr>\n",
       "      <th>62</th>\n",
       "      <td>7</td>\n",
       "      <td>3</td>\n",
       "      <td>0.810861</td>\n",
       "      <td>0.837079</td>\n",
       "      <td>-0.026217</td>\n",
       "    </tr>\n",
       "    <tr>\n",
       "      <th>23</th>\n",
       "      <td>3</td>\n",
       "      <td>4</td>\n",
       "      <td>0.825843</td>\n",
       "      <td>0.837079</td>\n",
       "      <td>-0.011236</td>\n",
       "    </tr>\n",
       "    <tr>\n",
       "      <th>24</th>\n",
       "      <td>3</td>\n",
       "      <td>5</td>\n",
       "      <td>0.835206</td>\n",
       "      <td>0.837079</td>\n",
       "      <td>-0.001873</td>\n",
       "    </tr>\n",
       "    <tr>\n",
       "      <th>4</th>\n",
       "      <td>1</td>\n",
       "      <td>5</td>\n",
       "      <td>0.838951</td>\n",
       "      <td>0.837079</td>\n",
       "      <td>0.001873</td>\n",
       "    </tr>\n",
       "    <tr>\n",
       "      <th>3</th>\n",
       "      <td>1</td>\n",
       "      <td>4</td>\n",
       "      <td>0.831461</td>\n",
       "      <td>0.837079</td>\n",
       "      <td>-0.005618</td>\n",
       "    </tr>\n",
       "    <tr>\n",
       "      <th>42</th>\n",
       "      <td>5</td>\n",
       "      <td>3</td>\n",
       "      <td>0.814607</td>\n",
       "      <td>0.831461</td>\n",
       "      <td>-0.016854</td>\n",
       "    </tr>\n",
       "    <tr>\n",
       "      <th>102</th>\n",
       "      <td>11</td>\n",
       "      <td>3</td>\n",
       "      <td>0.808989</td>\n",
       "      <td>0.831461</td>\n",
       "      <td>-0.022472</td>\n",
       "    </tr>\n",
       "    <tr>\n",
       "      <th>92</th>\n",
       "      <td>10</td>\n",
       "      <td>3</td>\n",
       "      <td>0.810861</td>\n",
       "      <td>0.831461</td>\n",
       "      <td>-0.020599</td>\n",
       "    </tr>\n",
       "  </tbody>\n",
       "</table>\n",
       "</div>"
      ],
      "text/plain": [
       "     min_leaf  max_depth  train_acc   val_acc      diff\n",
       "72          8          3   0.810861  0.842697 -0.031835\n",
       "52          6          3   0.810861  0.837079 -0.026217\n",
       "62          7          3   0.810861  0.837079 -0.026217\n",
       "23          3          4   0.825843  0.837079 -0.011236\n",
       "24          3          5   0.835206  0.837079 -0.001873\n",
       "4           1          5   0.838951  0.837079  0.001873\n",
       "3           1          4   0.831461  0.837079 -0.005618\n",
       "42          5          3   0.814607  0.831461 -0.016854\n",
       "102        11          3   0.808989  0.831461 -0.022472\n",
       "92         10          3   0.810861  0.831461 -0.020599"
      ]
     },
     "execution_count": 18,
     "metadata": {},
     "output_type": "execute_result"
    }
   ],
   "source": [
    "metrics = []\n",
    "for l, d in itertools.product(range(1,21), range(1,11)):\n",
    "    # model\n",
    "    rf = RandomForestClassifier(min_samples_leaf=l,max_depth=d,random_state=42)\n",
    "    rf.fit(Xtr,ytr)\n",
    "    ytr_acc = rf.score(Xtr,ytr)\n",
    "    yv_acc = rf.score(Xv,yv)\n",
    "    # table-ize\n",
    "    output = {\n",
    "        'min_leaf':l,\n",
    "        'max_depth':d,\n",
    "        'train_acc':ytr_acc,\n",
    "        'val_acc':yv_acc\n",
    "    }\n",
    "    metrics.append(output)\n",
    "df = pd.DataFrame(metrics)\n",
    "df['diff'] = df.train_acc - df.val_acc\n",
    "df.sort_values(by=['val_acc'], ascending=False).head(10)"
   ]
  },
  {
   "cell_type": "code",
   "execution_count": 19,
   "metadata": {},
   "outputs": [
    {
     "data": {
      "text/plain": [
       "(0.6161048689138576,\n",
       " 0.8108614232209738,\n",
       " 0.8426966292134831,\n",
       " 0.7988826815642458)"
      ]
     },
     "execution_count": 19,
     "metadata": {},
     "output_type": "execute_result"
    }
   ],
   "source": [
    "rf = RandomForestClassifier(min_samples_leaf=8,max_depth=3,random_state=42)\n",
    "rf.fit(Xtr,ytr)\n",
    "baseline,rf.score(Xtr,ytr),rf.score(Xv,yv),rf.score(Xt,yt)"
   ]
  },
  {
   "attachments": {},
   "cell_type": "markdown",
   "metadata": {},
   "source": [
    "Extra practice on telco"
   ]
  },
  {
   "cell_type": "code",
   "execution_count": 20,
   "metadata": {},
   "outputs": [],
   "source": [
    "from acquire import get_telco_data\n",
    "from prepare import prep_telco"
   ]
  },
  {
   "cell_type": "code",
   "execution_count": 21,
   "metadata": {},
   "outputs": [
    {
     "name": "stdout",
     "output_type": "stream",
     "text": [
      "csv file found and loaded\n",
      "data cleaned and prepped\n",
      "data split\n",
      "train -> (4225, 47); 59.99%\n",
      "validate -> (1409, 47); 20.01%\n",
      "test -> (1409, 47); 20.01%\n"
     ]
    },
    {
     "data": {
      "text/html": [
       "<div>\n",
       "<style scoped>\n",
       "    .dataframe tbody tr th:only-of-type {\n",
       "        vertical-align: middle;\n",
       "    }\n",
       "\n",
       "    .dataframe tbody tr th {\n",
       "        vertical-align: top;\n",
       "    }\n",
       "\n",
       "    .dataframe thead th {\n",
       "        text-align: right;\n",
       "    }\n",
       "</style>\n",
       "<table border=\"1\" class=\"dataframe\">\n",
       "  <thead>\n",
       "    <tr style=\"text-align: right;\">\n",
       "      <th></th>\n",
       "      <th>gender</th>\n",
       "      <th>senior_citizen</th>\n",
       "      <th>partner</th>\n",
       "      <th>dependents</th>\n",
       "      <th>tenure</th>\n",
       "      <th>phone_service</th>\n",
       "      <th>multiple_lines</th>\n",
       "      <th>online_security</th>\n",
       "      <th>online_backup</th>\n",
       "      <th>device_protection</th>\n",
       "      <th>...</th>\n",
       "      <th>streaming_tv_Yes</th>\n",
       "      <th>streaming_movies_No internet service</th>\n",
       "      <th>streaming_movies_Yes</th>\n",
       "      <th>contract_type_One year</th>\n",
       "      <th>contract_type_Two year</th>\n",
       "      <th>internet_service_type_Fiber optic</th>\n",
       "      <th>internet_service_type_None</th>\n",
       "      <th>payment_type_Credit card (automatic)</th>\n",
       "      <th>payment_type_Electronic check</th>\n",
       "      <th>payment_type_Mailed check</th>\n",
       "    </tr>\n",
       "  </thead>\n",
       "  <tbody>\n",
       "    <tr>\n",
       "      <th>729</th>\n",
       "      <td>Male</td>\n",
       "      <td>1</td>\n",
       "      <td>Yes</td>\n",
       "      <td>No</td>\n",
       "      <td>16</td>\n",
       "      <td>Yes</td>\n",
       "      <td>Yes</td>\n",
       "      <td>No</td>\n",
       "      <td>No</td>\n",
       "      <td>Yes</td>\n",
       "      <td>...</td>\n",
       "      <td>1</td>\n",
       "      <td>0</td>\n",
       "      <td>1</td>\n",
       "      <td>0</td>\n",
       "      <td>0</td>\n",
       "      <td>1</td>\n",
       "      <td>0</td>\n",
       "      <td>0</td>\n",
       "      <td>1</td>\n",
       "      <td>0</td>\n",
       "    </tr>\n",
       "  </tbody>\n",
       "</table>\n",
       "<p>1 rows × 47 columns</p>\n",
       "</div>"
      ],
      "text/plain": [
       "    gender  senior_citizen partner dependents  tenure phone_service  \\\n",
       "729   Male               1     Yes         No      16           Yes   \n",
       "\n",
       "    multiple_lines online_security online_backup device_protection  ...  \\\n",
       "729            Yes              No            No               Yes  ...   \n",
       "\n",
       "    streaming_tv_Yes streaming_movies_No internet service  \\\n",
       "729                1                                    0   \n",
       "\n",
       "    streaming_movies_Yes contract_type_One year  contract_type_Two year  \\\n",
       "729                    1                      0                       0   \n",
       "\n",
       "     internet_service_type_Fiber optic internet_service_type_None  \\\n",
       "729                                  1                          0   \n",
       "\n",
       "    payment_type_Credit card (automatic) payment_type_Electronic check  \\\n",
       "729                                    0                             1   \n",
       "\n",
       "    payment_type_Mailed check  \n",
       "729                         0  \n",
       "\n",
       "[1 rows x 47 columns]"
      ]
     },
     "execution_count": 21,
     "metadata": {},
     "output_type": "execute_result"
    }
   ],
   "source": [
    "df = get_telco_data()\n",
    "df = prep_telco(df)\n",
    "tr,v,t = split_data(df,'churn')\n",
    "tr.sample()"
   ]
  },
  {
   "cell_type": "code",
   "execution_count": 22,
   "metadata": {},
   "outputs": [],
   "source": [
    "tel_obj = tr.select_dtypes(include='object').columns.to_list()\n",
    "tel_obj.append('churned')\n",
    "Xtr = tr.drop(columns=tel_obj)\n",
    "Xv = v.drop(columns=tel_obj)\n",
    "Xt = t.drop(columns=tel_obj)\n",
    "ytr = tr.churned\n",
    "yv = v.churned\n",
    "yt = t.churned"
   ]
  },
  {
   "cell_type": "code",
   "execution_count": 23,
   "metadata": {},
   "outputs": [
    {
     "data": {
      "text/html": [
       "<div>\n",
       "<style scoped>\n",
       "    .dataframe tbody tr th:only-of-type {\n",
       "        vertical-align: middle;\n",
       "    }\n",
       "\n",
       "    .dataframe tbody tr th {\n",
       "        vertical-align: top;\n",
       "    }\n",
       "\n",
       "    .dataframe thead th {\n",
       "        text-align: right;\n",
       "    }\n",
       "</style>\n",
       "<table border=\"1\" class=\"dataframe\">\n",
       "  <thead>\n",
       "    <tr style=\"text-align: right;\">\n",
       "      <th></th>\n",
       "      <th>senior_citizen</th>\n",
       "      <th>tenure</th>\n",
       "      <th>monthly_charges</th>\n",
       "      <th>total_charges</th>\n",
       "      <th>Female</th>\n",
       "      <th>partnered</th>\n",
       "      <th>has_dependents</th>\n",
       "      <th>has_phone_service</th>\n",
       "      <th>does_paperless_billing</th>\n",
       "      <th>multiple_lines_No phone service</th>\n",
       "      <th>...</th>\n",
       "      <th>streaming_tv_Yes</th>\n",
       "      <th>streaming_movies_No internet service</th>\n",
       "      <th>streaming_movies_Yes</th>\n",
       "      <th>contract_type_One year</th>\n",
       "      <th>contract_type_Two year</th>\n",
       "      <th>internet_service_type_Fiber optic</th>\n",
       "      <th>internet_service_type_None</th>\n",
       "      <th>payment_type_Credit card (automatic)</th>\n",
       "      <th>payment_type_Electronic check</th>\n",
       "      <th>payment_type_Mailed check</th>\n",
       "    </tr>\n",
       "  </thead>\n",
       "  <tbody>\n",
       "    <tr>\n",
       "      <th>4192</th>\n",
       "      <td>0</td>\n",
       "      <td>2</td>\n",
       "      <td>20.05</td>\n",
       "      <td>42.7</td>\n",
       "      <td>0</td>\n",
       "      <td>0</td>\n",
       "      <td>0</td>\n",
       "      <td>1</td>\n",
       "      <td>0</td>\n",
       "      <td>0</td>\n",
       "      <td>...</td>\n",
       "      <td>0</td>\n",
       "      <td>1</td>\n",
       "      <td>0</td>\n",
       "      <td>0</td>\n",
       "      <td>0</td>\n",
       "      <td>0</td>\n",
       "      <td>1</td>\n",
       "      <td>0</td>\n",
       "      <td>0</td>\n",
       "      <td>1</td>\n",
       "    </tr>\n",
       "  </tbody>\n",
       "</table>\n",
       "<p>1 rows × 30 columns</p>\n",
       "</div>"
      ],
      "text/plain": [
       "      senior_citizen  tenure  monthly_charges  total_charges  Female  \\\n",
       "4192               0       2            20.05           42.7       0   \n",
       "\n",
       "      partnered  has_dependents  has_phone_service  does_paperless_billing  \\\n",
       "4192          0               0                  1                       0   \n",
       "\n",
       "      multiple_lines_No phone service  ...  streaming_tv_Yes  \\\n",
       "4192                                0  ...                 0   \n",
       "\n",
       "      streaming_movies_No internet service  streaming_movies_Yes  \\\n",
       "4192                                     1                     0   \n",
       "\n",
       "      contract_type_One year  contract_type_Two year  \\\n",
       "4192                       0                       0   \n",
       "\n",
       "      internet_service_type_Fiber optic  internet_service_type_None  \\\n",
       "4192                                  0                           1   \n",
       "\n",
       "      payment_type_Credit card (automatic)  payment_type_Electronic check  \\\n",
       "4192                                     0                              0   \n",
       "\n",
       "      payment_type_Mailed check  \n",
       "4192                          1  \n",
       "\n",
       "[1 rows x 30 columns]"
      ]
     },
     "execution_count": 23,
     "metadata": {},
     "output_type": "execute_result"
    }
   ],
   "source": [
    "Xtr.sample()"
   ]
  },
  {
   "cell_type": "code",
   "execution_count": 24,
   "metadata": {},
   "outputs": [
    {
     "data": {
      "text/plain": [
       "6544    0\n",
       "Name: churned, dtype: int64"
      ]
     },
     "execution_count": 24,
     "metadata": {},
     "output_type": "execute_result"
    }
   ],
   "source": [
    "\n",
    "ytr.sample()"
   ]
  },
  {
   "cell_type": "code",
   "execution_count": 25,
   "metadata": {},
   "outputs": [
    {
     "data": {
      "text/plain": [
       "0.7346745562130178"
      ]
     },
     "execution_count": 25,
     "metadata": {},
     "output_type": "execute_result"
    }
   ],
   "source": [
    "baseline = (ytr==0).mean()\n",
    "baseline"
   ]
  },
  {
   "cell_type": "code",
   "execution_count": 26,
   "metadata": {},
   "outputs": [
    {
     "data": {
      "text/plain": [
       "array([0.01498316, 0.18257937, 0.1169209 , 0.17370885, 0.01738696,\n",
       "       0.01790279, 0.01616232, 0.00415143, 0.02747499, 0.00560856,\n",
       "       0.01780216, 0.00811465, 0.02854304, 0.01127243, 0.01641933,\n",
       "       0.00692174, 0.0132477 , 0.01239642, 0.03301194, 0.01202882,\n",
       "       0.01502976, 0.00762414, 0.01138767, 0.03120987, 0.04977647,\n",
       "       0.05662229, 0.0092633 , 0.010252  , 0.0621921 , 0.01000484])"
      ]
     },
     "execution_count": 26,
     "metadata": {},
     "output_type": "execute_result"
    }
   ],
   "source": [
    "rf = RandomForestClassifier(min_samples_leaf=1,max_depth=10,random_state=42)\n",
    "rf.fit(Xtr,ytr)\n",
    "y_pred = rf.predict(Xtr)"
   ]
  },
  {
   "cell_type": "code",
   "execution_count": 27,
   "metadata": {},
   "outputs": [
    {
     "data": {
      "text/plain": [
       "Index(['senior_citizen', 'tenure', 'monthly_charges', 'total_charges',\n",
       "       'Female', 'partnered', 'has_dependents', 'has_phone_service',\n",
       "       'does_paperless_billing', 'multiple_lines_No phone service',\n",
       "       'multiple_lines_Yes', 'online_security_No internet service',\n",
       "       'online_security_Yes', 'online_backup_No internet service',\n",
       "       'online_backup_Yes', 'device_protection_No internet service',\n",
       "       'device_protection_Yes', 'tech_support_No internet service',\n",
       "       'tech_support_Yes', 'streaming_tv_No internet service',\n",
       "       'streaming_tv_Yes', 'streaming_movies_No internet service',\n",
       "       'streaming_movies_Yes', 'contract_type_One year',\n",
       "       'contract_type_Two year', 'internet_service_type_Fiber optic',\n",
       "       'internet_service_type_None', 'payment_type_Credit card (automatic)',\n",
       "       'payment_type_Electronic check', 'payment_type_Mailed check'],\n",
       "      dtype='object')"
      ]
     },
     "execution_count": 27,
     "metadata": {},
     "output_type": "execute_result"
    }
   ],
   "source": [
    "pd.DataFrame[[Xtr.columns],[rf.feature_importances_]]"
   ]
  },
  {
   "cell_type": "code",
   "execution_count": null,
   "metadata": {},
   "outputs": [],
   "source": []
  }
 ],
 "metadata": {
  "kernelspec": {
   "display_name": "base",
   "language": "python",
   "name": "python3"
  },
  "language_info": {
   "codemirror_mode": {
    "name": "ipython",
    "version": 3
   },
   "file_extension": ".py",
   "mimetype": "text/x-python",
   "name": "python",
   "nbconvert_exporter": "python",
   "pygments_lexer": "ipython3",
   "version": "3.9.13"
  },
  "orig_nbformat": 4
 },
 "nbformat": 4,
 "nbformat_minor": 2
}
