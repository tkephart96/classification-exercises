{
 "cells": [
  {
   "cell_type": "code",
   "execution_count": 1,
   "metadata": {},
   "outputs": [],
   "source": [
    "import numpy as np\n",
    "import pandas as pd\n",
    "import matplotlib.pyplot as plt\n",
    "import seaborn as sns\n",
    "\n",
    "from sklearn.model_selection import train_test_split\n",
    "from sklearn.tree import DecisionTreeClassifier, plot_tree, export_text\n",
    "from sklearn.metrics import classification_report, confusion_matrix, ConfusionMatrixDisplay\n",
    "\n",
    "from acquire import get_titanic_data, get_telco_data\n",
    "from prepare import prep_titanic, prep_telco, split_data, prep_titanic_age"
   ]
  },
  {
   "attachments": {},
   "cell_type": "markdown",
   "metadata": {},
   "source": [
    "# Decision Tree Modeling\n",
    "What is it?\n",
    "- a machine learning algorithm used for predicting categorical target variables\n",
    "- Pipeline: Plan - Acquire - Prepare - Explore - **Model** - Deliver\n",
    "\n",
    "How?\n",
    "- acquire, prepare, explore our data\n",
    "- split data for modeling\n",
    "    - x (features) is always a dataframe\n",
    "    - y (target) will be one var and a series\n",
    "- build models on train\n",
    "    - create rules based on our input data\n",
    "- evaluate models on validate\n",
    "    - see how our rules work on unseen data\n",
    "- pick best of the best model, and evaluate bestest model on test"
   ]
  },
  {
   "attachments": {},
   "cell_type": "markdown",
   "metadata": {},
   "source": [
    "## Exercises"
   ]
  },
  {
   "attachments": {},
   "cell_type": "markdown",
   "metadata": {},
   "source": [
    "Using the titanic data"
   ]
  },
  {
   "cell_type": "code",
   "execution_count": 2,
   "metadata": {},
   "outputs": [
    {
     "name": "stdout",
     "output_type": "stream",
     "text": [
      "csv file found and loaded\n",
      "data cleaned and prepped\n",
      "data split\n",
      "train -> (534, 11); 59.93%\n",
      "validate -> (178, 11); 19.98%\n",
      "test -> (179, 11); 20.09%\n"
     ]
    },
    {
     "data": {
      "text/html": [
       "<div>\n",
       "<style scoped>\n",
       "    .dataframe tbody tr th:only-of-type {\n",
       "        vertical-align: middle;\n",
       "    }\n",
       "\n",
       "    .dataframe tbody tr th {\n",
       "        vertical-align: top;\n",
       "    }\n",
       "\n",
       "    .dataframe thead th {\n",
       "        text-align: right;\n",
       "    }\n",
       "</style>\n",
       "<table border=\"1\" class=\"dataframe\">\n",
       "  <thead>\n",
       "    <tr style=\"text-align: right;\">\n",
       "      <th></th>\n",
       "      <th>survived</th>\n",
       "      <th>pclass</th>\n",
       "      <th>sex</th>\n",
       "      <th>sibsp</th>\n",
       "      <th>parch</th>\n",
       "      <th>fare</th>\n",
       "      <th>embarked</th>\n",
       "      <th>alone</th>\n",
       "      <th>sex_male</th>\n",
       "      <th>embarked_Q</th>\n",
       "      <th>embarked_S</th>\n",
       "    </tr>\n",
       "  </thead>\n",
       "  <tbody>\n",
       "    <tr>\n",
       "      <th>754</th>\n",
       "      <td>1</td>\n",
       "      <td>2</td>\n",
       "      <td>female</td>\n",
       "      <td>1</td>\n",
       "      <td>2</td>\n",
       "      <td>65.0</td>\n",
       "      <td>S</td>\n",
       "      <td>0</td>\n",
       "      <td>0</td>\n",
       "      <td>0</td>\n",
       "      <td>1</td>\n",
       "    </tr>\n",
       "  </tbody>\n",
       "</table>\n",
       "</div>"
      ],
      "text/plain": [
       "     survived  pclass     sex  sibsp  parch  fare embarked  alone  sex_male  \\\n",
       "754         1       2  female      1      2  65.0        S      0         0   \n",
       "\n",
       "     embarked_Q  embarked_S  \n",
       "754           0           1  "
      ]
     },
     "execution_count": 2,
     "metadata": {},
     "output_type": "execute_result"
    }
   ],
   "source": [
    "titanic = get_titanic_data()\n",
    "titan = prep_titanic(titanic)\n",
    "ttn_train, ttn_v, ttn_t = split_data(titan,'survived')\n",
    "ttn_train.sample()"
   ]
  },
  {
   "cell_type": "code",
   "execution_count": 3,
   "metadata": {},
   "outputs": [],
   "source": [
    "Xtr = ttn_train.drop(columns=['survived','sex','embarked'])\n",
    "Xv = ttn_v.drop(columns=['survived','sex','embarked'])\n",
    "Xt = ttn_t.drop(columns=['survived','sex','embarked'])\n",
    "ytr = ttn_train.survived\n",
    "yv = ttn_v.survived\n",
    "yt = ttn_t.survived"
   ]
  },
  {
   "cell_type": "code",
   "execution_count": 4,
   "metadata": {},
   "outputs": [
    {
     "data": {
      "text/html": [
       "<div>\n",
       "<style scoped>\n",
       "    .dataframe tbody tr th:only-of-type {\n",
       "        vertical-align: middle;\n",
       "    }\n",
       "\n",
       "    .dataframe tbody tr th {\n",
       "        vertical-align: top;\n",
       "    }\n",
       "\n",
       "    .dataframe thead th {\n",
       "        text-align: right;\n",
       "    }\n",
       "</style>\n",
       "<table border=\"1\" class=\"dataframe\">\n",
       "  <thead>\n",
       "    <tr style=\"text-align: right;\">\n",
       "      <th></th>\n",
       "      <th>pclass</th>\n",
       "      <th>sibsp</th>\n",
       "      <th>parch</th>\n",
       "      <th>fare</th>\n",
       "      <th>alone</th>\n",
       "      <th>sex_male</th>\n",
       "      <th>embarked_Q</th>\n",
       "      <th>embarked_S</th>\n",
       "    </tr>\n",
       "  </thead>\n",
       "  <tbody>\n",
       "    <tr>\n",
       "      <th>487</th>\n",
       "      <td>1</td>\n",
       "      <td>0</td>\n",
       "      <td>0</td>\n",
       "      <td>29.7</td>\n",
       "      <td>1</td>\n",
       "      <td>1</td>\n",
       "      <td>0</td>\n",
       "      <td>0</td>\n",
       "    </tr>\n",
       "  </tbody>\n",
       "</table>\n",
       "</div>"
      ],
      "text/plain": [
       "     pclass  sibsp  parch  fare  alone  sex_male  embarked_Q  embarked_S\n",
       "487       1      0      0  29.7      1         1           0           0"
      ]
     },
     "execution_count": 4,
     "metadata": {},
     "output_type": "execute_result"
    }
   ],
   "source": [
    "Xtr.sample()"
   ]
  },
  {
   "cell_type": "code",
   "execution_count": 5,
   "metadata": {},
   "outputs": [
    {
     "data": {
      "text/plain": [
       "255    1\n",
       "Name: survived, dtype: int64"
      ]
     },
     "execution_count": 5,
     "metadata": {},
     "output_type": "execute_result"
    }
   ],
   "source": [
    "ytr.sample()"
   ]
  },
  {
   "cell_type": "markdown",
   "metadata": {},
   "source": [
    "1. What is your baseline prediction? What is your baseline accuracy? remember: your baseline prediction for a classification problem is predicting the most prevalent class in the training dataset (the mode). When you make those predictions, what is your accuracy? This is your baseline accuracy.\n",
    "\n"
   ]
  },
  {
   "cell_type": "code",
   "execution_count": 6,
   "metadata": {},
   "outputs": [
    {
     "data": {
      "text/plain": [
       "0    329\n",
       "1    205\n",
       "Name: survived, dtype: int64"
      ]
     },
     "execution_count": 6,
     "metadata": {},
     "output_type": "execute_result"
    }
   ],
   "source": [
    "ytr.value_counts()"
   ]
  },
  {
   "cell_type": "code",
   "execution_count": 7,
   "metadata": {},
   "outputs": [
    {
     "data": {
      "text/plain": [
       "0.6161048689138576"
      ]
     },
     "execution_count": 7,
     "metadata": {},
     "output_type": "execute_result"
    }
   ],
   "source": [
    "baseline = (ytr==0).mean()\n",
    "baseline"
   ]
  },
  {
   "cell_type": "markdown",
   "metadata": {},
   "source": [
    "2. Fit the decision tree classifier to your training sample and transform (i.e. make predictions on the training sample)\n",
    "\n"
   ]
  },
  {
   "cell_type": "code",
   "execution_count": 8,
   "metadata": {},
   "outputs": [],
   "source": [
    "tree1 = DecisionTreeClassifier(max_depth=3,random_state=42)\n",
    "tree1 = tree1.fit(Xtr,ytr)\n",
    "y_pred = tree1.predict(Xtr)"
   ]
  },
  {
   "cell_type": "code",
   "execution_count": 9,
   "metadata": {},
   "outputs": [
    {
     "data": {
      "image/png": "[encoded data removed]",
      "text/plain": [
       "<Figure size 1200x700 with 1 Axes>"
      ]
     },
     "metadata": {},
     "output_type": "display_data"
    }
   ],
   "source": [
    "plt.figure(figsize=(12,7))\n",
    "plot_tree(tree1, feature_names=Xtr.columns, class_names=['0','1'])\n",
    "plt.show()"
   ]
  },
  {
   "cell_type": "markdown",
   "metadata": {},
   "source": [
    "3. Evaluate your in-sample results using the model score, confusion matrix, and classification report.\n",
    "\n"
   ]
  },
  {
   "cell_type": "code",
   "execution_count": 10,
   "metadata": {},
   "outputs": [
    {
     "data": {
      "text/plain": [
       "0.8089887640449438"
      ]
     },
     "execution_count": 10,
     "metadata": {},
     "output_type": "execute_result"
    }
   ],
   "source": [
    "tree1.score(Xtr,ytr)"
   ]
  },
  {
   "cell_type": "code",
   "execution_count": 11,
   "metadata": {},
   "outputs": [
    {
     "data": {
      "text/plain": [
       "array([[313,  16],\n",
       "       [ 86, 119]])"
      ]
     },
     "execution_count": 11,
     "metadata": {},
     "output_type": "execute_result"
    }
   ],
   "source": [
    "cm = confusion_matrix(ytr,y_pred,labels=tree1.classes_)\n",
    "cm"
   ]
  },
  {
   "cell_type": "code",
   "execution_count": 12,
   "metadata": {},
   "outputs": [
    {
     "data": {
      "image/png": "[encoded data removed]",
      "text/plain": [
       "<Figure size 640x480 with 2 Axes>"
      ]
     },
     "metadata": {},
     "output_type": "display_data"
    }
   ],
   "source": [
    "cmd = ConfusionMatrixDisplay(cm, display_labels=tree1.classes_)\n",
    "cmd.plot()\n",
    "plt.show()"
   ]
  },
  {
   "cell_type": "code",
   "execution_count": 13,
   "metadata": {},
   "outputs": [
    {
     "name": "stdout",
     "output_type": "stream",
     "text": [
      "              precision    recall  f1-score   support\n",
      "\n",
      "           0       0.78      0.95      0.86       329\n",
      "           1       0.88      0.58      0.70       205\n",
      "\n",
      "    accuracy                           0.81       534\n",
      "   macro avg       0.83      0.77      0.78       534\n",
      "weighted avg       0.82      0.81      0.80       534\n",
      "\n"
     ]
    }
   ],
   "source": [
    "print(classification_report(ytr, y_pred))"
   ]
  },
  {
   "cell_type": "code",
   "execution_count": 14,
   "metadata": {},
   "outputs": [
    {
     "name": "stdout",
     "output_type": "stream",
     "text": [
      "Tree of 3 depth\n"
     ]
    },
    {
     "data": {
      "text/html": [
       "<div>\n",
       "<style scoped>\n",
       "    .dataframe tbody tr th:only-of-type {\n",
       "        vertical-align: middle;\n",
       "    }\n",
       "\n",
       "    .dataframe tbody tr th {\n",
       "        vertical-align: top;\n",
       "    }\n",
       "\n",
       "    .dataframe thead th {\n",
       "        text-align: right;\n",
       "    }\n",
       "</style>\n",
       "<table border=\"1\" class=\"dataframe\">\n",
       "  <thead>\n",
       "    <tr style=\"text-align: right;\">\n",
       "      <th></th>\n",
       "      <th>0</th>\n",
       "      <th>1</th>\n",
       "      <th>accuracy</th>\n",
       "      <th>macro avg</th>\n",
       "      <th>weighted avg</th>\n",
       "    </tr>\n",
       "  </thead>\n",
       "  <tbody>\n",
       "    <tr>\n",
       "      <th>precision</th>\n",
       "      <td>0.784461</td>\n",
       "      <td>0.881481</td>\n",
       "      <td>0.808989</td>\n",
       "      <td>0.832971</td>\n",
       "      <td>0.821707</td>\n",
       "    </tr>\n",
       "    <tr>\n",
       "      <th>recall</th>\n",
       "      <td>0.951368</td>\n",
       "      <td>0.580488</td>\n",
       "      <td>0.808989</td>\n",
       "      <td>0.765928</td>\n",
       "      <td>0.808989</td>\n",
       "    </tr>\n",
       "    <tr>\n",
       "      <th>f1-score</th>\n",
       "      <td>0.859890</td>\n",
       "      <td>0.700000</td>\n",
       "      <td>0.808989</td>\n",
       "      <td>0.779945</td>\n",
       "      <td>0.798509</td>\n",
       "    </tr>\n",
       "    <tr>\n",
       "      <th>support</th>\n",
       "      <td>329.000000</td>\n",
       "      <td>205.000000</td>\n",
       "      <td>0.808989</td>\n",
       "      <td>534.000000</td>\n",
       "      <td>534.000000</td>\n",
       "    </tr>\n",
       "  </tbody>\n",
       "</table>\n",
       "</div>"
      ],
      "text/plain": [
       "                    0           1  accuracy   macro avg  weighted avg\n",
       "precision    0.784461    0.881481  0.808989    0.832971      0.821707\n",
       "recall       0.951368    0.580488  0.808989    0.765928      0.808989\n",
       "f1-score     0.859890    0.700000  0.808989    0.779945      0.798509\n",
       "support    329.000000  205.000000  0.808989  534.000000    534.000000"
      ]
     },
     "execution_count": 14,
     "metadata": {},
     "output_type": "execute_result"
    }
   ],
   "source": [
    "report = classification_report(ytr, y_pred, output_dict=True)\n",
    "print(\"Tree of 3 depth\")\n",
    "pd.DataFrame(report)"
   ]
  },
  {
   "cell_type": "markdown",
   "metadata": {},
   "source": [
    "4. Compute: Accuracy, true positive rate, false positive rate, true negative rate, false negative rate, precision, recall, f1-score, and support.\n",
    "\n"
   ]
  },
  {
   "cell_type": "code",
   "execution_count": 15,
   "metadata": {},
   "outputs": [
    {
     "data": {
      "text/plain": [
       "(313, 16, 86, 119)"
      ]
     },
     "execution_count": 15,
     "metadata": {},
     "output_type": "execute_result"
    }
   ],
   "source": [
    "TN, FP, FN, TP = confusion_matrix(ytr, y_pred).ravel()\n",
    "TN, FP, FN, TP"
   ]
  },
  {
   "cell_type": "code",
   "execution_count": 16,
   "metadata": {},
   "outputs": [
    {
     "name": "stdout",
     "output_type": "stream",
     "text": [
      "Actual Negative: 329\n",
      "Actual Positive: 205\n",
      "0    329\n",
      "1    205\n",
      "Name: survived, dtype: int64\n"
     ]
    }
   ],
   "source": [
    "act_neg = TN + FP\n",
    "act_pos = FN + TP\n",
    "print(f\"Actual Negative: {act_neg}\")\n",
    "print(f\"Actual Positive: {act_pos}\")\n",
    "print(ytr.value_counts())"
   ]
  },
  {
   "cell_type": "code",
   "execution_count": 17,
   "metadata": {},
   "outputs": [
    {
     "name": "stdout",
     "output_type": "stream",
     "text": [
      "Accuracy: 0.8089887640449438\n",
      "True Pos Rate: 0.5804878048780487\n",
      "False Pos Rate: 0.0486322188449848\n",
      "True Neg Rate: 0.9513677811550152\n",
      "False Neg Rate: 0.4195121951219512\n",
      "Precision: 0.8814814814814815\n",
      "Recall: 0.5804878048780487\n",
      "F1 Score: 0.7\n",
      "Support Pos (1): 205\n",
      "Support Neg (0): 329\n"
     ]
    }
   ],
   "source": [
    "ALL = TN + FP + FN + TP\n",
    "acc = (TP+TN)/ALL\n",
    "tru_pos = rec = TP/(TP+FN)\n",
    "fal_pos = FP/(FP+TN)\n",
    "tru_neg = TN/(FP+TN)\n",
    "fal_neg = FN/(TP+FN)\n",
    "prc = TP/(TP+FP)\n",
    "f1_score = 2*(prc*rec)/(prc+rec)\n",
    "sup_pos = TP+FN\n",
    "sup_neg = FP+TN\n",
    "\n",
    "print(f\"Accuracy: {acc}\")\n",
    "print(f\"True Pos Rate: {tru_pos}\")\n",
    "print(f\"False Pos Rate: {fal_pos}\")\n",
    "print(f\"True Neg Rate: {tru_neg}\")\n",
    "print(f\"False Neg Rate: {fal_neg}\")\n",
    "print(f\"Precision: {prc}\")\n",
    "print(f\"Recall: {rec}\")\n",
    "print(f\"F1 Score: {f1_score}\")\n",
    "print(f\"Support Pos (1): {sup_pos}\")\n",
    "print(f\"Support Neg (0): {sup_neg}\")"
   ]
  },
  {
   "cell_type": "markdown",
   "metadata": {},
   "source": [
    "5. Run through steps 2-4 using a different max_depth value.\n",
    "\n"
   ]
  },
  {
   "cell_type": "code",
   "execution_count": 18,
   "metadata": {},
   "outputs": [
    {
     "name": "stdout",
     "output_type": "stream",
     "text": [
      "Tree max depth:1\n",
      "                    0           1  accuracy   macro avg  weighted avg\n",
      "precision    0.811594    0.740741  0.786517    0.776167      0.784394\n",
      "recall       0.851064    0.682927  0.786517    0.766995      0.786517\n",
      "f1-score     0.830861    0.710660  0.786517    0.770760      0.784716\n",
      "support    329.000000  205.000000  0.786517  534.000000    534.000000\n",
      "\n",
      "Tree max depth:2\n",
      "                    0           1  accuracy   macro avg  weighted avg\n",
      "precision    0.811594    0.740741  0.786517    0.776167      0.784394\n",
      "recall       0.851064    0.682927  0.786517    0.766995      0.786517\n",
      "f1-score     0.830861    0.710660  0.786517    0.770760      0.784716\n",
      "support    329.000000  205.000000  0.786517  534.000000    534.000000\n",
      "\n",
      "Tree max depth:3\n",
      "                    0           1  accuracy   macro avg  weighted avg\n",
      "precision    0.784461    0.881481  0.808989    0.832971      0.821707\n",
      "recall       0.951368    0.580488  0.808989    0.765928      0.808989\n",
      "f1-score     0.859890    0.700000  0.808989    0.779945      0.798509\n",
      "support    329.000000  205.000000  0.808989  534.000000    534.000000\n",
      "\n",
      "Tree max depth:4\n",
      "                    0           1  accuracy   macro avg  weighted avg\n",
      "precision    0.808399    0.862745   0.82397    0.835572      0.829262\n",
      "recall       0.936170    0.643902   0.82397    0.790036      0.823970\n",
      "f1-score     0.867606    0.737430   0.82397    0.802518      0.817632\n",
      "support    329.000000  205.000000   0.82397  534.000000    534.000000\n",
      "\n",
      "Tree max depth:5\n",
      "                    0           1  accuracy   macro avg  weighted avg\n",
      "precision    0.831551    0.887500  0.848315    0.859525      0.853029\n",
      "recall       0.945289    0.692683  0.848315    0.818986      0.848315\n",
      "f1-score     0.884780    0.778082  0.848315    0.831431      0.843819\n",
      "support    329.000000  205.000000  0.848315  534.000000    534.000000\n",
      "\n",
      "Tree max depth:6\n",
      "                    0           1  accuracy   macro avg  weighted avg\n",
      "precision    0.850267    0.931250  0.874532    0.890759      0.881356\n",
      "recall       0.966565    0.726829  0.874532    0.846697      0.874532\n",
      "f1-score     0.904694    0.816438  0.874532    0.860566      0.870813\n",
      "support    329.000000  205.000000  0.874532  534.000000    534.000000\n",
      "\n",
      "Tree max depth:7\n",
      "                    0           1  accuracy   macro avg  weighted avg\n",
      "precision    0.872928    0.924419  0.889513    0.898673      0.892695\n",
      "recall       0.960486    0.775610  0.889513    0.868048      0.889513\n",
      "f1-score     0.914616    0.843501  0.889513    0.879059      0.887316\n",
      "support    329.000000  205.000000  0.889513  534.000000    534.000000\n",
      "\n",
      "Tree max depth:8\n",
      "                    0           1  accuracy   macro avg  weighted avg\n",
      "precision    0.892351    0.922652  0.902622    0.907502      0.903984\n",
      "recall       0.957447    0.814634  0.902622    0.886040      0.902622\n",
      "f1-score     0.923754    0.865285  0.902622    0.894519      0.901308\n",
      "support    329.000000  205.000000  0.902622  534.000000    534.000000\n",
      "\n",
      "Tree max depth:9\n",
      "                    0           1  accuracy   macro avg  weighted avg\n",
      "precision    0.889197    0.953757  0.910112    0.921477      0.913981\n",
      "recall       0.975684    0.804878  0.910112    0.890281      0.910112\n",
      "f1-score     0.930435    0.873016  0.910112    0.901725      0.908392\n",
      "support    329.000000  205.000000  0.910112  534.000000    534.000000\n",
      "\n",
      "Tree max depth:10\n",
      "                    0           1  accuracy   macro avg  weighted avg\n",
      "precision    0.909091    0.950549  0.923221    0.929820      0.925007\n",
      "recall       0.972644    0.843902  0.923221    0.908273      0.923221\n",
      "f1-score     0.939794    0.894057  0.923221    0.916926      0.922236\n",
      "support    329.000000  205.000000  0.923221  534.000000    534.000000\n",
      "\n",
      "Tree max depth:11\n",
      "                    0           1  accuracy   macro avg  weighted avg\n",
      "precision    0.912181    0.961326  0.928839    0.936754      0.931048\n",
      "recall       0.978723    0.848780  0.928839    0.913752      0.928839\n",
      "f1-score     0.944282    0.901554  0.928839    0.922918      0.927879\n",
      "support    329.000000  205.000000  0.928839  534.000000    534.000000\n",
      "\n",
      "Tree max depth:12\n",
      "                    0           1  accuracy   macro avg  weighted avg\n",
      "precision    0.914773    0.961538  0.930712    0.938156      0.932726\n",
      "recall       0.978723    0.853659  0.930712    0.916191      0.930712\n",
      "f1-score     0.945668    0.904393  0.930712    0.925030      0.929823\n",
      "support    329.000000  205.000000  0.930712  534.000000    534.000000\n",
      "\n",
      "Tree max depth:13\n",
      "                    0           1  accuracy   macro avg  weighted avg\n",
      "precision    0.914773    0.961538  0.930712    0.938156      0.932726\n",
      "recall       0.978723    0.853659  0.930712    0.916191      0.930712\n",
      "f1-score     0.945668    0.904393  0.930712    0.925030      0.929823\n",
      "support    329.000000  205.000000  0.930712  534.000000    534.000000\n",
      "\n",
      "Tree max depth:14\n",
      "                    0           1  accuracy   macro avg  weighted avg\n",
      "precision    0.914773    0.961538  0.930712    0.938156      0.932726\n",
      "recall       0.978723    0.853659  0.930712    0.916191      0.930712\n",
      "f1-score     0.945668    0.904393  0.930712    0.925030      0.929823\n",
      "support    329.000000  205.000000  0.930712  534.000000    534.000000\n",
      "\n",
      "Tree max depth:15\n",
      "                    0           1  accuracy   macro avg  weighted avg\n",
      "precision    0.914773    0.961538  0.930712    0.938156      0.932726\n",
      "recall       0.978723    0.853659  0.930712    0.916191      0.930712\n",
      "f1-score     0.945668    0.904393  0.930712    0.925030      0.929823\n",
      "support    329.000000  205.000000  0.930712  534.000000    534.000000\n",
      "\n",
      "Tree max depth:16\n",
      "                    0           1  accuracy   macro avg  weighted avg\n",
      "precision    0.914773    0.961538  0.930712    0.938156      0.932726\n",
      "recall       0.978723    0.853659  0.930712    0.916191      0.930712\n",
      "f1-score     0.945668    0.904393  0.930712    0.925030      0.929823\n",
      "support    329.000000  205.000000  0.930712  534.000000    534.000000\n",
      "\n",
      "Tree max depth:17\n",
      "                    0           1  accuracy   macro avg  weighted avg\n",
      "precision    0.914773    0.961538  0.930712    0.938156      0.932726\n",
      "recall       0.978723    0.853659  0.930712    0.916191      0.930712\n",
      "f1-score     0.945668    0.904393  0.930712    0.925030      0.929823\n",
      "support    329.000000  205.000000  0.930712  534.000000    534.000000\n",
      "\n",
      "Tree max depth:18\n",
      "                    0           1  accuracy   macro avg  weighted avg\n",
      "precision    0.914773    0.961538  0.930712    0.938156      0.932726\n",
      "recall       0.978723    0.853659  0.930712    0.916191      0.930712\n",
      "f1-score     0.945668    0.904393  0.930712    0.925030      0.929823\n",
      "support    329.000000  205.000000  0.930712  534.000000    534.000000\n",
      "\n",
      "Tree max depth:19\n",
      "                    0           1  accuracy   macro avg  weighted avg\n",
      "precision    0.914773    0.961538  0.930712    0.938156      0.932726\n",
      "recall       0.978723    0.853659  0.930712    0.916191      0.930712\n",
      "f1-score     0.945668    0.904393  0.930712    0.925030      0.929823\n",
      "support    329.000000  205.000000  0.930712  534.000000    534.000000\n",
      "\n",
      "Tree max depth:20\n",
      "                    0           1  accuracy   macro avg  weighted avg\n",
      "precision    0.914773    0.961538  0.930712    0.938156      0.932726\n",
      "recall       0.978723    0.853659  0.930712    0.916191      0.930712\n",
      "f1-score     0.945668    0.904393  0.930712    0.925030      0.929823\n",
      "support    329.000000  205.000000  0.930712  534.000000    534.000000\n",
      "\n"
     ]
    }
   ],
   "source": [
    "for i in range(1,21):\n",
    "    # model\n",
    "    tree = DecisionTreeClassifier(max_depth=i,random_state=42)\n",
    "    tree = tree.fit(Xtr,ytr)\n",
    "    y_pred = tree.predict(Xtr)\n",
    "    # report\n",
    "    report = classification_report(ytr, y_pred, output_dict=True)\n",
    "    print(f'Tree max depth:{i}')\n",
    "    print(pd.DataFrame(report))\n",
    "    print()"
   ]
  },
  {
   "cell_type": "markdown",
   "metadata": {},
   "source": [
    "6. Which model performs better on your in-sample data?\n",
    "\n"
   ]
  },
  {
   "cell_type": "code",
   "execution_count": 19,
   "metadata": {},
   "outputs": [],
   "source": [
    "# max depth of 12+ has best accuracy"
   ]
  },
  {
   "cell_type": "markdown",
   "metadata": {},
   "source": [
    "7. Which model performs best on your out-of-sample data, the validate set?\n",
    "\n"
   ]
  },
  {
   "cell_type": "code",
   "execution_count": 20,
   "metadata": {},
   "outputs": [
    {
     "data": {
      "text/html": [
       "<div>\n",
       "<style scoped>\n",
       "    .dataframe tbody tr th:only-of-type {\n",
       "        vertical-align: middle;\n",
       "    }\n",
       "\n",
       "    .dataframe tbody tr th {\n",
       "        vertical-align: top;\n",
       "    }\n",
       "\n",
       "    .dataframe thead th {\n",
       "        text-align: right;\n",
       "    }\n",
       "</style>\n",
       "<table border=\"1\" class=\"dataframe\">\n",
       "  <thead>\n",
       "    <tr style=\"text-align: right;\">\n",
       "      <th></th>\n",
       "      <th>max_depth</th>\n",
       "      <th>train_acc</th>\n",
       "      <th>val_acc</th>\n",
       "      <th>diff</th>\n",
       "    </tr>\n",
       "  </thead>\n",
       "  <tbody>\n",
       "    <tr>\n",
       "      <th>0</th>\n",
       "      <td>1</td>\n",
       "      <td>0.786517</td>\n",
       "      <td>0.797753</td>\n",
       "      <td>-0.011236</td>\n",
       "    </tr>\n",
       "    <tr>\n",
       "      <th>1</th>\n",
       "      <td>2</td>\n",
       "      <td>0.786517</td>\n",
       "      <td>0.797753</td>\n",
       "      <td>-0.011236</td>\n",
       "    </tr>\n",
       "    <tr>\n",
       "      <th>2</th>\n",
       "      <td>3</td>\n",
       "      <td>0.808989</td>\n",
       "      <td>0.837079</td>\n",
       "      <td>-0.028090</td>\n",
       "    </tr>\n",
       "    <tr>\n",
       "      <th>3</th>\n",
       "      <td>4</td>\n",
       "      <td>0.823970</td>\n",
       "      <td>0.831461</td>\n",
       "      <td>-0.007491</td>\n",
       "    </tr>\n",
       "    <tr>\n",
       "      <th>4</th>\n",
       "      <td>5</td>\n",
       "      <td>0.848315</td>\n",
       "      <td>0.825843</td>\n",
       "      <td>0.022472</td>\n",
       "    </tr>\n",
       "    <tr>\n",
       "      <th>5</th>\n",
       "      <td>6</td>\n",
       "      <td>0.874532</td>\n",
       "      <td>0.831461</td>\n",
       "      <td>0.043071</td>\n",
       "    </tr>\n",
       "    <tr>\n",
       "      <th>6</th>\n",
       "      <td>7</td>\n",
       "      <td>0.889513</td>\n",
       "      <td>0.825843</td>\n",
       "      <td>0.063670</td>\n",
       "    </tr>\n",
       "    <tr>\n",
       "      <th>7</th>\n",
       "      <td>8</td>\n",
       "      <td>0.902622</td>\n",
       "      <td>0.808989</td>\n",
       "      <td>0.093633</td>\n",
       "    </tr>\n",
       "    <tr>\n",
       "      <th>8</th>\n",
       "      <td>9</td>\n",
       "      <td>0.910112</td>\n",
       "      <td>0.814607</td>\n",
       "      <td>0.095506</td>\n",
       "    </tr>\n",
       "    <tr>\n",
       "      <th>9</th>\n",
       "      <td>10</td>\n",
       "      <td>0.923221</td>\n",
       "      <td>0.803371</td>\n",
       "      <td>0.119850</td>\n",
       "    </tr>\n",
       "    <tr>\n",
       "      <th>10</th>\n",
       "      <td>11</td>\n",
       "      <td>0.928839</td>\n",
       "      <td>0.814607</td>\n",
       "      <td>0.114232</td>\n",
       "    </tr>\n",
       "    <tr>\n",
       "      <th>11</th>\n",
       "      <td>12</td>\n",
       "      <td>0.930712</td>\n",
       "      <td>0.803371</td>\n",
       "      <td>0.127341</td>\n",
       "    </tr>\n",
       "    <tr>\n",
       "      <th>12</th>\n",
       "      <td>13</td>\n",
       "      <td>0.930712</td>\n",
       "      <td>0.814607</td>\n",
       "      <td>0.116105</td>\n",
       "    </tr>\n",
       "    <tr>\n",
       "      <th>13</th>\n",
       "      <td>14</td>\n",
       "      <td>0.930712</td>\n",
       "      <td>0.814607</td>\n",
       "      <td>0.116105</td>\n",
       "    </tr>\n",
       "    <tr>\n",
       "      <th>14</th>\n",
       "      <td>15</td>\n",
       "      <td>0.930712</td>\n",
       "      <td>0.814607</td>\n",
       "      <td>0.116105</td>\n",
       "    </tr>\n",
       "    <tr>\n",
       "      <th>15</th>\n",
       "      <td>16</td>\n",
       "      <td>0.930712</td>\n",
       "      <td>0.814607</td>\n",
       "      <td>0.116105</td>\n",
       "    </tr>\n",
       "    <tr>\n",
       "      <th>16</th>\n",
       "      <td>17</td>\n",
       "      <td>0.930712</td>\n",
       "      <td>0.814607</td>\n",
       "      <td>0.116105</td>\n",
       "    </tr>\n",
       "    <tr>\n",
       "      <th>17</th>\n",
       "      <td>18</td>\n",
       "      <td>0.930712</td>\n",
       "      <td>0.814607</td>\n",
       "      <td>0.116105</td>\n",
       "    </tr>\n",
       "    <tr>\n",
       "      <th>18</th>\n",
       "      <td>19</td>\n",
       "      <td>0.930712</td>\n",
       "      <td>0.814607</td>\n",
       "      <td>0.116105</td>\n",
       "    </tr>\n",
       "    <tr>\n",
       "      <th>19</th>\n",
       "      <td>20</td>\n",
       "      <td>0.930712</td>\n",
       "      <td>0.814607</td>\n",
       "      <td>0.116105</td>\n",
       "    </tr>\n",
       "  </tbody>\n",
       "</table>\n",
       "</div>"
      ],
      "text/plain": [
       "    max_depth  train_acc   val_acc      diff\n",
       "0           1   0.786517  0.797753 -0.011236\n",
       "1           2   0.786517  0.797753 -0.011236\n",
       "2           3   0.808989  0.837079 -0.028090\n",
       "3           4   0.823970  0.831461 -0.007491\n",
       "4           5   0.848315  0.825843  0.022472\n",
       "5           6   0.874532  0.831461  0.043071\n",
       "6           7   0.889513  0.825843  0.063670\n",
       "7           8   0.902622  0.808989  0.093633\n",
       "8           9   0.910112  0.814607  0.095506\n",
       "9          10   0.923221  0.803371  0.119850\n",
       "10         11   0.928839  0.814607  0.114232\n",
       "11         12   0.930712  0.803371  0.127341\n",
       "12         13   0.930712  0.814607  0.116105\n",
       "13         14   0.930712  0.814607  0.116105\n",
       "14         15   0.930712  0.814607  0.116105\n",
       "15         16   0.930712  0.814607  0.116105\n",
       "16         17   0.930712  0.814607  0.116105\n",
       "17         18   0.930712  0.814607  0.116105\n",
       "18         19   0.930712  0.814607  0.116105\n",
       "19         20   0.930712  0.814607  0.116105"
      ]
     },
     "execution_count": 20,
     "metadata": {},
     "output_type": "execute_result"
    }
   ],
   "source": [
    "metrics = []\n",
    "for i in range(1,21):\n",
    "    # model\n",
    "    tree = DecisionTreeClassifier(max_depth=i,random_state=42)\n",
    "    tree = tree.fit(Xtr,ytr)\n",
    "    # accuracies\n",
    "    ytr_pred = tree.score(Xtr,ytr)\n",
    "    yv_pred = tree.score(Xv,yv)\n",
    "    # table-ize\n",
    "    output = {\n",
    "        'max_depth':i,\n",
    "        'train_acc':ytr_pred,\n",
    "        'val_acc':yv_pred\n",
    "    }\n",
    "    metrics.append(output)\n",
    "df = pd.DataFrame(metrics)\n",
    "df['diff'] = df.train_acc - df.val_acc\n",
    "df"
   ]
  },
  {
   "cell_type": "code",
   "execution_count": 21,
   "metadata": {},
   "outputs": [
    {
     "data": {
      "text/html": [
       "<div>\n",
       "<style scoped>\n",
       "    .dataframe tbody tr th:only-of-type {\n",
       "        vertical-align: middle;\n",
       "    }\n",
       "\n",
       "    .dataframe tbody tr th {\n",
       "        vertical-align: top;\n",
       "    }\n",
       "\n",
       "    .dataframe thead th {\n",
       "        text-align: right;\n",
       "    }\n",
       "</style>\n",
       "<table border=\"1\" class=\"dataframe\">\n",
       "  <thead>\n",
       "    <tr style=\"text-align: right;\">\n",
       "      <th></th>\n",
       "      <th>max_depth</th>\n",
       "      <th>train_acc</th>\n",
       "      <th>val_acc</th>\n",
       "      <th>diff</th>\n",
       "    </tr>\n",
       "  </thead>\n",
       "  <tbody>\n",
       "    <tr>\n",
       "      <th>2</th>\n",
       "      <td>3</td>\n",
       "      <td>0.808989</td>\n",
       "      <td>0.837079</td>\n",
       "      <td>-0.02809</td>\n",
       "    </tr>\n",
       "  </tbody>\n",
       "</table>\n",
       "</div>"
      ],
      "text/plain": [
       "   max_depth  train_acc   val_acc     diff\n",
       "2          3   0.808989  0.837079 -0.02809"
      ]
     },
     "execution_count": 21,
     "metadata": {},
     "output_type": "execute_result"
    }
   ],
   "source": [
    "df[df.val_acc==df.val_acc.max()]"
   ]
  },
  {
   "cell_type": "code",
   "execution_count": 22,
   "metadata": {},
   "outputs": [
    {
     "data": {
      "text/plain": [
       "0.8212290502793296"
      ]
     },
     "execution_count": 22,
     "metadata": {},
     "output_type": "execute_result"
    }
   ],
   "source": [
    "final_tree = DecisionTreeClassifier(max_depth=3,random_state=42)\n",
    "final_tree = final_tree.fit(Xt,yt)\n",
    "yt_acc = final_tree.score(Xt,yt)\n",
    "yt_acc"
   ]
  },
  {
   "cell_type": "code",
   "execution_count": 23,
   "metadata": {},
   "outputs": [
    {
     "data": {
      "text/plain": [
       "(0.6161048689138576, 0.8212290502793296)"
      ]
     },
     "execution_count": 23,
     "metadata": {},
     "output_type": "execute_result"
    }
   ],
   "source": [
    "baseline,yt_acc"
   ]
  },
  {
   "cell_type": "code",
   "execution_count": 24,
   "metadata": {},
   "outputs": [
    {
     "name": "stdout",
     "output_type": "stream",
     "text": [
      "|--- sex_male <= 0.50\n",
      "|   |--- pclass <= 2.50\n",
      "|   |   |--- fare <= 28.86\n",
      "|   |   |   |--- class: 1\n",
      "|   |   |--- fare >  28.86\n",
      "|   |   |   |--- class: 1\n",
      "|   |--- pclass >  2.50\n",
      "|   |   |--- embarked_S <= 0.50\n",
      "|   |   |   |--- class: 1\n",
      "|   |   |--- embarked_S >  0.50\n",
      "|   |   |   |--- class: 0\n",
      "|--- sex_male >  0.50\n",
      "|   |--- pclass <= 1.50\n",
      "|   |   |--- fare <= 26.14\n",
      "|   |   |   |--- class: 0\n",
      "|   |   |--- fare >  26.14\n",
      "|   |   |   |--- class: 0\n",
      "|   |--- pclass >  1.50\n",
      "|   |   |--- fare <= 7.74\n",
      "|   |   |   |--- class: 0\n",
      "|   |   |--- fare >  7.74\n",
      "|   |   |   |--- class: 0\n",
      "\n"
     ]
    }
   ],
   "source": [
    "from sklearn.tree import export_text\n",
    "\n",
    "print(export_text(tree1, feature_names=Xtr.columns.to_list()))"
   ]
  },
  {
   "cell_type": "markdown",
   "metadata": {},
   "source": [
    "Work through these same exercises using the Telco dataset.\n",
    "Experiment with this model on other datasets with a higher number of output classes."
   ]
  },
  {
   "cell_type": "code",
   "execution_count": 25,
   "metadata": {},
   "outputs": [
    {
     "name": "stdout",
     "output_type": "stream",
     "text": [
      "csv file found and loaded\n",
      "data cleaned and prepped\n",
      "data split\n",
      "train -> (4225, 47); 59.99%\n",
      "validate -> (1409, 47); 20.01%\n",
      "test -> (1409, 47); 20.01%\n"
     ]
    },
    {
     "data": {
      "text/html": [
       "<div>\n",
       "<style scoped>\n",
       "    .dataframe tbody tr th:only-of-type {\n",
       "        vertical-align: middle;\n",
       "    }\n",
       "\n",
       "    .dataframe tbody tr th {\n",
       "        vertical-align: top;\n",
       "    }\n",
       "\n",
       "    .dataframe thead th {\n",
       "        text-align: right;\n",
       "    }\n",
       "</style>\n",
       "<table border=\"1\" class=\"dataframe\">\n",
       "  <thead>\n",
       "    <tr style=\"text-align: right;\">\n",
       "      <th></th>\n",
       "      <th>gender</th>\n",
       "      <th>senior_citizen</th>\n",
       "      <th>partner</th>\n",
       "      <th>dependents</th>\n",
       "      <th>tenure</th>\n",
       "      <th>phone_service</th>\n",
       "      <th>multiple_lines</th>\n",
       "      <th>online_security</th>\n",
       "      <th>online_backup</th>\n",
       "      <th>device_protection</th>\n",
       "      <th>...</th>\n",
       "      <th>streaming_tv_Yes</th>\n",
       "      <th>streaming_movies_No internet service</th>\n",
       "      <th>streaming_movies_Yes</th>\n",
       "      <th>contract_type_One year</th>\n",
       "      <th>contract_type_Two year</th>\n",
       "      <th>internet_service_type_Fiber optic</th>\n",
       "      <th>internet_service_type_None</th>\n",
       "      <th>payment_type_Credit card (automatic)</th>\n",
       "      <th>payment_type_Electronic check</th>\n",
       "      <th>payment_type_Mailed check</th>\n",
       "    </tr>\n",
       "  </thead>\n",
       "  <tbody>\n",
       "    <tr>\n",
       "      <th>722</th>\n",
       "      <td>Male</td>\n",
       "      <td>0</td>\n",
       "      <td>Yes</td>\n",
       "      <td>Yes</td>\n",
       "      <td>1</td>\n",
       "      <td>Yes</td>\n",
       "      <td>No</td>\n",
       "      <td>No internet service</td>\n",
       "      <td>No internet service</td>\n",
       "      <td>No internet service</td>\n",
       "      <td>...</td>\n",
       "      <td>0</td>\n",
       "      <td>1</td>\n",
       "      <td>0</td>\n",
       "      <td>1</td>\n",
       "      <td>0</td>\n",
       "      <td>0</td>\n",
       "      <td>1</td>\n",
       "      <td>1</td>\n",
       "      <td>0</td>\n",
       "      <td>0</td>\n",
       "    </tr>\n",
       "  </tbody>\n",
       "</table>\n",
       "<p>1 rows × 47 columns</p>\n",
       "</div>"
      ],
      "text/plain": [
       "    gender  senior_citizen partner dependents  tenure phone_service  \\\n",
       "722   Male               0     Yes        Yes       1           Yes   \n",
       "\n",
       "    multiple_lines      online_security        online_backup  \\\n",
       "722             No  No internet service  No internet service   \n",
       "\n",
       "       device_protection  ... streaming_tv_Yes  \\\n",
       "722  No internet service  ...                0   \n",
       "\n",
       "    streaming_movies_No internet service streaming_movies_Yes  \\\n",
       "722                                    1                    0   \n",
       "\n",
       "    contract_type_One year  contract_type_Two year  \\\n",
       "722                      1                       0   \n",
       "\n",
       "     internet_service_type_Fiber optic internet_service_type_None  \\\n",
       "722                                  0                          1   \n",
       "\n",
       "    payment_type_Credit card (automatic) payment_type_Electronic check  \\\n",
       "722                                    1                             0   \n",
       "\n",
       "    payment_type_Mailed check  \n",
       "722                         0  \n",
       "\n",
       "[1 rows x 47 columns]"
      ]
     },
     "execution_count": 25,
     "metadata": {},
     "output_type": "execute_result"
    }
   ],
   "source": [
    "telco = get_telco_data()\n",
    "tel = prep_telco(telco)\n",
    "tel_tr, tel_v, tel_t = split_data(tel,'churn')\n",
    "tel_tr.sample()"
   ]
  },
  {
   "cell_type": "code",
   "execution_count": 26,
   "metadata": {},
   "outputs": [],
   "source": [
    "tel_obj = tel_tr.select_dtypes(include='object').columns.to_list()\n",
    "tel_obj.append('churned')\n",
    "Xtr = tel_tr.drop(columns=tel_obj)\n",
    "Xv = tel_v.drop(columns=tel_obj)\n",
    "Xt = tel_t.drop(columns=tel_obj)\n",
    "ytr = tel_tr.churned\n",
    "yv = tel_v.churned\n",
    "yt = tel_t.churned"
   ]
  },
  {
   "cell_type": "code",
   "execution_count": 27,
   "metadata": {},
   "outputs": [
    {
     "data": {
      "text/html": [
       "<div>\n",
       "<style scoped>\n",
       "    .dataframe tbody tr th:only-of-type {\n",
       "        vertical-align: middle;\n",
       "    }\n",
       "\n",
       "    .dataframe tbody tr th {\n",
       "        vertical-align: top;\n",
       "    }\n",
       "\n",
       "    .dataframe thead th {\n",
       "        text-align: right;\n",
       "    }\n",
       "</style>\n",
       "<table border=\"1\" class=\"dataframe\">\n",
       "  <thead>\n",
       "    <tr style=\"text-align: right;\">\n",
       "      <th></th>\n",
       "      <th>senior_citizen</th>\n",
       "      <th>tenure</th>\n",
       "      <th>monthly_charges</th>\n",
       "      <th>total_charges</th>\n",
       "      <th>Female</th>\n",
       "      <th>partnered</th>\n",
       "      <th>has_dependents</th>\n",
       "      <th>has_phone_service</th>\n",
       "      <th>does_paperless_billing</th>\n",
       "      <th>multiple_lines_No phone service</th>\n",
       "      <th>...</th>\n",
       "      <th>streaming_tv_Yes</th>\n",
       "      <th>streaming_movies_No internet service</th>\n",
       "      <th>streaming_movies_Yes</th>\n",
       "      <th>contract_type_One year</th>\n",
       "      <th>contract_type_Two year</th>\n",
       "      <th>internet_service_type_Fiber optic</th>\n",
       "      <th>internet_service_type_None</th>\n",
       "      <th>payment_type_Credit card (automatic)</th>\n",
       "      <th>payment_type_Electronic check</th>\n",
       "      <th>payment_type_Mailed check</th>\n",
       "    </tr>\n",
       "  </thead>\n",
       "  <tbody>\n",
       "    <tr>\n",
       "      <th>1655</th>\n",
       "      <td>0</td>\n",
       "      <td>55</td>\n",
       "      <td>85.1</td>\n",
       "      <td>4657.95</td>\n",
       "      <td>1</td>\n",
       "      <td>1</td>\n",
       "      <td>1</td>\n",
       "      <td>1</td>\n",
       "      <td>1</td>\n",
       "      <td>0</td>\n",
       "      <td>...</td>\n",
       "      <td>1</td>\n",
       "      <td>0</td>\n",
       "      <td>1</td>\n",
       "      <td>0</td>\n",
       "      <td>1</td>\n",
       "      <td>0</td>\n",
       "      <td>0</td>\n",
       "      <td>0</td>\n",
       "      <td>0</td>\n",
       "      <td>0</td>\n",
       "    </tr>\n",
       "  </tbody>\n",
       "</table>\n",
       "<p>1 rows × 30 columns</p>\n",
       "</div>"
      ],
      "text/plain": [
       "      senior_citizen  tenure  monthly_charges  total_charges  Female  \\\n",
       "1655               0      55             85.1        4657.95       1   \n",
       "\n",
       "      partnered  has_dependents  has_phone_service  does_paperless_billing  \\\n",
       "1655          1               1                  1                       1   \n",
       "\n",
       "      multiple_lines_No phone service  ...  streaming_tv_Yes  \\\n",
       "1655                                0  ...                 1   \n",
       "\n",
       "      streaming_movies_No internet service  streaming_movies_Yes  \\\n",
       "1655                                     0                     1   \n",
       "\n",
       "      contract_type_One year  contract_type_Two year  \\\n",
       "1655                       0                       1   \n",
       "\n",
       "      internet_service_type_Fiber optic  internet_service_type_None  \\\n",
       "1655                                  0                           0   \n",
       "\n",
       "      payment_type_Credit card (automatic)  payment_type_Electronic check  \\\n",
       "1655                                     0                              0   \n",
       "\n",
       "      payment_type_Mailed check  \n",
       "1655                          0  \n",
       "\n",
       "[1 rows x 30 columns]"
      ]
     },
     "execution_count": 27,
     "metadata": {},
     "output_type": "execute_result"
    }
   ],
   "source": [
    "Xtr.sample()"
   ]
  },
  {
   "cell_type": "code",
   "execution_count": 28,
   "metadata": {},
   "outputs": [
    {
     "data": {
      "text/plain": [
       "3122    0\n",
       "Name: churned, dtype: int64"
      ]
     },
     "execution_count": 28,
     "metadata": {},
     "output_type": "execute_result"
    }
   ],
   "source": [
    "ytr.sample()"
   ]
  },
  {
   "cell_type": "code",
   "execution_count": 29,
   "metadata": {},
   "outputs": [
    {
     "data": {
      "text/plain": [
       "0    3104\n",
       "1    1121\n",
       "Name: churned, dtype: int64"
      ]
     },
     "execution_count": 29,
     "metadata": {},
     "output_type": "execute_result"
    }
   ],
   "source": [
    "ytr.value_counts()"
   ]
  },
  {
   "cell_type": "code",
   "execution_count": 30,
   "metadata": {},
   "outputs": [
    {
     "data": {
      "text/plain": [
       "0.7346745562130178"
      ]
     },
     "execution_count": 30,
     "metadata": {},
     "output_type": "execute_result"
    }
   ],
   "source": [
    "baseline = (ytr==0).mean()\n",
    "baseline"
   ]
  },
  {
   "cell_type": "code",
   "execution_count": 31,
   "metadata": {},
   "outputs": [],
   "source": [
    "tree2 = DecisionTreeClassifier(max_depth=3,random_state=42)\n",
    "tree2 = tree2.fit(Xtr,ytr)\n",
    "y_pred = tree2.predict(Xtr)"
   ]
  },
  {
   "cell_type": "code",
   "execution_count": 32,
   "metadata": {},
   "outputs": [
    {
     "data": {
      "image/png": "[encoded data removed]",
      "text/plain": [
       "<Figure size 1500x1500 with 1 Axes>"
      ]
     },
     "metadata": {},
     "output_type": "display_data"
    }
   ],
   "source": [
    "plt.figure(figsize=(15,15))\n",
    "plot_tree(tree2,feature_names=Xtr.columns,class_names=['0','1'])\n",
    "plt.show()"
   ]
  },
  {
   "cell_type": "code",
   "execution_count": 33,
   "metadata": {},
   "outputs": [
    {
     "data": {
      "text/plain": [
       "0.7924260355029585"
      ]
     },
     "execution_count": 33,
     "metadata": {},
     "output_type": "execute_result"
    }
   ],
   "source": [
    "tree2.score(Xtr,ytr)"
   ]
  },
  {
   "cell_type": "code",
   "execution_count": 34,
   "metadata": {},
   "outputs": [
    {
     "data": {
      "image/png": "[encoded data removed]",
      "text/plain": [
       "<Figure size 640x480 with 2 Axes>"
      ]
     },
     "metadata": {},
     "output_type": "display_data"
    }
   ],
   "source": [
    "cm = confusion_matrix(ytr, y_pred, labels=tree2.classes_)\n",
    "cmd = ConfusionMatrixDisplay(cm,display_labels=tree2.classes_)\n",
    "cmd.plot()\n",
    "plt.show()"
   ]
  },
  {
   "cell_type": "code",
   "execution_count": 35,
   "metadata": {},
   "outputs": [
    {
     "name": "stdout",
     "output_type": "stream",
     "text": [
      "              precision    recall  f1-score   support\n",
      "\n",
      "           0       0.81      0.93      0.87      3104\n",
      "           1       0.69      0.40      0.51      1121\n",
      "\n",
      "    accuracy                           0.79      4225\n",
      "   macro avg       0.75      0.67      0.69      4225\n",
      "weighted avg       0.78      0.79      0.77      4225\n",
      "\n"
     ]
    }
   ],
   "source": [
    "print(classification_report(ytr,y_pred))"
   ]
  },
  {
   "cell_type": "code",
   "execution_count": 36,
   "metadata": {},
   "outputs": [
    {
     "name": "stdout",
     "output_type": "stream",
     "text": [
      "Tree max depth: 3\n"
     ]
    },
    {
     "data": {
      "text/html": [
       "<div>\n",
       "<style scoped>\n",
       "    .dataframe tbody tr th:only-of-type {\n",
       "        vertical-align: middle;\n",
       "    }\n",
       "\n",
       "    .dataframe tbody tr th {\n",
       "        vertical-align: top;\n",
       "    }\n",
       "\n",
       "    .dataframe thead th {\n",
       "        text-align: right;\n",
       "    }\n",
       "</style>\n",
       "<table border=\"1\" class=\"dataframe\">\n",
       "  <thead>\n",
       "    <tr style=\"text-align: right;\">\n",
       "      <th></th>\n",
       "      <th>0</th>\n",
       "      <th>1</th>\n",
       "      <th>accuracy</th>\n",
       "      <th>macro avg</th>\n",
       "      <th>weighted avg</th>\n",
       "    </tr>\n",
       "  </thead>\n",
       "  <tbody>\n",
       "    <tr>\n",
       "      <th>precision</th>\n",
       "      <td>0.811992</td>\n",
       "      <td>0.685976</td>\n",
       "      <td>0.792426</td>\n",
       "      <td>0.748984</td>\n",
       "      <td>0.778557</td>\n",
       "    </tr>\n",
       "    <tr>\n",
       "      <th>recall</th>\n",
       "      <td>0.933634</td>\n",
       "      <td>0.401427</td>\n",
       "      <td>0.792426</td>\n",
       "      <td>0.667531</td>\n",
       "      <td>0.792426</td>\n",
       "    </tr>\n",
       "    <tr>\n",
       "      <th>f1-score</th>\n",
       "      <td>0.868575</td>\n",
       "      <td>0.506472</td>\n",
       "      <td>0.792426</td>\n",
       "      <td>0.687523</td>\n",
       "      <td>0.772500</td>\n",
       "    </tr>\n",
       "    <tr>\n",
       "      <th>support</th>\n",
       "      <td>3104.000000</td>\n",
       "      <td>1121.000000</td>\n",
       "      <td>0.792426</td>\n",
       "      <td>4225.000000</td>\n",
       "      <td>4225.000000</td>\n",
       "    </tr>\n",
       "  </tbody>\n",
       "</table>\n",
       "</div>"
      ],
      "text/plain": [
       "                     0            1  accuracy    macro avg  weighted avg\n",
       "precision     0.811992     0.685976  0.792426     0.748984      0.778557\n",
       "recall        0.933634     0.401427  0.792426     0.667531      0.792426\n",
       "f1-score      0.868575     0.506472  0.792426     0.687523      0.772500\n",
       "support    3104.000000  1121.000000  0.792426  4225.000000   4225.000000"
      ]
     },
     "execution_count": 36,
     "metadata": {},
     "output_type": "execute_result"
    }
   ],
   "source": [
    "report = classification_report(ytr,y_pred,output_dict=True)\n",
    "print('Tree max depth: 3')\n",
    "pd.DataFrame(report)"
   ]
  },
  {
   "cell_type": "code",
   "execution_count": 37,
   "metadata": {},
   "outputs": [
    {
     "data": {
      "text/plain": [
       "array([[2898,  206],\n",
       "       [ 671,  450]])"
      ]
     },
     "execution_count": 37,
     "metadata": {},
     "output_type": "execute_result"
    }
   ],
   "source": [
    "cm"
   ]
  },
  {
   "cell_type": "code",
   "execution_count": 38,
   "metadata": {},
   "outputs": [
    {
     "data": {
      "text/plain": [
       "(2898, 206, 671, 450)"
      ]
     },
     "execution_count": 38,
     "metadata": {},
     "output_type": "execute_result"
    }
   ],
   "source": [
    "TN,FP,FN,TP = cm.ravel()\n",
    "TN,FP,FN,TP"
   ]
  },
  {
   "cell_type": "code",
   "execution_count": 39,
   "metadata": {},
   "outputs": [
    {
     "name": "stdout",
     "output_type": "stream",
     "text": [
      "Actual Negative: 3104\n",
      "Actual Positive: 1121\n",
      "0    3104\n",
      "1    1121\n",
      "Name: churned, dtype: int64\n"
     ]
    }
   ],
   "source": [
    "act_neg = TN + FP\n",
    "act_pos = FN + TP\n",
    "print(f\"Actual Negative: {act_neg}\")\n",
    "print(f\"Actual Positive: {act_pos}\")\n",
    "print(ytr.value_counts())"
   ]
  },
  {
   "cell_type": "code",
   "execution_count": 40,
   "metadata": {},
   "outputs": [
    {
     "name": "stdout",
     "output_type": "stream",
     "text": [
      "Accuracy: 0.7924260355029585\n",
      "True Pos Rate: 0.40142729705619984\n",
      "False Pos Rate: 0.0663659793814433\n",
      "True Neg Rate: 0.9336340206185567\n",
      "False Neg Rate: 0.5985727029438002\n",
      "Precision: 0.6859756097560976\n",
      "Recall: 0.40142729705619984\n",
      "F1 Score: 0.5064715813168261\n",
      "Support Pos (1): 1121\n",
      "Support Neg (0): 3104\n"
     ]
    }
   ],
   "source": [
    "ALL = TN + FP + FN + TP\n",
    "acc = (TP+TN)/ALL\n",
    "tru_pos = rec = TP/(TP+FN)\n",
    "fal_pos = FP/(FP+TN)\n",
    "tru_neg = TN/(FP+TN)\n",
    "fal_neg = FN/(TP+FN)\n",
    "prc = TP/(TP+FP)\n",
    "f1_score = 2*(prc*rec)/(prc+rec)\n",
    "sup_pos = TP+FN\n",
    "sup_neg = FP+TN\n",
    "\n",
    "print(f\"Accuracy: {acc}\")\n",
    "print(f\"True Pos Rate: {tru_pos}\")\n",
    "print(f\"False Pos Rate: {fal_pos}\")\n",
    "print(f\"True Neg Rate: {tru_neg}\")\n",
    "print(f\"False Neg Rate: {fal_neg}\")\n",
    "print(f\"Precision: {prc}\")\n",
    "print(f\"Recall: {rec}\")\n",
    "print(f\"F1 Score: {f1_score}\")\n",
    "print(f\"Support Pos (1): {sup_pos}\")\n",
    "print(f\"Support Neg (0): {sup_neg}\")"
   ]
  },
  {
   "cell_type": "code",
   "execution_count": 41,
   "metadata": {},
   "outputs": [
    {
     "data": {
      "text/html": [
       "<div>\n",
       "<style scoped>\n",
       "    .dataframe tbody tr th:only-of-type {\n",
       "        vertical-align: middle;\n",
       "    }\n",
       "\n",
       "    .dataframe tbody tr th {\n",
       "        vertical-align: top;\n",
       "    }\n",
       "\n",
       "    .dataframe thead th {\n",
       "        text-align: right;\n",
       "    }\n",
       "</style>\n",
       "<table border=\"1\" class=\"dataframe\">\n",
       "  <thead>\n",
       "    <tr style=\"text-align: right;\">\n",
       "      <th></th>\n",
       "      <th>max_depth</th>\n",
       "      <th>train_acc</th>\n",
       "      <th>val_acc</th>\n",
       "      <th>diff</th>\n",
       "    </tr>\n",
       "  </thead>\n",
       "  <tbody>\n",
       "    <tr>\n",
       "      <th>0</th>\n",
       "      <td>1</td>\n",
       "      <td>0.734675</td>\n",
       "      <td>0.734564</td>\n",
       "      <td>0.000111</td>\n",
       "    </tr>\n",
       "    <tr>\n",
       "      <th>1</th>\n",
       "      <td>2</td>\n",
       "      <td>0.792426</td>\n",
       "      <td>0.779986</td>\n",
       "      <td>0.012440</td>\n",
       "    </tr>\n",
       "    <tr>\n",
       "      <th>2</th>\n",
       "      <td>3</td>\n",
       "      <td>0.792426</td>\n",
       "      <td>0.779986</td>\n",
       "      <td>0.012440</td>\n",
       "    </tr>\n",
       "    <tr>\n",
       "      <th>3</th>\n",
       "      <td>4</td>\n",
       "      <td>0.798343</td>\n",
       "      <td>0.770759</td>\n",
       "      <td>0.027584</td>\n",
       "    </tr>\n",
       "    <tr>\n",
       "      <th>4</th>\n",
       "      <td>5</td>\n",
       "      <td>0.816095</td>\n",
       "      <td>0.769340</td>\n",
       "      <td>0.046755</td>\n",
       "    </tr>\n",
       "    <tr>\n",
       "      <th>5</th>\n",
       "      <td>6</td>\n",
       "      <td>0.831953</td>\n",
       "      <td>0.775727</td>\n",
       "      <td>0.056225</td>\n",
       "    </tr>\n",
       "    <tr>\n",
       "      <th>6</th>\n",
       "      <td>7</td>\n",
       "      <td>0.842604</td>\n",
       "      <td>0.751597</td>\n",
       "      <td>0.091007</td>\n",
       "    </tr>\n",
       "    <tr>\n",
       "      <th>7</th>\n",
       "      <td>8</td>\n",
       "      <td>0.861302</td>\n",
       "      <td>0.751597</td>\n",
       "      <td>0.109705</td>\n",
       "    </tr>\n",
       "    <tr>\n",
       "      <th>8</th>\n",
       "      <td>9</td>\n",
       "      <td>0.880000</td>\n",
       "      <td>0.743790</td>\n",
       "      <td>0.136210</td>\n",
       "    </tr>\n",
       "    <tr>\n",
       "      <th>9</th>\n",
       "      <td>10</td>\n",
       "      <td>0.902485</td>\n",
       "      <td>0.735273</td>\n",
       "      <td>0.167212</td>\n",
       "    </tr>\n",
       "    <tr>\n",
       "      <th>10</th>\n",
       "      <td>11</td>\n",
       "      <td>0.924970</td>\n",
       "      <td>0.732434</td>\n",
       "      <td>0.192536</td>\n",
       "    </tr>\n",
       "    <tr>\n",
       "      <th>11</th>\n",
       "      <td>12</td>\n",
       "      <td>0.941538</td>\n",
       "      <td>0.728176</td>\n",
       "      <td>0.213362</td>\n",
       "    </tr>\n",
       "    <tr>\n",
       "      <th>12</th>\n",
       "      <td>13</td>\n",
       "      <td>0.954793</td>\n",
       "      <td>0.733144</td>\n",
       "      <td>0.221649</td>\n",
       "    </tr>\n",
       "    <tr>\n",
       "      <th>13</th>\n",
       "      <td>14</td>\n",
       "      <td>0.965444</td>\n",
       "      <td>0.731725</td>\n",
       "      <td>0.233719</td>\n",
       "    </tr>\n",
       "    <tr>\n",
       "      <th>14</th>\n",
       "      <td>15</td>\n",
       "      <td>0.977278</td>\n",
       "      <td>0.735273</td>\n",
       "      <td>0.242005</td>\n",
       "    </tr>\n",
       "    <tr>\n",
       "      <th>15</th>\n",
       "      <td>16</td>\n",
       "      <td>0.982722</td>\n",
       "      <td>0.719659</td>\n",
       "      <td>0.263063</td>\n",
       "    </tr>\n",
       "    <tr>\n",
       "      <th>16</th>\n",
       "      <td>17</td>\n",
       "      <td>0.989349</td>\n",
       "      <td>0.723918</td>\n",
       "      <td>0.265431</td>\n",
       "    </tr>\n",
       "    <tr>\n",
       "      <th>17</th>\n",
       "      <td>18</td>\n",
       "      <td>0.993609</td>\n",
       "      <td>0.728886</td>\n",
       "      <td>0.264724</td>\n",
       "    </tr>\n",
       "    <tr>\n",
       "      <th>18</th>\n",
       "      <td>19</td>\n",
       "      <td>0.994320</td>\n",
       "      <td>0.716111</td>\n",
       "      <td>0.278209</td>\n",
       "    </tr>\n",
       "    <tr>\n",
       "      <th>19</th>\n",
       "      <td>20</td>\n",
       "      <td>0.996923</td>\n",
       "      <td>0.723208</td>\n",
       "      <td>0.273715</td>\n",
       "    </tr>\n",
       "    <tr>\n",
       "      <th>20</th>\n",
       "      <td>21</td>\n",
       "      <td>0.997396</td>\n",
       "      <td>0.721789</td>\n",
       "      <td>0.275608</td>\n",
       "    </tr>\n",
       "    <tr>\n",
       "      <th>21</th>\n",
       "      <td>22</td>\n",
       "      <td>0.997633</td>\n",
       "      <td>0.726047</td>\n",
       "      <td>0.271586</td>\n",
       "    </tr>\n",
       "    <tr>\n",
       "      <th>22</th>\n",
       "      <td>23</td>\n",
       "      <td>0.998107</td>\n",
       "      <td>0.723918</td>\n",
       "      <td>0.274189</td>\n",
       "    </tr>\n",
       "    <tr>\n",
       "      <th>23</th>\n",
       "      <td>24</td>\n",
       "      <td>0.998107</td>\n",
       "      <td>0.723918</td>\n",
       "      <td>0.274189</td>\n",
       "    </tr>\n",
       "    <tr>\n",
       "      <th>24</th>\n",
       "      <td>25</td>\n",
       "      <td>0.998107</td>\n",
       "      <td>0.723918</td>\n",
       "      <td>0.274189</td>\n",
       "    </tr>\n",
       "  </tbody>\n",
       "</table>\n",
       "</div>"
      ],
      "text/plain": [
       "    max_depth  train_acc   val_acc      diff\n",
       "0           1   0.734675  0.734564  0.000111\n",
       "1           2   0.792426  0.779986  0.012440\n",
       "2           3   0.792426  0.779986  0.012440\n",
       "3           4   0.798343  0.770759  0.027584\n",
       "4           5   0.816095  0.769340  0.046755\n",
       "5           6   0.831953  0.775727  0.056225\n",
       "6           7   0.842604  0.751597  0.091007\n",
       "7           8   0.861302  0.751597  0.109705\n",
       "8           9   0.880000  0.743790  0.136210\n",
       "9          10   0.902485  0.735273  0.167212\n",
       "10         11   0.924970  0.732434  0.192536\n",
       "11         12   0.941538  0.728176  0.213362\n",
       "12         13   0.954793  0.733144  0.221649\n",
       "13         14   0.965444  0.731725  0.233719\n",
       "14         15   0.977278  0.735273  0.242005\n",
       "15         16   0.982722  0.719659  0.263063\n",
       "16         17   0.989349  0.723918  0.265431\n",
       "17         18   0.993609  0.728886  0.264724\n",
       "18         19   0.994320  0.716111  0.278209\n",
       "19         20   0.996923  0.723208  0.273715\n",
       "20         21   0.997396  0.721789  0.275608\n",
       "21         22   0.997633  0.726047  0.271586\n",
       "22         23   0.998107  0.723918  0.274189\n",
       "23         24   0.998107  0.723918  0.274189\n",
       "24         25   0.998107  0.723918  0.274189"
      ]
     },
     "execution_count": 41,
     "metadata": {},
     "output_type": "execute_result"
    }
   ],
   "source": [
    "metrics = []\n",
    "for i in range(1,26):\n",
    "    # model\n",
    "    tree = DecisionTreeClassifier(max_depth=i,random_state=42)\n",
    "    tree = tree.fit(Xtr,ytr)\n",
    "    # accuracies\n",
    "    ytr_acc = tree.score(Xtr,ytr)\n",
    "    yv_acc = tree.score(Xv,yv)\n",
    "    output = {\n",
    "        'max_depth':i,\n",
    "        'train_acc':ytr_acc,\n",
    "        'val_acc':yv_acc\n",
    "    }\n",
    "    metrics.append(output)\n",
    "df = pd.DataFrame(metrics)\n",
    "df['diff'] = df.train_acc - df.val_acc\n",
    "df"
   ]
  },
  {
   "cell_type": "code",
   "execution_count": 42,
   "metadata": {},
   "outputs": [
    {
     "data": {
      "text/html": [
       "<div>\n",
       "<style scoped>\n",
       "    .dataframe tbody tr th:only-of-type {\n",
       "        vertical-align: middle;\n",
       "    }\n",
       "\n",
       "    .dataframe tbody tr th {\n",
       "        vertical-align: top;\n",
       "    }\n",
       "\n",
       "    .dataframe thead th {\n",
       "        text-align: right;\n",
       "    }\n",
       "</style>\n",
       "<table border=\"1\" class=\"dataframe\">\n",
       "  <thead>\n",
       "    <tr style=\"text-align: right;\">\n",
       "      <th></th>\n",
       "      <th>max_depth</th>\n",
       "      <th>train_acc</th>\n",
       "      <th>val_acc</th>\n",
       "      <th>diff</th>\n",
       "    </tr>\n",
       "  </thead>\n",
       "  <tbody>\n",
       "    <tr>\n",
       "      <th>1</th>\n",
       "      <td>2</td>\n",
       "      <td>0.792426</td>\n",
       "      <td>0.779986</td>\n",
       "      <td>0.01244</td>\n",
       "    </tr>\n",
       "    <tr>\n",
       "      <th>2</th>\n",
       "      <td>3</td>\n",
       "      <td>0.792426</td>\n",
       "      <td>0.779986</td>\n",
       "      <td>0.01244</td>\n",
       "    </tr>\n",
       "  </tbody>\n",
       "</table>\n",
       "</div>"
      ],
      "text/plain": [
       "   max_depth  train_acc   val_acc     diff\n",
       "1          2   0.792426  0.779986  0.01244\n",
       "2          3   0.792426  0.779986  0.01244"
      ]
     },
     "execution_count": 42,
     "metadata": {},
     "output_type": "execute_result"
    }
   ],
   "source": [
    "df[df.val_acc==df.val_acc.max()]"
   ]
  },
  {
   "cell_type": "code",
   "execution_count": 43,
   "metadata": {},
   "outputs": [
    {
     "data": {
      "text/plain": [
       "Index(['senior_citizen', 'tenure', 'monthly_charges', 'total_charges',\n",
       "       'Female', 'partnered', 'has_dependents', 'has_phone_service',\n",
       "       'does_paperless_billing', 'multiple_lines_No phone service',\n",
       "       'multiple_lines_Yes', 'online_security_No internet service',\n",
       "       'online_security_Yes', 'online_backup_No internet service',\n",
       "       'online_backup_Yes', 'device_protection_No internet service',\n",
       "       'device_protection_Yes', 'tech_support_No internet service',\n",
       "       'tech_support_Yes', 'streaming_tv_No internet service',\n",
       "       'streaming_tv_Yes', 'streaming_movies_No internet service',\n",
       "       'streaming_movies_Yes', 'contract_type_One year',\n",
       "       'contract_type_Two year', 'internet_service_type_Fiber optic',\n",
       "       'internet_service_type_None', 'payment_type_Credit card (automatic)',\n",
       "       'payment_type_Electronic check', 'payment_type_Mailed check'],\n",
       "      dtype='object')"
      ]
     },
     "execution_count": 43,
     "metadata": {},
     "output_type": "execute_result"
    }
   ],
   "source": [
    "Xtr.columns"
   ]
  },
  {
   "cell_type": "code",
   "execution_count": 44,
   "metadata": {},
   "outputs": [],
   "source": [
    "features = ['senior_citizen', 'tenure', 'monthly_charges', 'total_charges',\n",
    "            'Female', 'partnered', 'has_dependents', 'has_phone_service',\n",
    "            'does_paperless_billing', 'multiple_lines_No phone service',\n",
    "            'multiple_lines_Yes', 'online_security_No internet service',\n",
    "            'online_security_Yes', 'online_backup_No internet service',\n",
    "            'online_backup_Yes', 'device_protection_No internet service',\n",
    "            'device_protection_Yes', 'tech_support_No internet service',\n",
    "            'tech_support_Yes', 'streaming_tv_No internet service',\n",
    "            'streaming_tv_Yes', 'streaming_movies_No internet service',\n",
    "            'streaming_movies_Yes', 'contract_type_One year',\n",
    "            'contract_type_Two year', 'internet_service_type_Fiber optic',\n",
    "            'internet_service_type_None', 'payment_type_Credit card (automatic)',\n",
    "            'payment_type_Electronic check', 'payment_type_Mailed check']"
   ]
  },
  {
   "cell_type": "code",
   "execution_count": 45,
   "metadata": {},
   "outputs": [
    {
     "data": {
      "text/html": [
       "<div>\n",
       "<style scoped>\n",
       "    .dataframe tbody tr th:only-of-type {\n",
       "        vertical-align: middle;\n",
       "    }\n",
       "\n",
       "    .dataframe tbody tr th {\n",
       "        vertical-align: top;\n",
       "    }\n",
       "\n",
       "    .dataframe thead th {\n",
       "        text-align: right;\n",
       "    }\n",
       "</style>\n",
       "<table border=\"1\" class=\"dataframe\">\n",
       "  <thead>\n",
       "    <tr style=\"text-align: right;\">\n",
       "      <th></th>\n",
       "      <th>max_depth</th>\n",
       "      <th>train_acc</th>\n",
       "      <th>val_acc</th>\n",
       "      <th>diff</th>\n",
       "    </tr>\n",
       "  </thead>\n",
       "  <tbody>\n",
       "    <tr>\n",
       "      <th>0</th>\n",
       "      <td>1</td>\n",
       "      <td>0.734675</td>\n",
       "      <td>0.734564</td>\n",
       "      <td>0.000111</td>\n",
       "    </tr>\n",
       "    <tr>\n",
       "      <th>1</th>\n",
       "      <td>2</td>\n",
       "      <td>0.792426</td>\n",
       "      <td>0.779986</td>\n",
       "      <td>0.012440</td>\n",
       "    </tr>\n",
       "    <tr>\n",
       "      <th>2</th>\n",
       "      <td>3</td>\n",
       "      <td>0.792426</td>\n",
       "      <td>0.779986</td>\n",
       "      <td>0.012440</td>\n",
       "    </tr>\n",
       "    <tr>\n",
       "      <th>3</th>\n",
       "      <td>4</td>\n",
       "      <td>0.798343</td>\n",
       "      <td>0.770759</td>\n",
       "      <td>0.027584</td>\n",
       "    </tr>\n",
       "    <tr>\n",
       "      <th>4</th>\n",
       "      <td>5</td>\n",
       "      <td>0.816095</td>\n",
       "      <td>0.769340</td>\n",
       "      <td>0.046755</td>\n",
       "    </tr>\n",
       "    <tr>\n",
       "      <th>5</th>\n",
       "      <td>6</td>\n",
       "      <td>0.831953</td>\n",
       "      <td>0.775727</td>\n",
       "      <td>0.056225</td>\n",
       "    </tr>\n",
       "    <tr>\n",
       "      <th>6</th>\n",
       "      <td>7</td>\n",
       "      <td>0.842604</td>\n",
       "      <td>0.751597</td>\n",
       "      <td>0.091007</td>\n",
       "    </tr>\n",
       "    <tr>\n",
       "      <th>7</th>\n",
       "      <td>8</td>\n",
       "      <td>0.861302</td>\n",
       "      <td>0.751597</td>\n",
       "      <td>0.109705</td>\n",
       "    </tr>\n",
       "    <tr>\n",
       "      <th>8</th>\n",
       "      <td>9</td>\n",
       "      <td>0.880000</td>\n",
       "      <td>0.743790</td>\n",
       "      <td>0.136210</td>\n",
       "    </tr>\n",
       "    <tr>\n",
       "      <th>9</th>\n",
       "      <td>10</td>\n",
       "      <td>0.902485</td>\n",
       "      <td>0.735273</td>\n",
       "      <td>0.167212</td>\n",
       "    </tr>\n",
       "    <tr>\n",
       "      <th>10</th>\n",
       "      <td>11</td>\n",
       "      <td>0.924970</td>\n",
       "      <td>0.732434</td>\n",
       "      <td>0.192536</td>\n",
       "    </tr>\n",
       "    <tr>\n",
       "      <th>11</th>\n",
       "      <td>12</td>\n",
       "      <td>0.941538</td>\n",
       "      <td>0.728176</td>\n",
       "      <td>0.213362</td>\n",
       "    </tr>\n",
       "    <tr>\n",
       "      <th>12</th>\n",
       "      <td>13</td>\n",
       "      <td>0.954793</td>\n",
       "      <td>0.733144</td>\n",
       "      <td>0.221649</td>\n",
       "    </tr>\n",
       "    <tr>\n",
       "      <th>13</th>\n",
       "      <td>14</td>\n",
       "      <td>0.965444</td>\n",
       "      <td>0.731725</td>\n",
       "      <td>0.233719</td>\n",
       "    </tr>\n",
       "    <tr>\n",
       "      <th>14</th>\n",
       "      <td>15</td>\n",
       "      <td>0.977278</td>\n",
       "      <td>0.735273</td>\n",
       "      <td>0.242005</td>\n",
       "    </tr>\n",
       "    <tr>\n",
       "      <th>15</th>\n",
       "      <td>16</td>\n",
       "      <td>0.982722</td>\n",
       "      <td>0.719659</td>\n",
       "      <td>0.263063</td>\n",
       "    </tr>\n",
       "    <tr>\n",
       "      <th>16</th>\n",
       "      <td>17</td>\n",
       "      <td>0.989349</td>\n",
       "      <td>0.723918</td>\n",
       "      <td>0.265431</td>\n",
       "    </tr>\n",
       "    <tr>\n",
       "      <th>17</th>\n",
       "      <td>18</td>\n",
       "      <td>0.993609</td>\n",
       "      <td>0.728886</td>\n",
       "      <td>0.264724</td>\n",
       "    </tr>\n",
       "    <tr>\n",
       "      <th>18</th>\n",
       "      <td>19</td>\n",
       "      <td>0.994320</td>\n",
       "      <td>0.716111</td>\n",
       "      <td>0.278209</td>\n",
       "    </tr>\n",
       "    <tr>\n",
       "      <th>19</th>\n",
       "      <td>20</td>\n",
       "      <td>0.996923</td>\n",
       "      <td>0.723208</td>\n",
       "      <td>0.273715</td>\n",
       "    </tr>\n",
       "    <tr>\n",
       "      <th>20</th>\n",
       "      <td>21</td>\n",
       "      <td>0.997396</td>\n",
       "      <td>0.721789</td>\n",
       "      <td>0.275608</td>\n",
       "    </tr>\n",
       "    <tr>\n",
       "      <th>21</th>\n",
       "      <td>22</td>\n",
       "      <td>0.997633</td>\n",
       "      <td>0.726047</td>\n",
       "      <td>0.271586</td>\n",
       "    </tr>\n",
       "    <tr>\n",
       "      <th>22</th>\n",
       "      <td>23</td>\n",
       "      <td>0.998107</td>\n",
       "      <td>0.723918</td>\n",
       "      <td>0.274189</td>\n",
       "    </tr>\n",
       "    <tr>\n",
       "      <th>23</th>\n",
       "      <td>24</td>\n",
       "      <td>0.998107</td>\n",
       "      <td>0.723918</td>\n",
       "      <td>0.274189</td>\n",
       "    </tr>\n",
       "    <tr>\n",
       "      <th>24</th>\n",
       "      <td>25</td>\n",
       "      <td>0.998107</td>\n",
       "      <td>0.723918</td>\n",
       "      <td>0.274189</td>\n",
       "    </tr>\n",
       "  </tbody>\n",
       "</table>\n",
       "</div>"
      ],
      "text/plain": [
       "    max_depth  train_acc   val_acc      diff\n",
       "0           1   0.734675  0.734564  0.000111\n",
       "1           2   0.792426  0.779986  0.012440\n",
       "2           3   0.792426  0.779986  0.012440\n",
       "3           4   0.798343  0.770759  0.027584\n",
       "4           5   0.816095  0.769340  0.046755\n",
       "5           6   0.831953  0.775727  0.056225\n",
       "6           7   0.842604  0.751597  0.091007\n",
       "7           8   0.861302  0.751597  0.109705\n",
       "8           9   0.880000  0.743790  0.136210\n",
       "9          10   0.902485  0.735273  0.167212\n",
       "10         11   0.924970  0.732434  0.192536\n",
       "11         12   0.941538  0.728176  0.213362\n",
       "12         13   0.954793  0.733144  0.221649\n",
       "13         14   0.965444  0.731725  0.233719\n",
       "14         15   0.977278  0.735273  0.242005\n",
       "15         16   0.982722  0.719659  0.263063\n",
       "16         17   0.989349  0.723918  0.265431\n",
       "17         18   0.993609  0.728886  0.264724\n",
       "18         19   0.994320  0.716111  0.278209\n",
       "19         20   0.996923  0.723208  0.273715\n",
       "20         21   0.997396  0.721789  0.275608\n",
       "21         22   0.997633  0.726047  0.271586\n",
       "22         23   0.998107  0.723918  0.274189\n",
       "23         24   0.998107  0.723918  0.274189\n",
       "24         25   0.998107  0.723918  0.274189"
      ]
     },
     "execution_count": 45,
     "metadata": {},
     "output_type": "execute_result"
    }
   ],
   "source": [
    "metrics = []\n",
    "for i in range(1,26):\n",
    "    # model\n",
    "    tree = DecisionTreeClassifier(max_depth=i,random_state=42)\n",
    "    tree = tree.fit(Xtr[features],ytr)\n",
    "    # accuracies\n",
    "    ytr_acc = tree.score(Xtr[features],ytr)\n",
    "    yv_acc = tree.score(Xv[features],yv)\n",
    "    output = {\n",
    "        'max_depth':i,\n",
    "        'train_acc':ytr_acc,\n",
    "        'val_acc':yv_acc\n",
    "    }\n",
    "    metrics.append(output)\n",
    "df = pd.DataFrame(metrics)\n",
    "df['diff'] = df.train_acc - df.val_acc\n",
    "df"
   ]
  },
  {
   "cell_type": "code",
   "execution_count": 46,
   "metadata": {},
   "outputs": [
    {
     "data": {
      "text/html": [
       "<div>\n",
       "<style scoped>\n",
       "    .dataframe tbody tr th:only-of-type {\n",
       "        vertical-align: middle;\n",
       "    }\n",
       "\n",
       "    .dataframe tbody tr th {\n",
       "        vertical-align: top;\n",
       "    }\n",
       "\n",
       "    .dataframe thead th {\n",
       "        text-align: right;\n",
       "    }\n",
       "</style>\n",
       "<table border=\"1\" class=\"dataframe\">\n",
       "  <thead>\n",
       "    <tr style=\"text-align: right;\">\n",
       "      <th></th>\n",
       "      <th>max_depth</th>\n",
       "      <th>train_acc</th>\n",
       "      <th>val_acc</th>\n",
       "      <th>diff</th>\n",
       "    </tr>\n",
       "  </thead>\n",
       "  <tbody>\n",
       "    <tr>\n",
       "      <th>1</th>\n",
       "      <td>2</td>\n",
       "      <td>0.792426</td>\n",
       "      <td>0.779986</td>\n",
       "      <td>0.01244</td>\n",
       "    </tr>\n",
       "    <tr>\n",
       "      <th>2</th>\n",
       "      <td>3</td>\n",
       "      <td>0.792426</td>\n",
       "      <td>0.779986</td>\n",
       "      <td>0.01244</td>\n",
       "    </tr>\n",
       "  </tbody>\n",
       "</table>\n",
       "</div>"
      ],
      "text/plain": [
       "   max_depth  train_acc   val_acc     diff\n",
       "1          2   0.792426  0.779986  0.01244\n",
       "2          3   0.792426  0.779986  0.01244"
      ]
     },
     "execution_count": 46,
     "metadata": {},
     "output_type": "execute_result"
    }
   ],
   "source": [
    "df[df.val_acc==df.val_acc.max()]"
   ]
  },
  {
   "cell_type": "code",
   "execution_count": 47,
   "metadata": {},
   "outputs": [
    {
     "data": {
      "text/plain": [
       "0.794180269694819"
      ]
     },
     "execution_count": 47,
     "metadata": {},
     "output_type": "execute_result"
    }
   ],
   "source": [
    "final_tree = DecisionTreeClassifier(max_depth=2,random_state=42)\n",
    "final_tree = final_tree.fit(Xt,yt)\n",
    "yt_acc = final_tree.score(Xt,yt)\n",
    "yt_acc"
   ]
  },
  {
   "cell_type": "code",
   "execution_count": 48,
   "metadata": {},
   "outputs": [
    {
     "data": {
      "text/plain": [
       "(0.7346745562130178, 0.794180269694819)"
      ]
     },
     "execution_count": 48,
     "metadata": {},
     "output_type": "execute_result"
    }
   ],
   "source": [
    "baseline,yt_acc"
   ]
  },
  {
   "attachments": {},
   "cell_type": "markdown",
   "metadata": {},
   "source": [
    "test titanic w/null-age imputed based on mean"
   ]
  },
  {
   "cell_type": "code",
   "execution_count": 49,
   "metadata": {},
   "outputs": [
    {
     "name": "stdout",
     "output_type": "stream",
     "text": [
      "csv file found and loaded\n",
      "data cleaned and prepped\n",
      "data split\n",
      "train -> (534, 12); 59.93%\n",
      "validate -> (178, 12); 19.98%\n",
      "test -> (179, 12); 20.09%\n"
     ]
    },
    {
     "data": {
      "text/html": [
       "<div>\n",
       "<style scoped>\n",
       "    .dataframe tbody tr th:only-of-type {\n",
       "        vertical-align: middle;\n",
       "    }\n",
       "\n",
       "    .dataframe tbody tr th {\n",
       "        vertical-align: top;\n",
       "    }\n",
       "\n",
       "    .dataframe thead th {\n",
       "        text-align: right;\n",
       "    }\n",
       "</style>\n",
       "<table border=\"1\" class=\"dataframe\">\n",
       "  <thead>\n",
       "    <tr style=\"text-align: right;\">\n",
       "      <th></th>\n",
       "      <th>survived</th>\n",
       "      <th>pclass</th>\n",
       "      <th>sex</th>\n",
       "      <th>age</th>\n",
       "      <th>sibsp</th>\n",
       "      <th>parch</th>\n",
       "      <th>fare</th>\n",
       "      <th>embarked</th>\n",
       "      <th>alone</th>\n",
       "      <th>sex_male</th>\n",
       "      <th>embarked_Q</th>\n",
       "      <th>embarked_S</th>\n",
       "    </tr>\n",
       "  </thead>\n",
       "  <tbody>\n",
       "    <tr>\n",
       "      <th>330</th>\n",
       "      <td>1</td>\n",
       "      <td>3</td>\n",
       "      <td>female</td>\n",
       "      <td>29.699118</td>\n",
       "      <td>2</td>\n",
       "      <td>0</td>\n",
       "      <td>23.25</td>\n",
       "      <td>Q</td>\n",
       "      <td>0</td>\n",
       "      <td>0</td>\n",
       "      <td>1</td>\n",
       "      <td>0</td>\n",
       "    </tr>\n",
       "  </tbody>\n",
       "</table>\n",
       "</div>"
      ],
      "text/plain": [
       "     survived  pclass     sex        age  sibsp  parch   fare embarked  alone  \\\n",
       "330         1       3  female  29.699118      2      0  23.25        Q      0   \n",
       "\n",
       "     sex_male  embarked_Q  embarked_S  \n",
       "330         0           1           0  "
      ]
     },
     "execution_count": 49,
     "metadata": {},
     "output_type": "execute_result"
    }
   ],
   "source": [
    "t_age = get_titanic_data()\n",
    "t_age = prep_titanic_age(t_age)\n",
    "ttr,tv,tt = split_data(t_age,'survived')\n",
    "ttr.sample()"
   ]
  },
  {
   "cell_type": "code",
   "execution_count": 50,
   "metadata": {},
   "outputs": [],
   "source": [
    "Xtr = ttr.drop(columns=['survived','sex','embarked'])\n",
    "Xv = tv.drop(columns=['survived','sex','embarked'])\n",
    "Xt = tt.drop(columns=['survived','sex','embarked'])\n",
    "ytr = ttr.survived\n",
    "yv = tv.survived\n",
    "yt = tt.survived"
   ]
  },
  {
   "cell_type": "code",
   "execution_count": 51,
   "metadata": {},
   "outputs": [
    {
     "data": {
      "text/html": [
       "<div>\n",
       "<style scoped>\n",
       "    .dataframe tbody tr th:only-of-type {\n",
       "        vertical-align: middle;\n",
       "    }\n",
       "\n",
       "    .dataframe tbody tr th {\n",
       "        vertical-align: top;\n",
       "    }\n",
       "\n",
       "    .dataframe thead th {\n",
       "        text-align: right;\n",
       "    }\n",
       "</style>\n",
       "<table border=\"1\" class=\"dataframe\">\n",
       "  <thead>\n",
       "    <tr style=\"text-align: right;\">\n",
       "      <th></th>\n",
       "      <th>pclass</th>\n",
       "      <th>age</th>\n",
       "      <th>sibsp</th>\n",
       "      <th>parch</th>\n",
       "      <th>fare</th>\n",
       "      <th>alone</th>\n",
       "      <th>sex_male</th>\n",
       "      <th>embarked_Q</th>\n",
       "      <th>embarked_S</th>\n",
       "    </tr>\n",
       "  </thead>\n",
       "  <tbody>\n",
       "    <tr>\n",
       "      <th>227</th>\n",
       "      <td>3</td>\n",
       "      <td>20.5</td>\n",
       "      <td>0</td>\n",
       "      <td>0</td>\n",
       "      <td>7.25</td>\n",
       "      <td>1</td>\n",
       "      <td>1</td>\n",
       "      <td>0</td>\n",
       "      <td>1</td>\n",
       "    </tr>\n",
       "  </tbody>\n",
       "</table>\n",
       "</div>"
      ],
      "text/plain": [
       "     pclass   age  sibsp  parch  fare  alone  sex_male  embarked_Q  embarked_S\n",
       "227       3  20.5      0      0  7.25      1         1           0           1"
      ]
     },
     "execution_count": 51,
     "metadata": {},
     "output_type": "execute_result"
    }
   ],
   "source": [
    "Xtr.sample()"
   ]
  },
  {
   "cell_type": "code",
   "execution_count": 52,
   "metadata": {},
   "outputs": [
    {
     "data": {
      "text/plain": [
       "697    1\n",
       "Name: survived, dtype: int64"
      ]
     },
     "execution_count": 52,
     "metadata": {},
     "output_type": "execute_result"
    }
   ],
   "source": [
    "ytr.sample()"
   ]
  },
  {
   "cell_type": "code",
   "execution_count": 53,
   "metadata": {},
   "outputs": [
    {
     "data": {
      "text/plain": [
       "0.6161048689138576"
      ]
     },
     "execution_count": 53,
     "metadata": {},
     "output_type": "execute_result"
    }
   ],
   "source": [
    "baseline = (ytr==0).mean()\n",
    "baseline"
   ]
  },
  {
   "cell_type": "code",
   "execution_count": 54,
   "metadata": {},
   "outputs": [
    {
     "data": {
      "text/html": [
       "<div>\n",
       "<style scoped>\n",
       "    .dataframe tbody tr th:only-of-type {\n",
       "        vertical-align: middle;\n",
       "    }\n",
       "\n",
       "    .dataframe tbody tr th {\n",
       "        vertical-align: top;\n",
       "    }\n",
       "\n",
       "    .dataframe thead th {\n",
       "        text-align: right;\n",
       "    }\n",
       "</style>\n",
       "<table border=\"1\" class=\"dataframe\">\n",
       "  <thead>\n",
       "    <tr style=\"text-align: right;\">\n",
       "      <th></th>\n",
       "      <th>max_depth</th>\n",
       "      <th>train_acc</th>\n",
       "      <th>val_acc</th>\n",
       "      <th>diff</th>\n",
       "    </tr>\n",
       "  </thead>\n",
       "  <tbody>\n",
       "    <tr>\n",
       "      <th>0</th>\n",
       "      <td>1</td>\n",
       "      <td>0.786517</td>\n",
       "      <td>0.797753</td>\n",
       "      <td>-0.011236</td>\n",
       "    </tr>\n",
       "    <tr>\n",
       "      <th>1</th>\n",
       "      <td>2</td>\n",
       "      <td>0.803371</td>\n",
       "      <td>0.808989</td>\n",
       "      <td>-0.005618</td>\n",
       "    </tr>\n",
       "    <tr>\n",
       "      <th>2</th>\n",
       "      <td>3</td>\n",
       "      <td>0.825843</td>\n",
       "      <td>0.848315</td>\n",
       "      <td>-0.022472</td>\n",
       "    </tr>\n",
       "    <tr>\n",
       "      <th>3</th>\n",
       "      <td>4</td>\n",
       "      <td>0.842697</td>\n",
       "      <td>0.831461</td>\n",
       "      <td>0.011236</td>\n",
       "    </tr>\n",
       "    <tr>\n",
       "      <th>4</th>\n",
       "      <td>5</td>\n",
       "      <td>0.859551</td>\n",
       "      <td>0.831461</td>\n",
       "      <td>0.028090</td>\n",
       "    </tr>\n",
       "    <tr>\n",
       "      <th>5</th>\n",
       "      <td>6</td>\n",
       "      <td>0.872659</td>\n",
       "      <td>0.831461</td>\n",
       "      <td>0.041199</td>\n",
       "    </tr>\n",
       "    <tr>\n",
       "      <th>6</th>\n",
       "      <td>7</td>\n",
       "      <td>0.891386</td>\n",
       "      <td>0.808989</td>\n",
       "      <td>0.082397</td>\n",
       "    </tr>\n",
       "    <tr>\n",
       "      <th>7</th>\n",
       "      <td>8</td>\n",
       "      <td>0.910112</td>\n",
       "      <td>0.842697</td>\n",
       "      <td>0.067416</td>\n",
       "    </tr>\n",
       "    <tr>\n",
       "      <th>8</th>\n",
       "      <td>9</td>\n",
       "      <td>0.934457</td>\n",
       "      <td>0.808989</td>\n",
       "      <td>0.125468</td>\n",
       "    </tr>\n",
       "    <tr>\n",
       "      <th>9</th>\n",
       "      <td>10</td>\n",
       "      <td>0.945693</td>\n",
       "      <td>0.831461</td>\n",
       "      <td>0.114232</td>\n",
       "    </tr>\n",
       "    <tr>\n",
       "      <th>10</th>\n",
       "      <td>11</td>\n",
       "      <td>0.956929</td>\n",
       "      <td>0.780899</td>\n",
       "      <td>0.176030</td>\n",
       "    </tr>\n",
       "    <tr>\n",
       "      <th>11</th>\n",
       "      <td>12</td>\n",
       "      <td>0.964419</td>\n",
       "      <td>0.808989</td>\n",
       "      <td>0.155431</td>\n",
       "    </tr>\n",
       "    <tr>\n",
       "      <th>12</th>\n",
       "      <td>13</td>\n",
       "      <td>0.970037</td>\n",
       "      <td>0.814607</td>\n",
       "      <td>0.155431</td>\n",
       "    </tr>\n",
       "    <tr>\n",
       "      <th>13</th>\n",
       "      <td>14</td>\n",
       "      <td>0.979401</td>\n",
       "      <td>0.792135</td>\n",
       "      <td>0.187266</td>\n",
       "    </tr>\n",
       "    <tr>\n",
       "      <th>14</th>\n",
       "      <td>15</td>\n",
       "      <td>0.986891</td>\n",
       "      <td>0.803371</td>\n",
       "      <td>0.183521</td>\n",
       "    </tr>\n",
       "    <tr>\n",
       "      <th>15</th>\n",
       "      <td>16</td>\n",
       "      <td>0.986891</td>\n",
       "      <td>0.803371</td>\n",
       "      <td>0.183521</td>\n",
       "    </tr>\n",
       "    <tr>\n",
       "      <th>16</th>\n",
       "      <td>17</td>\n",
       "      <td>0.986891</td>\n",
       "      <td>0.803371</td>\n",
       "      <td>0.183521</td>\n",
       "    </tr>\n",
       "    <tr>\n",
       "      <th>17</th>\n",
       "      <td>18</td>\n",
       "      <td>0.986891</td>\n",
       "      <td>0.803371</td>\n",
       "      <td>0.183521</td>\n",
       "    </tr>\n",
       "    <tr>\n",
       "      <th>18</th>\n",
       "      <td>19</td>\n",
       "      <td>0.986891</td>\n",
       "      <td>0.803371</td>\n",
       "      <td>0.183521</td>\n",
       "    </tr>\n",
       "    <tr>\n",
       "      <th>19</th>\n",
       "      <td>20</td>\n",
       "      <td>0.986891</td>\n",
       "      <td>0.803371</td>\n",
       "      <td>0.183521</td>\n",
       "    </tr>\n",
       "  </tbody>\n",
       "</table>\n",
       "</div>"
      ],
      "text/plain": [
       "    max_depth  train_acc   val_acc      diff\n",
       "0           1   0.786517  0.797753 -0.011236\n",
       "1           2   0.803371  0.808989 -0.005618\n",
       "2           3   0.825843  0.848315 -0.022472\n",
       "3           4   0.842697  0.831461  0.011236\n",
       "4           5   0.859551  0.831461  0.028090\n",
       "5           6   0.872659  0.831461  0.041199\n",
       "6           7   0.891386  0.808989  0.082397\n",
       "7           8   0.910112  0.842697  0.067416\n",
       "8           9   0.934457  0.808989  0.125468\n",
       "9          10   0.945693  0.831461  0.114232\n",
       "10         11   0.956929  0.780899  0.176030\n",
       "11         12   0.964419  0.808989  0.155431\n",
       "12         13   0.970037  0.814607  0.155431\n",
       "13         14   0.979401  0.792135  0.187266\n",
       "14         15   0.986891  0.803371  0.183521\n",
       "15         16   0.986891  0.803371  0.183521\n",
       "16         17   0.986891  0.803371  0.183521\n",
       "17         18   0.986891  0.803371  0.183521\n",
       "18         19   0.986891  0.803371  0.183521\n",
       "19         20   0.986891  0.803371  0.183521"
      ]
     },
     "execution_count": 54,
     "metadata": {},
     "output_type": "execute_result"
    }
   ],
   "source": [
    "metrics = []\n",
    "for i in range(1,21):\n",
    "    # model\n",
    "    tree = DecisionTreeClassifier(max_depth=i,random_state=42)\n",
    "    tree = tree.fit(Xtr,ytr)\n",
    "    # accuracies\n",
    "    ytr_pred = tree.score(Xtr,ytr)\n",
    "    yv_pred = tree.score(Xv,yv)\n",
    "    # table-ize\n",
    "    output = {\n",
    "        'max_depth':i,\n",
    "        'train_acc':ytr_pred,\n",
    "        'val_acc':yv_pred\n",
    "    }\n",
    "    metrics.append(output)\n",
    "df = pd.DataFrame(metrics)\n",
    "df['diff'] = df.train_acc - df.val_acc\n",
    "df"
   ]
  },
  {
   "cell_type": "code",
   "execution_count": 55,
   "metadata": {},
   "outputs": [
    {
     "data": {
      "text/html": [
       "<div>\n",
       "<style scoped>\n",
       "    .dataframe tbody tr th:only-of-type {\n",
       "        vertical-align: middle;\n",
       "    }\n",
       "\n",
       "    .dataframe tbody tr th {\n",
       "        vertical-align: top;\n",
       "    }\n",
       "\n",
       "    .dataframe thead th {\n",
       "        text-align: right;\n",
       "    }\n",
       "</style>\n",
       "<table border=\"1\" class=\"dataframe\">\n",
       "  <thead>\n",
       "    <tr style=\"text-align: right;\">\n",
       "      <th></th>\n",
       "      <th>max_depth</th>\n",
       "      <th>train_acc</th>\n",
       "      <th>val_acc</th>\n",
       "      <th>diff</th>\n",
       "    </tr>\n",
       "  </thead>\n",
       "  <tbody>\n",
       "    <tr>\n",
       "      <th>2</th>\n",
       "      <td>3</td>\n",
       "      <td>0.825843</td>\n",
       "      <td>0.848315</td>\n",
       "      <td>-0.022472</td>\n",
       "    </tr>\n",
       "  </tbody>\n",
       "</table>\n",
       "</div>"
      ],
      "text/plain": [
       "   max_depth  train_acc   val_acc      diff\n",
       "2          3   0.825843  0.848315 -0.022472"
      ]
     },
     "execution_count": 55,
     "metadata": {},
     "output_type": "execute_result"
    }
   ],
   "source": [
    "df[df.val_acc==df.val_acc.max()]"
   ]
  },
  {
   "cell_type": "code",
   "execution_count": 56,
   "metadata": {},
   "outputs": [
    {
     "data": {
      "text/plain": [
       "0.8324022346368715"
      ]
     },
     "execution_count": 56,
     "metadata": {},
     "output_type": "execute_result"
    }
   ],
   "source": [
    "final_tree = DecisionTreeClassifier(max_depth=3,random_state=42)\n",
    "final_tree = final_tree.fit(Xt,yt)\n",
    "yt_acc = final_tree.score(Xt,yt)\n",
    "yt_acc"
   ]
  },
  {
   "cell_type": "code",
   "execution_count": 57,
   "metadata": {},
   "outputs": [
    {
     "data": {
      "text/plain": [
       "(0.6161048689138576, 0.8324022346368715)"
      ]
     },
     "execution_count": 57,
     "metadata": {},
     "output_type": "execute_result"
    }
   ],
   "source": [
    "baseline,yt_acc"
   ]
  },
  {
   "attachments": {},
   "cell_type": "markdown",
   "metadata": {},
   "source": [
    "try titanic w/null-age dropped but non-null-age kept"
   ]
  },
  {
   "cell_type": "code",
   "execution_count": 58,
   "metadata": {},
   "outputs": [
    {
     "name": "stdout",
     "output_type": "stream",
     "text": [
      "csv file found and loaded\n",
      "data split\n",
      "train -> (428, 12); 59.94%\n",
      "validate -> (143, 12); 20.03%\n",
      "test -> (143, 12); 20.03%\n"
     ]
    },
    {
     "data": {
      "text/html": [
       "<div>\n",
       "<style scoped>\n",
       "    .dataframe tbody tr th:only-of-type {\n",
       "        vertical-align: middle;\n",
       "    }\n",
       "\n",
       "    .dataframe tbody tr th {\n",
       "        vertical-align: top;\n",
       "    }\n",
       "\n",
       "    .dataframe thead th {\n",
       "        text-align: right;\n",
       "    }\n",
       "</style>\n",
       "<table border=\"1\" class=\"dataframe\">\n",
       "  <thead>\n",
       "    <tr style=\"text-align: right;\">\n",
       "      <th></th>\n",
       "      <th>survived</th>\n",
       "      <th>pclass</th>\n",
       "      <th>sex</th>\n",
       "      <th>age</th>\n",
       "      <th>sibsp</th>\n",
       "      <th>parch</th>\n",
       "      <th>fare</th>\n",
       "      <th>embarked</th>\n",
       "      <th>alone</th>\n",
       "      <th>sex_male</th>\n",
       "      <th>embarked_Q</th>\n",
       "      <th>embarked_S</th>\n",
       "    </tr>\n",
       "  </thead>\n",
       "  <tbody>\n",
       "    <tr>\n",
       "      <th>228</th>\n",
       "      <td>0</td>\n",
       "      <td>2</td>\n",
       "      <td>male</td>\n",
       "      <td>18.0</td>\n",
       "      <td>0</td>\n",
       "      <td>0</td>\n",
       "      <td>13.0</td>\n",
       "      <td>S</td>\n",
       "      <td>1</td>\n",
       "      <td>1</td>\n",
       "      <td>0</td>\n",
       "      <td>1</td>\n",
       "    </tr>\n",
       "  </tbody>\n",
       "</table>\n",
       "</div>"
      ],
      "text/plain": [
       "     survived  pclass   sex   age  sibsp  parch  fare embarked  alone  \\\n",
       "228         0       2  male  18.0      0      0  13.0        S      1   \n",
       "\n",
       "     sex_male  embarked_Q  embarked_S  \n",
       "228         1           0           1  "
      ]
     },
     "execution_count": 58,
     "metadata": {},
     "output_type": "execute_result"
    }
   ],
   "source": [
    "df = get_titanic_data()\n",
    "# t_age = prep_titanic_age(t_age)\n",
    "df = df.drop(columns=['class','deck','embark_town','passenger_id'])\n",
    "df['embarked'] = df.embarked.fillna(value='S')\n",
    "df = df.dropna()\n",
    "dummy_df = pd.get_dummies(df[['sex','embarked']], dummy_na=False, drop_first=True)\n",
    "df = pd.concat([df, dummy_df], axis=1)\n",
    "ttr,tv,tt = split_data(df,'survived')\n",
    "ttr.sample()"
   ]
  },
  {
   "cell_type": "code",
   "execution_count": 59,
   "metadata": {},
   "outputs": [],
   "source": [
    "Xtr = ttr.drop(columns=['survived','sex','embarked'])\n",
    "Xv = tv.drop(columns=['survived','sex','embarked'])\n",
    "Xt = tt.drop(columns=['survived','sex','embarked'])\n",
    "ytr = ttr.survived\n",
    "yv = tv.survived\n",
    "yt = tt.survived"
   ]
  },
  {
   "cell_type": "code",
   "execution_count": 60,
   "metadata": {},
   "outputs": [
    {
     "data": {
      "text/html": [
       "<div>\n",
       "<style scoped>\n",
       "    .dataframe tbody tr th:only-of-type {\n",
       "        vertical-align: middle;\n",
       "    }\n",
       "\n",
       "    .dataframe tbody tr th {\n",
       "        vertical-align: top;\n",
       "    }\n",
       "\n",
       "    .dataframe thead th {\n",
       "        text-align: right;\n",
       "    }\n",
       "</style>\n",
       "<table border=\"1\" class=\"dataframe\">\n",
       "  <thead>\n",
       "    <tr style=\"text-align: right;\">\n",
       "      <th></th>\n",
       "      <th>pclass</th>\n",
       "      <th>age</th>\n",
       "      <th>sibsp</th>\n",
       "      <th>parch</th>\n",
       "      <th>fare</th>\n",
       "      <th>alone</th>\n",
       "      <th>sex_male</th>\n",
       "      <th>embarked_Q</th>\n",
       "      <th>embarked_S</th>\n",
       "    </tr>\n",
       "  </thead>\n",
       "  <tbody>\n",
       "    <tr>\n",
       "      <th>883</th>\n",
       "      <td>2</td>\n",
       "      <td>28.0</td>\n",
       "      <td>0</td>\n",
       "      <td>0</td>\n",
       "      <td>10.5</td>\n",
       "      <td>1</td>\n",
       "      <td>1</td>\n",
       "      <td>0</td>\n",
       "      <td>1</td>\n",
       "    </tr>\n",
       "  </tbody>\n",
       "</table>\n",
       "</div>"
      ],
      "text/plain": [
       "     pclass   age  sibsp  parch  fare  alone  sex_male  embarked_Q  embarked_S\n",
       "883       2  28.0      0      0  10.5      1         1           0           1"
      ]
     },
     "execution_count": 60,
     "metadata": {},
     "output_type": "execute_result"
    }
   ],
   "source": [
    "Xtr.sample()"
   ]
  },
  {
   "cell_type": "code",
   "execution_count": 61,
   "metadata": {},
   "outputs": [
    {
     "data": {
      "text/plain": [
       "802    1\n",
       "Name: survived, dtype: int64"
      ]
     },
     "execution_count": 61,
     "metadata": {},
     "output_type": "execute_result"
    }
   ],
   "source": [
    "ytr.sample()"
   ]
  },
  {
   "cell_type": "code",
   "execution_count": 62,
   "metadata": {},
   "outputs": [
    {
     "data": {
      "text/plain": [
       "0.5934579439252337"
      ]
     },
     "execution_count": 62,
     "metadata": {},
     "output_type": "execute_result"
    }
   ],
   "source": [
    "baseline = (ytr==0).mean()\n",
    "baseline"
   ]
  },
  {
   "cell_type": "code",
   "execution_count": 63,
   "metadata": {},
   "outputs": [
    {
     "data": {
      "text/html": [
       "<div>\n",
       "<style scoped>\n",
       "    .dataframe tbody tr th:only-of-type {\n",
       "        vertical-align: middle;\n",
       "    }\n",
       "\n",
       "    .dataframe tbody tr th {\n",
       "        vertical-align: top;\n",
       "    }\n",
       "\n",
       "    .dataframe thead th {\n",
       "        text-align: right;\n",
       "    }\n",
       "</style>\n",
       "<table border=\"1\" class=\"dataframe\">\n",
       "  <thead>\n",
       "    <tr style=\"text-align: right;\">\n",
       "      <th></th>\n",
       "      <th>max_depth</th>\n",
       "      <th>train_acc</th>\n",
       "      <th>val_acc</th>\n",
       "      <th>diff</th>\n",
       "    </tr>\n",
       "  </thead>\n",
       "  <tbody>\n",
       "    <tr>\n",
       "      <th>0</th>\n",
       "      <td>1</td>\n",
       "      <td>0.782710</td>\n",
       "      <td>0.769231</td>\n",
       "      <td>0.013480</td>\n",
       "    </tr>\n",
       "    <tr>\n",
       "      <th>1</th>\n",
       "      <td>2</td>\n",
       "      <td>0.810748</td>\n",
       "      <td>0.769231</td>\n",
       "      <td>0.041517</td>\n",
       "    </tr>\n",
       "    <tr>\n",
       "      <th>2</th>\n",
       "      <td>3</td>\n",
       "      <td>0.836449</td>\n",
       "      <td>0.804196</td>\n",
       "      <td>0.032253</td>\n",
       "    </tr>\n",
       "    <tr>\n",
       "      <th>3</th>\n",
       "      <td>4</td>\n",
       "      <td>0.857477</td>\n",
       "      <td>0.776224</td>\n",
       "      <td>0.081253</td>\n",
       "    </tr>\n",
       "    <tr>\n",
       "      <th>4</th>\n",
       "      <td>5</td>\n",
       "      <td>0.866822</td>\n",
       "      <td>0.769231</td>\n",
       "      <td>0.097592</td>\n",
       "    </tr>\n",
       "    <tr>\n",
       "      <th>5</th>\n",
       "      <td>6</td>\n",
       "      <td>0.885514</td>\n",
       "      <td>0.783217</td>\n",
       "      <td>0.102297</td>\n",
       "    </tr>\n",
       "    <tr>\n",
       "      <th>6</th>\n",
       "      <td>7</td>\n",
       "      <td>0.906542</td>\n",
       "      <td>0.783217</td>\n",
       "      <td>0.123325</td>\n",
       "    </tr>\n",
       "    <tr>\n",
       "      <th>7</th>\n",
       "      <td>8</td>\n",
       "      <td>0.922897</td>\n",
       "      <td>0.783217</td>\n",
       "      <td>0.139680</td>\n",
       "    </tr>\n",
       "    <tr>\n",
       "      <th>8</th>\n",
       "      <td>9</td>\n",
       "      <td>0.946262</td>\n",
       "      <td>0.776224</td>\n",
       "      <td>0.170038</td>\n",
       "    </tr>\n",
       "    <tr>\n",
       "      <th>9</th>\n",
       "      <td>10</td>\n",
       "      <td>0.957944</td>\n",
       "      <td>0.769231</td>\n",
       "      <td>0.188713</td>\n",
       "    </tr>\n",
       "    <tr>\n",
       "      <th>10</th>\n",
       "      <td>11</td>\n",
       "      <td>0.964953</td>\n",
       "      <td>0.783217</td>\n",
       "      <td>0.181736</td>\n",
       "    </tr>\n",
       "    <tr>\n",
       "      <th>11</th>\n",
       "      <td>12</td>\n",
       "      <td>0.971963</td>\n",
       "      <td>0.762238</td>\n",
       "      <td>0.209725</td>\n",
       "    </tr>\n",
       "    <tr>\n",
       "      <th>12</th>\n",
       "      <td>13</td>\n",
       "      <td>0.974299</td>\n",
       "      <td>0.762238</td>\n",
       "      <td>0.212061</td>\n",
       "    </tr>\n",
       "    <tr>\n",
       "      <th>13</th>\n",
       "      <td>14</td>\n",
       "      <td>0.981308</td>\n",
       "      <td>0.762238</td>\n",
       "      <td>0.219071</td>\n",
       "    </tr>\n",
       "    <tr>\n",
       "      <th>14</th>\n",
       "      <td>15</td>\n",
       "      <td>0.983645</td>\n",
       "      <td>0.762238</td>\n",
       "      <td>0.221407</td>\n",
       "    </tr>\n",
       "    <tr>\n",
       "      <th>15</th>\n",
       "      <td>16</td>\n",
       "      <td>0.983645</td>\n",
       "      <td>0.762238</td>\n",
       "      <td>0.221407</td>\n",
       "    </tr>\n",
       "    <tr>\n",
       "      <th>16</th>\n",
       "      <td>17</td>\n",
       "      <td>0.983645</td>\n",
       "      <td>0.762238</td>\n",
       "      <td>0.221407</td>\n",
       "    </tr>\n",
       "    <tr>\n",
       "      <th>17</th>\n",
       "      <td>18</td>\n",
       "      <td>0.985981</td>\n",
       "      <td>0.762238</td>\n",
       "      <td>0.223744</td>\n",
       "    </tr>\n",
       "    <tr>\n",
       "      <th>18</th>\n",
       "      <td>19</td>\n",
       "      <td>0.985981</td>\n",
       "      <td>0.762238</td>\n",
       "      <td>0.223744</td>\n",
       "    </tr>\n",
       "    <tr>\n",
       "      <th>19</th>\n",
       "      <td>20</td>\n",
       "      <td>0.988318</td>\n",
       "      <td>0.762238</td>\n",
       "      <td>0.226080</td>\n",
       "    </tr>\n",
       "  </tbody>\n",
       "</table>\n",
       "</div>"
      ],
      "text/plain": [
       "    max_depth  train_acc   val_acc      diff\n",
       "0           1   0.782710  0.769231  0.013480\n",
       "1           2   0.810748  0.769231  0.041517\n",
       "2           3   0.836449  0.804196  0.032253\n",
       "3           4   0.857477  0.776224  0.081253\n",
       "4           5   0.866822  0.769231  0.097592\n",
       "5           6   0.885514  0.783217  0.102297\n",
       "6           7   0.906542  0.783217  0.123325\n",
       "7           8   0.922897  0.783217  0.139680\n",
       "8           9   0.946262  0.776224  0.170038\n",
       "9          10   0.957944  0.769231  0.188713\n",
       "10         11   0.964953  0.783217  0.181736\n",
       "11         12   0.971963  0.762238  0.209725\n",
       "12         13   0.974299  0.762238  0.212061\n",
       "13         14   0.981308  0.762238  0.219071\n",
       "14         15   0.983645  0.762238  0.221407\n",
       "15         16   0.983645  0.762238  0.221407\n",
       "16         17   0.983645  0.762238  0.221407\n",
       "17         18   0.985981  0.762238  0.223744\n",
       "18         19   0.985981  0.762238  0.223744\n",
       "19         20   0.988318  0.762238  0.226080"
      ]
     },
     "execution_count": 63,
     "metadata": {},
     "output_type": "execute_result"
    }
   ],
   "source": [
    "metrics = []\n",
    "for i in range(1,21):\n",
    "    # model\n",
    "    tree = DecisionTreeClassifier(max_depth=i,random_state=42)\n",
    "    tree = tree.fit(Xtr,ytr)\n",
    "    # accuracies\n",
    "    ytr_pred = tree.score(Xtr,ytr)\n",
    "    yv_pred = tree.score(Xv,yv)\n",
    "    # table-ize\n",
    "    output = {\n",
    "        'max_depth':i,\n",
    "        'train_acc':ytr_pred,\n",
    "        'val_acc':yv_pred\n",
    "    }\n",
    "    metrics.append(output)\n",
    "df = pd.DataFrame(metrics)\n",
    "df['diff'] = df.train_acc - df.val_acc\n",
    "df"
   ]
  },
  {
   "cell_type": "code",
   "execution_count": 64,
   "metadata": {},
   "outputs": [
    {
     "data": {
      "text/html": [
       "<div>\n",
       "<style scoped>\n",
       "    .dataframe tbody tr th:only-of-type {\n",
       "        vertical-align: middle;\n",
       "    }\n",
       "\n",
       "    .dataframe tbody tr th {\n",
       "        vertical-align: top;\n",
       "    }\n",
       "\n",
       "    .dataframe thead th {\n",
       "        text-align: right;\n",
       "    }\n",
       "</style>\n",
       "<table border=\"1\" class=\"dataframe\">\n",
       "  <thead>\n",
       "    <tr style=\"text-align: right;\">\n",
       "      <th></th>\n",
       "      <th>max_depth</th>\n",
       "      <th>train_acc</th>\n",
       "      <th>val_acc</th>\n",
       "      <th>diff</th>\n",
       "    </tr>\n",
       "  </thead>\n",
       "  <tbody>\n",
       "    <tr>\n",
       "      <th>2</th>\n",
       "      <td>3</td>\n",
       "      <td>0.836449</td>\n",
       "      <td>0.804196</td>\n",
       "      <td>0.032253</td>\n",
       "    </tr>\n",
       "  </tbody>\n",
       "</table>\n",
       "</div>"
      ],
      "text/plain": [
       "   max_depth  train_acc   val_acc      diff\n",
       "2          3   0.836449  0.804196  0.032253"
      ]
     },
     "execution_count": 64,
     "metadata": {},
     "output_type": "execute_result"
    }
   ],
   "source": [
    "df[df.val_acc==df.val_acc.max()]"
   ]
  },
  {
   "cell_type": "code",
   "execution_count": 65,
   "metadata": {},
   "outputs": [
    {
     "data": {
      "text/plain": [
       "0.8531468531468531"
      ]
     },
     "execution_count": 65,
     "metadata": {},
     "output_type": "execute_result"
    }
   ],
   "source": [
    "final_tree = DecisionTreeClassifier(max_depth=3,random_state=42)\n",
    "final_tree = final_tree.fit(Xt,yt)\n",
    "yt_acc = final_tree.score(Xt,yt)\n",
    "yt_acc"
   ]
  },
  {
   "cell_type": "code",
   "execution_count": 66,
   "metadata": {},
   "outputs": [
    {
     "data": {
      "text/plain": [
       "(0.5934579439252337, 0.8531468531468531)"
      ]
     },
     "execution_count": 66,
     "metadata": {},
     "output_type": "execute_result"
    }
   ],
   "source": [
    "baseline,yt_acc"
   ]
  },
  {
   "cell_type": "code",
   "execution_count": null,
   "metadata": {},
   "outputs": [],
   "source": []
  },
  {
   "cell_type": "code",
   "execution_count": null,
   "metadata": {},
   "outputs": [],
   "source": []
  }
 ],
 "metadata": {
  "kernelspec": {
   "display_name": "base",
   "language": "python",
   "name": "python3"
  },
  "language_info": {
   "codemirror_mode": {
    "name": "ipython",
    "version": 3
   },
   "file_extension": ".py",
   "mimetype": "text/x-python",
   "name": "python",
   "nbconvert_exporter": "python",
   "pygments_lexer": "ipython3",
   "version": "3.9.13"
  },
  "orig_nbformat": 4
 },
 "nbformat": 4,
 "nbformat_minor": 2
}
